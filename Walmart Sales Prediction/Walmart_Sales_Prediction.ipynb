{
 "cells": [
  {
   "cell_type": "markdown",
   "metadata": {},
   "source": [
    "## Data Loading"
   ]
  },
  {
   "cell_type": "markdown",
   "metadata": {},
   "source": [
    "Importing the necessary libraries, like pandas, numpy and some plotting libraries such as matplotlib and seaborn"
   ]
  },
  {
   "cell_type": "code",
   "execution_count": 1,
   "metadata": {
    "id": "lI2v1okvKuij"
   },
   "outputs": [],
   "source": [
    "import pandas as pd\n",
    "import numpy as np \n",
    "import matplotlib\n",
    "import matplotlib.pyplot as plt\n",
    "import seaborn as sns\n",
    "%matplotlib inline "
   ]
  },
  {
   "cell_type": "markdown",
   "metadata": {},
   "source": [
    "Set the default font size, figure size and the grid in the plot"
   ]
  },
  {
   "cell_type": "code",
   "execution_count": 2,
   "metadata": {
    "id": "s8ezED7IHvPI"
   },
   "outputs": [],
   "source": [
    "sns.set_style('darkgrid')\n",
    "matplotlib.rcParams['font.size'] = 14\n",
    "matplotlib.rcParams['figure.figsize'] = (10, 6)\n",
    "matplotlib.rcParams['figure.facecolor'] = '#00000000'"
   ]
  },
  {
   "cell_type": "markdown",
   "metadata": {
    "id": "h0njd46PH47d"
   },
   "source": [
    "Reading of data as a pandas dataframe and named as **df**"
   ]
  },
  {
   "cell_type": "code",
   "execution_count": 3,
   "metadata": {
    "id": "4WA1PYlpHxYX"
   },
   "outputs": [],
   "source": [
    "df = pd.read_csv('Walmart.csv')"
   ]
  },
  {
   "cell_type": "code",
   "execution_count": 4,
   "metadata": {
    "colab": {
     "base_uri": "https://localhost:8080/",
     "height": 424
    },
    "id": "iFsIgIxlH4S7",
    "outputId": "76fdf6c5-df19-440a-8a7a-61c5478340f4"
   },
   "outputs": [
    {
     "data": {
      "text/html": [
       "<div>\n",
       "<style scoped>\n",
       "    .dataframe tbody tr th:only-of-type {\n",
       "        vertical-align: middle;\n",
       "    }\n",
       "\n",
       "    .dataframe tbody tr th {\n",
       "        vertical-align: top;\n",
       "    }\n",
       "\n",
       "    .dataframe thead th {\n",
       "        text-align: right;\n",
       "    }\n",
       "</style>\n",
       "<table border=\"1\" class=\"dataframe\">\n",
       "  <thead>\n",
       "    <tr style=\"text-align: right;\">\n",
       "      <th></th>\n",
       "      <th>Store</th>\n",
       "      <th>Date</th>\n",
       "      <th>Weekly_Sales</th>\n",
       "      <th>Holiday_Flag</th>\n",
       "      <th>Temperature</th>\n",
       "      <th>Fuel_Price</th>\n",
       "      <th>CPI</th>\n",
       "      <th>Unemployment</th>\n",
       "    </tr>\n",
       "  </thead>\n",
       "  <tbody>\n",
       "    <tr>\n",
       "      <th>0</th>\n",
       "      <td>1</td>\n",
       "      <td>05-02-2010</td>\n",
       "      <td>1643690.90</td>\n",
       "      <td>0</td>\n",
       "      <td>42.31</td>\n",
       "      <td>2.572</td>\n",
       "      <td>211.096358</td>\n",
       "      <td>8.106</td>\n",
       "    </tr>\n",
       "    <tr>\n",
       "      <th>1</th>\n",
       "      <td>1</td>\n",
       "      <td>12-02-2010</td>\n",
       "      <td>1641957.44</td>\n",
       "      <td>1</td>\n",
       "      <td>38.51</td>\n",
       "      <td>2.548</td>\n",
       "      <td>211.242170</td>\n",
       "      <td>8.106</td>\n",
       "    </tr>\n",
       "    <tr>\n",
       "      <th>2</th>\n",
       "      <td>1</td>\n",
       "      <td>19-02-2010</td>\n",
       "      <td>1611968.17</td>\n",
       "      <td>0</td>\n",
       "      <td>39.93</td>\n",
       "      <td>2.514</td>\n",
       "      <td>211.289143</td>\n",
       "      <td>8.106</td>\n",
       "    </tr>\n",
       "    <tr>\n",
       "      <th>3</th>\n",
       "      <td>1</td>\n",
       "      <td>26-02-2010</td>\n",
       "      <td>1409727.59</td>\n",
       "      <td>0</td>\n",
       "      <td>46.63</td>\n",
       "      <td>2.561</td>\n",
       "      <td>211.319643</td>\n",
       "      <td>8.106</td>\n",
       "    </tr>\n",
       "    <tr>\n",
       "      <th>4</th>\n",
       "      <td>1</td>\n",
       "      <td>05-03-2010</td>\n",
       "      <td>1554806.68</td>\n",
       "      <td>0</td>\n",
       "      <td>46.50</td>\n",
       "      <td>2.625</td>\n",
       "      <td>211.350143</td>\n",
       "      <td>8.106</td>\n",
       "    </tr>\n",
       "    <tr>\n",
       "      <th>...</th>\n",
       "      <td>...</td>\n",
       "      <td>...</td>\n",
       "      <td>...</td>\n",
       "      <td>...</td>\n",
       "      <td>...</td>\n",
       "      <td>...</td>\n",
       "      <td>...</td>\n",
       "      <td>...</td>\n",
       "    </tr>\n",
       "    <tr>\n",
       "      <th>6430</th>\n",
       "      <td>45</td>\n",
       "      <td>28-09-2012</td>\n",
       "      <td>713173.95</td>\n",
       "      <td>0</td>\n",
       "      <td>64.88</td>\n",
       "      <td>3.997</td>\n",
       "      <td>192.013558</td>\n",
       "      <td>8.684</td>\n",
       "    </tr>\n",
       "    <tr>\n",
       "      <th>6431</th>\n",
       "      <td>45</td>\n",
       "      <td>05-10-2012</td>\n",
       "      <td>733455.07</td>\n",
       "      <td>0</td>\n",
       "      <td>64.89</td>\n",
       "      <td>3.985</td>\n",
       "      <td>192.170412</td>\n",
       "      <td>8.667</td>\n",
       "    </tr>\n",
       "    <tr>\n",
       "      <th>6432</th>\n",
       "      <td>45</td>\n",
       "      <td>12-10-2012</td>\n",
       "      <td>734464.36</td>\n",
       "      <td>0</td>\n",
       "      <td>54.47</td>\n",
       "      <td>4.000</td>\n",
       "      <td>192.327265</td>\n",
       "      <td>8.667</td>\n",
       "    </tr>\n",
       "    <tr>\n",
       "      <th>6433</th>\n",
       "      <td>45</td>\n",
       "      <td>19-10-2012</td>\n",
       "      <td>718125.53</td>\n",
       "      <td>0</td>\n",
       "      <td>56.47</td>\n",
       "      <td>3.969</td>\n",
       "      <td>192.330854</td>\n",
       "      <td>8.667</td>\n",
       "    </tr>\n",
       "    <tr>\n",
       "      <th>6434</th>\n",
       "      <td>45</td>\n",
       "      <td>26-10-2012</td>\n",
       "      <td>760281.43</td>\n",
       "      <td>0</td>\n",
       "      <td>58.85</td>\n",
       "      <td>3.882</td>\n",
       "      <td>192.308899</td>\n",
       "      <td>8.667</td>\n",
       "    </tr>\n",
       "  </tbody>\n",
       "</table>\n",
       "<p>6435 rows × 8 columns</p>\n",
       "</div>"
      ],
      "text/plain": [
       "      Store        Date  Weekly_Sales  Holiday_Flag  Temperature  Fuel_Price  \\\n",
       "0         1  05-02-2010    1643690.90             0        42.31       2.572   \n",
       "1         1  12-02-2010    1641957.44             1        38.51       2.548   \n",
       "2         1  19-02-2010    1611968.17             0        39.93       2.514   \n",
       "3         1  26-02-2010    1409727.59             0        46.63       2.561   \n",
       "4         1  05-03-2010    1554806.68             0        46.50       2.625   \n",
       "...     ...         ...           ...           ...          ...         ...   \n",
       "6430     45  28-09-2012     713173.95             0        64.88       3.997   \n",
       "6431     45  05-10-2012     733455.07             0        64.89       3.985   \n",
       "6432     45  12-10-2012     734464.36             0        54.47       4.000   \n",
       "6433     45  19-10-2012     718125.53             0        56.47       3.969   \n",
       "6434     45  26-10-2012     760281.43             0        58.85       3.882   \n",
       "\n",
       "             CPI  Unemployment  \n",
       "0     211.096358         8.106  \n",
       "1     211.242170         8.106  \n",
       "2     211.289143         8.106  \n",
       "3     211.319643         8.106  \n",
       "4     211.350143         8.106  \n",
       "...          ...           ...  \n",
       "6430  192.013558         8.684  \n",
       "6431  192.170412         8.667  \n",
       "6432  192.327265         8.667  \n",
       "6433  192.330854         8.667  \n",
       "6434  192.308899         8.667  \n",
       "\n",
       "[6435 rows x 8 columns]"
      ]
     },
     "execution_count": 4,
     "metadata": {},
     "output_type": "execute_result"
    }
   ],
   "source": [
    "df"
   ]
  },
  {
   "cell_type": "markdown",
   "metadata": {},
   "source": [
    "**About Data:**\n",
    "*   Store - the store number\n",
    "*   Date - the week of sales\n",
    "*   Weekly_Sales - sales for the given store\n",
    "*   Holiday_Flag - whether the week is a special holiday week 1 – Holiday week 0 – Non-holiday week\n",
    "*   Temperature - Temperature on the day of sale\n",
    "*   Fuel_Price - Cost of fuel in the region\n",
    "*   CPI – Prevailing consumer price index\n",
    "*   Unemployment - Prevailing unemployment rate"
   ]
  },
  {
   "cell_type": "markdown",
   "metadata": {
    "id": "70sjXLXPPgms"
   },
   "source": [
    "**Insights:**\n",
    "\n",
    "*   Here the target columns is Weekly_Sales.\n",
    "*   The data is related to walmart store of united state of america. Where **Store**, **Holiday_Flag** are categorical in nature\n",
    "*   The data is collected over a 45 stores and weekly sales gives the sales of the crossponding store.\n"
   ]
  },
  {
   "cell_type": "markdown",
   "metadata": {
    "id": "v4tOp36ePN1I"
   },
   "source": [
    "## Data Exploration and Modification"
   ]
  },
  {
   "cell_type": "code",
   "execution_count": 5,
   "metadata": {
    "colab": {
     "base_uri": "https://localhost:8080/"
    },
    "id": "z5gHyIQ8PKaX",
    "outputId": "202db5ed-a412-44a0-8510-38c847086604"
   },
   "outputs": [
    {
     "name": "stdout",
     "output_type": "stream",
     "text": [
      "<class 'pandas.core.frame.DataFrame'>\n",
      "RangeIndex: 6435 entries, 0 to 6434\n",
      "Data columns (total 8 columns):\n",
      " #   Column        Non-Null Count  Dtype  \n",
      "---  ------        --------------  -----  \n",
      " 0   Store         6435 non-null   int64  \n",
      " 1   Date          6435 non-null   object \n",
      " 2   Weekly_Sales  6435 non-null   float64\n",
      " 3   Holiday_Flag  6435 non-null   int64  \n",
      " 4   Temperature   6435 non-null   float64\n",
      " 5   Fuel_Price    6435 non-null   float64\n",
      " 6   CPI           6435 non-null   float64\n",
      " 7   Unemployment  6435 non-null   float64\n",
      "dtypes: float64(5), int64(2), object(1)\n",
      "memory usage: 402.3+ KB\n"
     ]
    }
   ],
   "source": [
    "df.info() # it gives the information (like count and data type) of the dataset"
   ]
  },
  {
   "cell_type": "markdown",
   "metadata": {
    "id": "E71rOKGCSMdO"
   },
   "source": [
    "Here Date columns is **object** and other remain columns are **interger or float** in nature. Now using the pandas I change the date column datatype(i.e. object) into a pandas-datetime. "
   ]
  },
  {
   "cell_type": "code",
   "execution_count": 6,
   "metadata": {},
   "outputs": [
    {
     "name": "stderr",
     "output_type": "stream",
     "text": [
      "C:\\Users\\suraj\\AppData\\Local\\Temp\\ipykernel_16152\\1999132107.py:1: UserWarning: Parsing dates in DD/MM/YYYY format when dayfirst=False (the default) was specified. This may lead to inconsistently parsed dates! Specify a format to ensure consistent parsing.\n",
      "  df.Date=pd.to_datetime(df.Date)\n"
     ]
    }
   ],
   "source": [
    "df.Date=pd.to_datetime(df.Date)"
   ]
  },
  {
   "cell_type": "markdown",
   "metadata": {},
   "source": [
    "Using the date column i create three seperate columns of weekday, month and year and added to the existing dataset."
   ]
  },
  {
   "cell_type": "code",
   "execution_count": 7,
   "metadata": {
    "id": "Wah1iBNMRbOZ"
   },
   "outputs": [],
   "source": [
    "df['weekday'] = df.Date.dt.weekday\n",
    "df['month'] = df.Date.dt.month\n",
    "df['year'] = df.Date.dt.year"
   ]
  },
  {
   "cell_type": "markdown",
   "metadata": {},
   "source": [
    "Now I drop the date columns because of no use of it."
   ]
  },
  {
   "cell_type": "code",
   "execution_count": 8,
   "metadata": {
    "id": "FVa_jWuuSeXw"
   },
   "outputs": [],
   "source": [
    "df.drop(['Date'], axis=1, inplace=True)"
   ]
  },
  {
   "cell_type": "markdown",
   "metadata": {},
   "source": [
    "Hence the modified dataset is look like:"
   ]
  },
  {
   "cell_type": "code",
   "execution_count": 9,
   "metadata": {
    "colab": {
     "base_uri": "https://localhost:8080/",
     "height": 143
    },
    "id": "_N5RjYZqijWo",
    "outputId": "f8a19149-7e22-4fa8-fe22-42dfb58fcb10"
   },
   "outputs": [
    {
     "data": {
      "text/html": [
       "<div>\n",
       "<style scoped>\n",
       "    .dataframe tbody tr th:only-of-type {\n",
       "        vertical-align: middle;\n",
       "    }\n",
       "\n",
       "    .dataframe tbody tr th {\n",
       "        vertical-align: top;\n",
       "    }\n",
       "\n",
       "    .dataframe thead th {\n",
       "        text-align: right;\n",
       "    }\n",
       "</style>\n",
       "<table border=\"1\" class=\"dataframe\">\n",
       "  <thead>\n",
       "    <tr style=\"text-align: right;\">\n",
       "      <th></th>\n",
       "      <th>Store</th>\n",
       "      <th>Weekly_Sales</th>\n",
       "      <th>Holiday_Flag</th>\n",
       "      <th>Temperature</th>\n",
       "      <th>Fuel_Price</th>\n",
       "      <th>CPI</th>\n",
       "      <th>Unemployment</th>\n",
       "      <th>weekday</th>\n",
       "      <th>month</th>\n",
       "      <th>year</th>\n",
       "    </tr>\n",
       "  </thead>\n",
       "  <tbody>\n",
       "    <tr>\n",
       "      <th>0</th>\n",
       "      <td>1</td>\n",
       "      <td>1643690.90</td>\n",
       "      <td>0</td>\n",
       "      <td>42.31</td>\n",
       "      <td>2.572</td>\n",
       "      <td>211.096358</td>\n",
       "      <td>8.106</td>\n",
       "      <td>6</td>\n",
       "      <td>5</td>\n",
       "      <td>2010</td>\n",
       "    </tr>\n",
       "    <tr>\n",
       "      <th>1</th>\n",
       "      <td>1</td>\n",
       "      <td>1641957.44</td>\n",
       "      <td>1</td>\n",
       "      <td>38.51</td>\n",
       "      <td>2.548</td>\n",
       "      <td>211.242170</td>\n",
       "      <td>8.106</td>\n",
       "      <td>3</td>\n",
       "      <td>12</td>\n",
       "      <td>2010</td>\n",
       "    </tr>\n",
       "    <tr>\n",
       "      <th>2</th>\n",
       "      <td>1</td>\n",
       "      <td>1611968.17</td>\n",
       "      <td>0</td>\n",
       "      <td>39.93</td>\n",
       "      <td>2.514</td>\n",
       "      <td>211.289143</td>\n",
       "      <td>8.106</td>\n",
       "      <td>4</td>\n",
       "      <td>2</td>\n",
       "      <td>2010</td>\n",
       "    </tr>\n",
       "  </tbody>\n",
       "</table>\n",
       "</div>"
      ],
      "text/plain": [
       "   Store  Weekly_Sales  Holiday_Flag  Temperature  Fuel_Price         CPI  \\\n",
       "0      1    1643690.90             0        42.31       2.572  211.096358   \n",
       "1      1    1641957.44             1        38.51       2.548  211.242170   \n",
       "2      1    1611968.17             0        39.93       2.514  211.289143   \n",
       "\n",
       "   Unemployment  weekday  month  year  \n",
       "0         8.106        6      5  2010  \n",
       "1         8.106        3     12  2010  \n",
       "2         8.106        4      2  2010  "
      ]
     },
     "execution_count": 9,
     "metadata": {},
     "output_type": "execute_result"
    }
   ],
   "source": [
    "df.head(3)"
   ]
  },
  {
   "cell_type": "markdown",
   "metadata": {},
   "source": [
    "Explored the unique values of the weekday, month and year columns as follows:"
   ]
  },
  {
   "cell_type": "code",
   "execution_count": 10,
   "metadata": {
    "colab": {
     "base_uri": "https://localhost:8080/"
    },
    "id": "vvUj_-NAimJu",
    "outputId": "2d78f9c1-8f56-4ada-bb15-5433f62c2d33"
   },
   "outputs": [
    {
     "name": "stdout",
     "output_type": "stream",
     "text": [
      "years unique value [2010 2011 2012]\n",
      "months unique value [ 5 12  2  3  9  4  7 11  6  8 10  1]\n",
      "weekday unique value [6 3 4 0 5 1 2]\n"
     ]
    }
   ],
   "source": [
    "print('years unique value', df.year.unique())\n",
    "print('months unique value', df.month.unique())\n",
    "print('weekday unique value', df.weekday.unique())"
   ]
  },
  {
   "cell_type": "markdown",
   "metadata": {
    "id": "lOswVgn6kIMe"
   },
   "source": [
    "Months and weekday are as usual, but the data is taken from year 2010, 2011, 2012 only."
   ]
  },
  {
   "cell_type": "markdown",
   "metadata": {},
   "source": [
    "Now to get the idea of distribution of the dataset, I used describe function which gives a table of various statistical values of all the columns"
   ]
  },
  {
   "cell_type": "code",
   "execution_count": 11,
   "metadata": {
    "colab": {
     "base_uri": "https://localhost:8080/",
     "height": 300
    },
    "id": "iXkWelyCkq-I",
    "outputId": "1bc10ad1-6d6a-42c1-ee2d-2c471db9fd39"
   },
   "outputs": [
    {
     "data": {
      "text/html": [
       "<div>\n",
       "<style scoped>\n",
       "    .dataframe tbody tr th:only-of-type {\n",
       "        vertical-align: middle;\n",
       "    }\n",
       "\n",
       "    .dataframe tbody tr th {\n",
       "        vertical-align: top;\n",
       "    }\n",
       "\n",
       "    .dataframe thead th {\n",
       "        text-align: right;\n",
       "    }\n",
       "</style>\n",
       "<table border=\"1\" class=\"dataframe\">\n",
       "  <thead>\n",
       "    <tr style=\"text-align: right;\">\n",
       "      <th></th>\n",
       "      <th>Store</th>\n",
       "      <th>Weekly_Sales</th>\n",
       "      <th>Holiday_Flag</th>\n",
       "      <th>Temperature</th>\n",
       "      <th>Fuel_Price</th>\n",
       "      <th>CPI</th>\n",
       "      <th>Unemployment</th>\n",
       "      <th>weekday</th>\n",
       "      <th>month</th>\n",
       "      <th>year</th>\n",
       "    </tr>\n",
       "  </thead>\n",
       "  <tbody>\n",
       "    <tr>\n",
       "      <th>count</th>\n",
       "      <td>6435.000000</td>\n",
       "      <td>6.435000e+03</td>\n",
       "      <td>6435.000000</td>\n",
       "      <td>6435.000000</td>\n",
       "      <td>6435.000000</td>\n",
       "      <td>6435.000000</td>\n",
       "      <td>6435.000000</td>\n",
       "      <td>6435.000000</td>\n",
       "      <td>6435.000000</td>\n",
       "      <td>6435.000000</td>\n",
       "    </tr>\n",
       "    <tr>\n",
       "      <th>mean</th>\n",
       "      <td>23.000000</td>\n",
       "      <td>1.046965e+06</td>\n",
       "      <td>0.069930</td>\n",
       "      <td>60.663782</td>\n",
       "      <td>3.358607</td>\n",
       "      <td>171.578394</td>\n",
       "      <td>7.999151</td>\n",
       "      <td>3.573427</td>\n",
       "      <td>6.475524</td>\n",
       "      <td>2010.965035</td>\n",
       "    </tr>\n",
       "    <tr>\n",
       "      <th>std</th>\n",
       "      <td>12.988182</td>\n",
       "      <td>5.643666e+05</td>\n",
       "      <td>0.255049</td>\n",
       "      <td>18.444933</td>\n",
       "      <td>0.459020</td>\n",
       "      <td>39.356712</td>\n",
       "      <td>1.875885</td>\n",
       "      <td>1.426581</td>\n",
       "      <td>3.321797</td>\n",
       "      <td>0.797019</td>\n",
       "    </tr>\n",
       "    <tr>\n",
       "      <th>min</th>\n",
       "      <td>1.000000</td>\n",
       "      <td>2.099862e+05</td>\n",
       "      <td>0.000000</td>\n",
       "      <td>-2.060000</td>\n",
       "      <td>2.472000</td>\n",
       "      <td>126.064000</td>\n",
       "      <td>3.879000</td>\n",
       "      <td>0.000000</td>\n",
       "      <td>1.000000</td>\n",
       "      <td>2010.000000</td>\n",
       "    </tr>\n",
       "    <tr>\n",
       "      <th>25%</th>\n",
       "      <td>12.000000</td>\n",
       "      <td>5.533501e+05</td>\n",
       "      <td>0.000000</td>\n",
       "      <td>47.460000</td>\n",
       "      <td>2.933000</td>\n",
       "      <td>131.735000</td>\n",
       "      <td>6.891000</td>\n",
       "      <td>4.000000</td>\n",
       "      <td>4.000000</td>\n",
       "      <td>2010.000000</td>\n",
       "    </tr>\n",
       "    <tr>\n",
       "      <th>50%</th>\n",
       "      <td>23.000000</td>\n",
       "      <td>9.607460e+05</td>\n",
       "      <td>0.000000</td>\n",
       "      <td>62.670000</td>\n",
       "      <td>3.445000</td>\n",
       "      <td>182.616521</td>\n",
       "      <td>7.874000</td>\n",
       "      <td>4.000000</td>\n",
       "      <td>6.000000</td>\n",
       "      <td>2011.000000</td>\n",
       "    </tr>\n",
       "    <tr>\n",
       "      <th>75%</th>\n",
       "      <td>34.000000</td>\n",
       "      <td>1.420159e+06</td>\n",
       "      <td>0.000000</td>\n",
       "      <td>74.940000</td>\n",
       "      <td>3.735000</td>\n",
       "      <td>212.743293</td>\n",
       "      <td>8.622000</td>\n",
       "      <td>4.000000</td>\n",
       "      <td>9.000000</td>\n",
       "      <td>2012.000000</td>\n",
       "    </tr>\n",
       "    <tr>\n",
       "      <th>max</th>\n",
       "      <td>45.000000</td>\n",
       "      <td>3.818686e+06</td>\n",
       "      <td>1.000000</td>\n",
       "      <td>100.140000</td>\n",
       "      <td>4.468000</td>\n",
       "      <td>227.232807</td>\n",
       "      <td>14.313000</td>\n",
       "      <td>6.000000</td>\n",
       "      <td>12.000000</td>\n",
       "      <td>2012.000000</td>\n",
       "    </tr>\n",
       "  </tbody>\n",
       "</table>\n",
       "</div>"
      ],
      "text/plain": [
       "             Store  Weekly_Sales  Holiday_Flag  Temperature   Fuel_Price  \\\n",
       "count  6435.000000  6.435000e+03   6435.000000  6435.000000  6435.000000   \n",
       "mean     23.000000  1.046965e+06      0.069930    60.663782     3.358607   \n",
       "std      12.988182  5.643666e+05      0.255049    18.444933     0.459020   \n",
       "min       1.000000  2.099862e+05      0.000000    -2.060000     2.472000   \n",
       "25%      12.000000  5.533501e+05      0.000000    47.460000     2.933000   \n",
       "50%      23.000000  9.607460e+05      0.000000    62.670000     3.445000   \n",
       "75%      34.000000  1.420159e+06      0.000000    74.940000     3.735000   \n",
       "max      45.000000  3.818686e+06      1.000000   100.140000     4.468000   \n",
       "\n",
       "               CPI  Unemployment      weekday        month         year  \n",
       "count  6435.000000   6435.000000  6435.000000  6435.000000  6435.000000  \n",
       "mean    171.578394      7.999151     3.573427     6.475524  2010.965035  \n",
       "std      39.356712      1.875885     1.426581     3.321797     0.797019  \n",
       "min     126.064000      3.879000     0.000000     1.000000  2010.000000  \n",
       "25%     131.735000      6.891000     4.000000     4.000000  2010.000000  \n",
       "50%     182.616521      7.874000     4.000000     6.000000  2011.000000  \n",
       "75%     212.743293      8.622000     4.000000     9.000000  2012.000000  \n",
       "max     227.232807     14.313000     6.000000    12.000000  2012.000000  "
      ]
     },
     "execution_count": 11,
     "metadata": {},
     "output_type": "execute_result"
    }
   ],
   "source": [
    "df.describe()"
   ]
  },
  {
   "cell_type": "markdown",
   "metadata": {},
   "source": [
    "**Insights:**\n",
    "*   Temperature - has values ranges from (-2, 100.1) Fahrenhite.\n",
    "*   CPI - is ranges from 126 to 227 with a standard deviation of 39.35\n",
    "*   Unemployment - is ranges from 3.87 to 14.31 with a standard deviation of 1.87"
   ]
  },
  {
   "cell_type": "code",
   "execution_count": 12,
   "metadata": {
    "id": "pAD-SpIjmIC6"
   },
   "outputs": [],
   "source": [
    "original_df = df.copy() # made the copy of dataframe to check the dublicates values in the dataset"
   ]
  },
  {
   "cell_type": "markdown",
   "metadata": {},
   "source": [
    "Checking of dublicates values : "
   ]
  },
  {
   "cell_type": "code",
   "execution_count": 13,
   "metadata": {
    "colab": {
     "base_uri": "https://localhost:8080/"
    },
    "id": "li2XZvesln26",
    "outputId": "8b99e149-6d6d-4206-9afd-accc361799ff"
   },
   "outputs": [
    {
     "name": "stdout",
     "output_type": "stream",
     "text": [
      "The dataset doesn't have any duplicates\n"
     ]
    }
   ],
   "source": [
    "counter = 0\n",
    "rs,cs = original_df.shape\n",
    "\n",
    "df.drop_duplicates(inplace=True)\n",
    "\n",
    "if df.shape==(rs,cs):\n",
    "    print('The dataset doesn\\'t have any duplicates')\n",
    "else:\n",
    "    print('Number of duplicates dropped/fixed ---> {rs-df.shape[0]}')"
   ]
  },
  {
   "cell_type": "markdown",
   "metadata": {},
   "source": [
    "Checking of missing values : "
   ]
  },
  {
   "cell_type": "code",
   "execution_count": 14,
   "metadata": {
    "colab": {
     "base_uri": "https://localhost:8080/"
    },
    "id": "UAQTtf7jmWhQ",
    "outputId": "963c9cfd-b98e-44c9-8a55-85b78d714281"
   },
   "outputs": [
    {
     "data": {
      "text/plain": [
       "Store           0\n",
       "Weekly_Sales    0\n",
       "Holiday_Flag    0\n",
       "Temperature     0\n",
       "Fuel_Price      0\n",
       "CPI             0\n",
       "Unemployment    0\n",
       "weekday         0\n",
       "month           0\n",
       "year            0\n",
       "dtype: int64"
      ]
     },
     "execution_count": 14,
     "metadata": {},
     "output_type": "execute_result"
    }
   ],
   "source": [
    "df.isnull().sum()"
   ]
  },
  {
   "cell_type": "markdown",
   "metadata": {
    "id": "ekTGNkWRma1k"
   },
   "source": [
    "Dataset doesn't have null values"
   ]
  },
  {
   "cell_type": "markdown",
   "metadata": {
    "id": "BvM1LJc7kyq_"
   },
   "source": [
    "## Data Visualization"
   ]
  },
  {
   "cell_type": "code",
   "execution_count": 15,
   "metadata": {
    "colab": {
     "base_uri": "https://localhost:8080/",
     "height": 143
    },
    "id": "4M5tqFzPlAB2",
    "outputId": "25785689-f3c4-4be1-c30f-2acf6a1ff3a1"
   },
   "outputs": [
    {
     "data": {
      "text/html": [
       "<div>\n",
       "<style scoped>\n",
       "    .dataframe tbody tr th:only-of-type {\n",
       "        vertical-align: middle;\n",
       "    }\n",
       "\n",
       "    .dataframe tbody tr th {\n",
       "        vertical-align: top;\n",
       "    }\n",
       "\n",
       "    .dataframe thead th {\n",
       "        text-align: right;\n",
       "    }\n",
       "</style>\n",
       "<table border=\"1\" class=\"dataframe\">\n",
       "  <thead>\n",
       "    <tr style=\"text-align: right;\">\n",
       "      <th></th>\n",
       "      <th>Store</th>\n",
       "      <th>Weekly_Sales</th>\n",
       "      <th>Holiday_Flag</th>\n",
       "      <th>Temperature</th>\n",
       "      <th>Fuel_Price</th>\n",
       "      <th>CPI</th>\n",
       "      <th>Unemployment</th>\n",
       "      <th>weekday</th>\n",
       "      <th>month</th>\n",
       "      <th>year</th>\n",
       "    </tr>\n",
       "  </thead>\n",
       "  <tbody>\n",
       "    <tr>\n",
       "      <th>0</th>\n",
       "      <td>1</td>\n",
       "      <td>1643690.90</td>\n",
       "      <td>0</td>\n",
       "      <td>42.31</td>\n",
       "      <td>2.572</td>\n",
       "      <td>211.096358</td>\n",
       "      <td>8.106</td>\n",
       "      <td>6</td>\n",
       "      <td>5</td>\n",
       "      <td>2010</td>\n",
       "    </tr>\n",
       "    <tr>\n",
       "      <th>1</th>\n",
       "      <td>1</td>\n",
       "      <td>1641957.44</td>\n",
       "      <td>1</td>\n",
       "      <td>38.51</td>\n",
       "      <td>2.548</td>\n",
       "      <td>211.242170</td>\n",
       "      <td>8.106</td>\n",
       "      <td>3</td>\n",
       "      <td>12</td>\n",
       "      <td>2010</td>\n",
       "    </tr>\n",
       "    <tr>\n",
       "      <th>2</th>\n",
       "      <td>1</td>\n",
       "      <td>1611968.17</td>\n",
       "      <td>0</td>\n",
       "      <td>39.93</td>\n",
       "      <td>2.514</td>\n",
       "      <td>211.289143</td>\n",
       "      <td>8.106</td>\n",
       "      <td>4</td>\n",
       "      <td>2</td>\n",
       "      <td>2010</td>\n",
       "    </tr>\n",
       "  </tbody>\n",
       "</table>\n",
       "</div>"
      ],
      "text/plain": [
       "   Store  Weekly_Sales  Holiday_Flag  Temperature  Fuel_Price         CPI  \\\n",
       "0      1    1643690.90             0        42.31       2.572  211.096358   \n",
       "1      1    1641957.44             1        38.51       2.548  211.242170   \n",
       "2      1    1611968.17             0        39.93       2.514  211.289143   \n",
       "\n",
       "   Unemployment  weekday  month  year  \n",
       "0         8.106        6      5  2010  \n",
       "1         8.106        3     12  2010  \n",
       "2         8.106        4      2  2010  "
      ]
     },
     "execution_count": 15,
     "metadata": {},
     "output_type": "execute_result"
    }
   ],
   "source": [
    "df.head(3)"
   ]
  },
  {
   "cell_type": "markdown",
   "metadata": {},
   "source": [
    "Here we have:\n",
    "\n",
    "**Numerical columns:** Weekly_sales, temperature, fuel_price, cpi, unemployment\n",
    "\n",
    "**Categorical columns:** Holiday_flag, Weekday, month, year\n",
    "\n",
    "Now plotted the count plot to get the distribution or frequency of the columns"
   ]
  },
  {
   "cell_type": "code",
   "execution_count": 16,
   "metadata": {
    "colab": {
     "base_uri": "https://localhost:8080/",
     "height": 505
    },
    "id": "eSyWAfAXlLNS",
    "outputId": "4d131471-a565-4ec7-b5dc-b9c6e4b1ed2f"
   },
   "outputs": [
    {
     "data": {
      "image/png": "[encoded data removed]",
      "text/plain": [
       "<Figure size 1600x800 with 4 Axes>"
      ]
     },
     "metadata": {
      "needs_background": "light"
     },
     "output_type": "display_data"
    }
   ],
   "source": [
    "fig, axes = plt.subplots(2, 2, figsize=(16, 8))\n",
    "\n",
    "#axes[0,0].set_title('Holiday Count plot')\n",
    "sns.countplot(x='Holiday_Flag', data=df, ax= axes[0,0])\n",
    "\n",
    "#axes[0,1].set_title('Weekday Count plot')\n",
    "sns.countplot(x='weekday', data=df, ax= axes[0,1]);\n",
    "\n",
    "#axes[1,0].set_title('month Count plot')\n",
    "sns.countplot(x='month', data=df, ax= axes[1,0]);\n",
    "\n",
    "#axes[1,1].set_title('year Count plot')\n",
    "sns.countplot(x='year', data=df, ax= axes[1,1]);"
   ]
  },
  {
   "cell_type": "markdown",
   "metadata": {},
   "source": [
    "**Insights:**\n",
    "\n",
    "*   In Holiday flag most of the time there is no holiday in that week.\n",
    "*   In weekdays columns observations are mostly related to the day 4\n",
    "*   Most of the observation in the data is from the month of april\n",
    "*   Most of the observation in the data is from year 2011"
   ]
  },
  {
   "cell_type": "markdown",
   "metadata": {},
   "source": [
    "To get the idea of how many observations are there in dataset crossponding to each store, I again plot a count plot."
   ]
  },
  {
   "cell_type": "code",
   "execution_count": 17,
   "metadata": {
    "colab": {
     "base_uri": "https://localhost:8080/",
     "height": 505
    },
    "id": "_HphuyP76FHt",
    "outputId": "90411b65-58e5-453a-8d19-d7b8e838c15e"
   },
   "outputs": [
    {
     "data": {
      "image/png": "[encoded data removed]",
      "text/plain": [
       "<Figure size 1800x800 with 1 Axes>"
      ]
     },
     "metadata": {
      "needs_background": "light"
     },
     "output_type": "display_data"
    }
   ],
   "source": [
    "plt.figure(figsize= (18,8))\n",
    "sns.countplot(x= 'Store', data= df);\n",
    "plt.show()"
   ]
  },
  {
   "cell_type": "markdown",
   "metadata": {
    "id": "4D0pl3sXZ6Bt"
   },
   "source": [
    "All the store have equal number of data in the set "
   ]
  },
  {
   "cell_type": "code",
   "execution_count": 18,
   "metadata": {
    "colab": {
     "base_uri": "https://localhost:8080/",
     "height": 81
    },
    "id": "KSXkCVMiaQet",
    "outputId": "4931b89f-f270-42e7-bbc1-35224ece8d77"
   },
   "outputs": [
    {
     "data": {
      "text/html": [
       "<div>\n",
       "<style scoped>\n",
       "    .dataframe tbody tr th:only-of-type {\n",
       "        vertical-align: middle;\n",
       "    }\n",
       "\n",
       "    .dataframe tbody tr th {\n",
       "        vertical-align: top;\n",
       "    }\n",
       "\n",
       "    .dataframe thead th {\n",
       "        text-align: right;\n",
       "    }\n",
       "</style>\n",
       "<table border=\"1\" class=\"dataframe\">\n",
       "  <thead>\n",
       "    <tr style=\"text-align: right;\">\n",
       "      <th></th>\n",
       "      <th>Store</th>\n",
       "      <th>Weekly_Sales</th>\n",
       "      <th>Holiday_Flag</th>\n",
       "      <th>Temperature</th>\n",
       "      <th>Fuel_Price</th>\n",
       "      <th>CPI</th>\n",
       "      <th>Unemployment</th>\n",
       "      <th>weekday</th>\n",
       "      <th>month</th>\n",
       "      <th>year</th>\n",
       "    </tr>\n",
       "  </thead>\n",
       "  <tbody>\n",
       "    <tr>\n",
       "      <th>0</th>\n",
       "      <td>1</td>\n",
       "      <td>1643690.9</td>\n",
       "      <td>0</td>\n",
       "      <td>42.31</td>\n",
       "      <td>2.572</td>\n",
       "      <td>211.096358</td>\n",
       "      <td>8.106</td>\n",
       "      <td>6</td>\n",
       "      <td>5</td>\n",
       "      <td>2010</td>\n",
       "    </tr>\n",
       "  </tbody>\n",
       "</table>\n",
       "</div>"
      ],
      "text/plain": [
       "   Store  Weekly_Sales  Holiday_Flag  Temperature  Fuel_Price         CPI  \\\n",
       "0      1     1643690.9             0        42.31       2.572  211.096358   \n",
       "\n",
       "   Unemployment  weekday  month  year  \n",
       "0         8.106        6      5  2010  "
      ]
     },
     "execution_count": 18,
     "metadata": {},
     "output_type": "execute_result"
    }
   ],
   "source": [
    "df.head(1)"
   ]
  },
  {
   "cell_type": "markdown",
   "metadata": {},
   "source": [
    "To analyze the distribution of the data, I plotted the histogram and boxplot for Temperature, Unemployment, Fuel_Price, CPI."
   ]
  },
  {
   "cell_type": "code",
   "execution_count": 19,
   "metadata": {
    "colab": {
     "base_uri": "https://localhost:8080/",
     "height": 940
    },
    "id": "tOLH3pvoZkbU",
    "outputId": "0af62c08-add8-431d-d5e4-95ebc583c125"
   },
   "outputs": [
    {
     "data": {
      "image/png": "[encoded data removed]",
      "text/plain": [
       "<Figure size 1600x1600 with 8 Axes>"
      ]
     },
     "metadata": {
      "needs_background": "light"
     },
     "output_type": "display_data"
    }
   ],
   "source": [
    "fig, axes = plt.subplots(4, 2, figsize=(16, 16))\n",
    "# axes[0,0].set_title('Temperature')\n",
    "sns.histplot(x= 'Temperature', data= df, ax= axes[0,0])\n",
    "\n",
    "sns.boxplot(x= 'Temperature', data= df, ax= axes[0,1])\n",
    "\n",
    "# axes[1,0].set_title('Unemployment')\n",
    "sns.histplot(x= 'Unemployment', data= df, ax= axes[1,0])\n",
    "\n",
    "sns.boxplot(x= 'Unemployment', data= df, ax= axes[1,1])\n",
    "\n",
    "# axes[2,0].set_title('Fuel_Price')\n",
    "sns.histplot(x= 'Fuel_Price', data= df, ax= axes[2,0])\n",
    "\n",
    "sns.boxplot(x = 'Fuel_Price', data= df, ax= axes[2,1])\n",
    "\n",
    "# axes[3,0].set_title('CPI')\n",
    "sns.histplot(x= 'CPI', data= df, ax= axes[3,0])\n",
    "\n",
    "sns.boxplot(x= 'CPI', data= df, ax= axes[3,1]);"
   ]
  },
  {
   "cell_type": "markdown",
   "metadata": {
    "id": "Y6eCaSOXekvp"
   },
   "source": [
    "**Insights:**\n",
    "\n",
    "*   Temperature:  Crossponding to the lower temperature, there is a presence of outlier.\n",
    "*   Umemployment: The outlier is present in the dataset crossponding to higher and lower both values.\n",
    "*   CPI: It is either very low or very high."
   ]
  },
  {
   "cell_type": "code",
   "execution_count": 20,
   "metadata": {
    "id": "-EmN6ZTra1Hr"
   },
   "outputs": [],
   "source": [
    "# Removing the outlier from Temperature column\n",
    "\n",
    "Q1 = df['Temperature'].quantile(0.25)\n",
    "Q3 = df['Temperature'].quantile(0.75)\n",
    "IQR = Q3 - Q1\n",
    "df = df[df['Temperature'] <= (Q3+(1.5*IQR))]\n",
    "df = df[df['Temperature'] >= (Q1-(1.5*IQR))]"
   ]
  },
  {
   "cell_type": "code",
   "execution_count": 21,
   "metadata": {
    "id": "U4R3Kqgn-_vB"
   },
   "outputs": [],
   "source": [
    "# Removing the outlier from Unemployment column\n",
    "\n",
    "Q1 = df['Unemployment'].quantile(0.25)\n",
    "Q3 = df['Unemployment'].quantile(0.75)\n",
    "IQR = Q3 - Q1\n",
    "df = df[df['Unemployment'] <= (Q3+(1.5*IQR))]\n",
    "df = df[df['Unemployment'] >= (Q1-(1.5*IQR))]"
   ]
  },
  {
   "cell_type": "code",
   "execution_count": 22,
   "metadata": {
    "colab": {
     "base_uri": "https://localhost:8080/"
    },
    "id": "yVemcM-M_Mxv",
    "outputId": "4922b35f-827c-4c02-bd28-dd6ad6430ccb"
   },
   "outputs": [
    {
     "data": {
      "text/plain": [
       "(5951, 10)"
      ]
     },
     "execution_count": 22,
     "metadata": {},
     "output_type": "execute_result"
    }
   ],
   "source": [
    "df.shape"
   ]
  },
  {
   "cell_type": "markdown",
   "metadata": {
    "id": "cBBEn2FE_ZA-"
   },
   "source": [
    "On the process of removing outlier, **484 data** points are removed from data-set"
   ]
  },
  {
   "cell_type": "markdown",
   "metadata": {
    "id": "rFMweINACZvn"
   },
   "source": [
    "## Encoding"
   ]
  },
  {
   "cell_type": "markdown",
   "metadata": {},
   "source": [
    "Encoding is a process to convert the categorical columns into a numerical columns, as it is not a good preactice to train a model with categorical inputs."
   ]
  },
  {
   "cell_type": "code",
   "execution_count": 23,
   "metadata": {
    "id": "pO1uOasqGBeF"
   },
   "outputs": [],
   "source": [
    "cat_cols = ['Store', 'Holiday_Flag', 'weekday', 'month', 'year'] # these are the categorical columns"
   ]
  },
  {
   "cell_type": "code",
   "execution_count": 24,
   "metadata": {
    "colab": {
     "base_uri": "https://localhost:8080/"
    },
    "id": "x5k8sIgQF4dX",
    "outputId": "9e9bd9cd-7a26-4c35-e2d9-371c04dbdbe0"
   },
   "outputs": [
    {
     "data": {
      "text/plain": [
       "Store           45\n",
       "Holiday_Flag     2\n",
       "weekday          7\n",
       "month           12\n",
       "year             3\n",
       "dtype: int64"
      ]
     },
     "execution_count": 24,
     "metadata": {},
     "output_type": "execute_result"
    }
   ],
   "source": [
    "df[cat_cols].nunique() # Counting the unique value in each of the categorical columns."
   ]
  },
  {
   "cell_type": "code",
   "execution_count": 25,
   "metadata": {
    "id": "glaMQs6fGJl4"
   },
   "outputs": [
    {
     "name": "stderr",
     "output_type": "stream",
     "text": [
      "C:\\Python310\\lib\\site-packages\\sklearn\\preprocessing\\_encoders.py:868: FutureWarning: `sparse` was renamed to `sparse_output` in version 1.2 and will be removed in 1.4. `sparse_output` is ignored unless you leave `sparse` to its default value.\n",
      "  warnings.warn(\n"
     ]
    },
    {
     "data": {
      "text/html": [
       "<style>#sk-container-id-1 {color: black;background-color: white;}#sk-container-id-1 pre{padding: 0;}#sk-container-id-1 div.sk-toggleable {background-color: white;}#sk-container-id-1 label.sk-toggleable__label {cursor: pointer;display: block;width: 100%;margin-bottom: 0;padding: 0.3em;box-sizing: border-box;text-align: center;}#sk-container-id-1 label.sk-toggleable__label-arrow:before {content: \"▸\";float: left;margin-right: 0.25em;color: #696969;}#sk-container-id-1 label.sk-toggleable__label-arrow:hover:before {color: black;}#sk-container-id-1 div.sk-estimator:hover label.sk-toggleable__label-arrow:before {color: black;}#sk-container-id-1 div.sk-toggleable__content {max-height: 0;max-width: 0;overflow: hidden;text-align: left;background-color: #f0f8ff;}#sk-container-id-1 div.sk-toggleable__content pre {margin: 0.2em;color: black;border-radius: 0.25em;background-color: #f0f8ff;}#sk-container-id-1 input.sk-toggleable__control:checked~div.sk-toggleable__content {max-height: 200px;max-width: 100%;overflow: auto;}#sk-container-id-1 input.sk-toggleable__control:checked~label.sk-toggleable__label-arrow:before {content: \"▾\";}#sk-container-id-1 div.sk-estimator input.sk-toggleable__control:checked~label.sk-toggleable__label {background-color: #d4ebff;}#sk-container-id-1 div.sk-label input.sk-toggleable__control:checked~label.sk-toggleable__label {background-color: #d4ebff;}#sk-container-id-1 input.sk-hidden--visually {border: 0;clip: rect(1px 1px 1px 1px);clip: rect(1px, 1px, 1px, 1px);height: 1px;margin: -1px;overflow: hidden;padding: 0;position: absolute;width: 1px;}#sk-container-id-1 div.sk-estimator {font-family: monospace;background-color: #f0f8ff;border: 1px dotted black;border-radius: 0.25em;box-sizing: border-box;margin-bottom: 0.5em;}#sk-container-id-1 div.sk-estimator:hover {background-color: #d4ebff;}#sk-container-id-1 div.sk-parallel-item::after {content: \"\";width: 100%;border-bottom: 1px solid gray;flex-grow: 1;}#sk-container-id-1 div.sk-label:hover label.sk-toggleable__label {background-color: #d4ebff;}#sk-container-id-1 div.sk-serial::before {content: \"\";position: absolute;border-left: 1px solid gray;box-sizing: border-box;top: 0;bottom: 0;left: 50%;z-index: 0;}#sk-container-id-1 div.sk-serial {display: flex;flex-direction: column;align-items: center;background-color: white;padding-right: 0.2em;padding-left: 0.2em;position: relative;}#sk-container-id-1 div.sk-item {position: relative;z-index: 1;}#sk-container-id-1 div.sk-parallel {display: flex;align-items: stretch;justify-content: center;background-color: white;position: relative;}#sk-container-id-1 div.sk-item::before, #sk-container-id-1 div.sk-parallel-item::before {content: \"\";position: absolute;border-left: 1px solid gray;box-sizing: border-box;top: 0;bottom: 0;left: 50%;z-index: -1;}#sk-container-id-1 div.sk-parallel-item {display: flex;flex-direction: column;z-index: 1;position: relative;background-color: white;}#sk-container-id-1 div.sk-parallel-item:first-child::after {align-self: flex-end;width: 50%;}#sk-container-id-1 div.sk-parallel-item:last-child::after {align-self: flex-start;width: 50%;}#sk-container-id-1 div.sk-parallel-item:only-child::after {width: 0;}#sk-container-id-1 div.sk-dashed-wrapped {border: 1px dashed gray;margin: 0 0.4em 0.5em 0.4em;box-sizing: border-box;padding-bottom: 0.4em;background-color: white;}#sk-container-id-1 div.sk-label label {font-family: monospace;font-weight: bold;display: inline-block;line-height: 1.2em;}#sk-container-id-1 div.sk-label-container {text-align: center;}#sk-container-id-1 div.sk-container {/* jupyter's `normalize.less` sets `[hidden] { display: none; }` but bootstrap.min.css set `[hidden] { display: none !important; }` so we also need the `!important` here to be able to override the default hidden behavior on the sphinx rendered scikit-learn.org. See: https://github.com/scikit-learn/scikit-learn/issues/21755 */display: inline-block !important;position: relative;}#sk-container-id-1 div.sk-text-repr-fallback {display: none;}</style><div id=\"sk-container-id-1\" class=\"sk-top-container\"><div class=\"sk-text-repr-fallback\"><pre>OneHotEncoder(handle_unknown=&#x27;ignore&#x27;, sparse=False, sparse_output=False)</pre><b>In a Jupyter environment, please rerun this cell to show the HTML representation or trust the notebook. <br />On GitHub, the HTML representation is unable to render, please try loading this page with nbviewer.org.</b></div><div class=\"sk-container\" hidden><div class=\"sk-item\"><div class=\"sk-estimator sk-toggleable\"><input class=\"sk-toggleable__control sk-hidden--visually\" id=\"sk-estimator-id-1\" type=\"checkbox\" checked><label for=\"sk-estimator-id-1\" class=\"sk-toggleable__label sk-toggleable__label-arrow\">OneHotEncoder</label><div class=\"sk-toggleable__content\"><pre>OneHotEncoder(handle_unknown=&#x27;ignore&#x27;, sparse=False, sparse_output=False)</pre></div></div></div></div></div>"
      ],
      "text/plain": [
       "OneHotEncoder(handle_unknown='ignore', sparse=False, sparse_output=False)"
      ]
     },
     "execution_count": 25,
     "metadata": {},
     "output_type": "execute_result"
    }
   ],
   "source": [
    "# Imported OneHotEncoder to perfrom the encoding\n",
    "from sklearn.preprocessing import OneHotEncoder\n",
    "# Creating a object of the encoder function\n",
    "encoder = OneHotEncoder(sparse=False, handle_unknown='ignore')\n",
    "# Fit the encoder object to the dataset which i want to convert into numerical form. \n",
    "encoder.fit(df[cat_cols])"
   ]
  },
  {
   "cell_type": "code",
   "execution_count": 26,
   "metadata": {
    "id": "vv6dMsDNGZFT"
   },
   "outputs": [
    {
     "name": "stdout",
     "output_type": "stream",
     "text": [
      "['Store_1', 'Store_2', 'Store_3', 'Store_4', 'Store_5', 'Store_6', 'Store_7', 'Store_8', 'Store_9', 'Store_10', 'Store_11', 'Store_12', 'Store_13', 'Store_14', 'Store_15', 'Store_16', 'Store_17', 'Store_18', 'Store_19', 'Store_20', 'Store_21', 'Store_22', 'Store_23', 'Store_24', 'Store_25', 'Store_26', 'Store_27', 'Store_28', 'Store_29', 'Store_30', 'Store_31', 'Store_32', 'Store_33', 'Store_34', 'Store_35', 'Store_36', 'Store_37', 'Store_38', 'Store_39', 'Store_40', 'Store_41', 'Store_42', 'Store_43', 'Store_44', 'Store_45', 'Holiday_Flag_0', 'Holiday_Flag_1', 'weekday_0', 'weekday_1', 'weekday_2', 'weekday_3', 'weekday_4', 'weekday_5', 'weekday_6', 'month_1', 'month_2', 'month_3', 'month_4', 'month_5', 'month_6', 'month_7', 'month_8', 'month_9', 'month_10', 'month_11', 'month_12', 'year_2010', 'year_2011', 'year_2012']\n"
     ]
    }
   ],
   "source": [
    "# Creating a list of the encoded columns \n",
    "encoded_cols = list(encoder.get_feature_names_out(cat_cols))\n",
    "print(encoded_cols)"
   ]
  },
  {
   "cell_type": "code",
   "execution_count": 27,
   "metadata": {
    "id": "ldtCeFZRGm7A"
   },
   "outputs": [],
   "source": [
    "# Now i added those encoded columns into the original dataset by transforming it into a categorical form.\n",
    "df[encoded_cols] = encoder.transform(df[cat_cols])"
   ]
  },
  {
   "cell_type": "code",
   "execution_count": 28,
   "metadata": {
    "colab": {
     "base_uri": "https://localhost:8080/"
    },
    "id": "YIJJkqjtD-j3",
    "outputId": "ac67c455-7867-416a-fd82-b149257d8701"
   },
   "outputs": [
    {
     "data": {
      "text/plain": [
       "(5951, 79)"
      ]
     },
     "execution_count": 28,
     "metadata": {},
     "output_type": "execute_result"
    }
   ],
   "source": [
    "df.shape"
   ]
  },
  {
   "cell_type": "markdown",
   "metadata": {
    "id": "LXQ5SY-r_-ak"
   },
   "source": [
    "## Standardization"
   ]
  },
  {
   "cell_type": "markdown",
   "metadata": {},
   "source": [
    "To scale all the column values to specific range of 0 - 1, I used standard scaler function. It is important to give the equal weights to all the columns."
   ]
  },
  {
   "cell_type": "code",
   "execution_count": 29,
   "metadata": {
    "id": "exI_1mV__UxE"
   },
   "outputs": [],
   "source": [
    "# Importing a MinMaxScaler\n",
    "from sklearn.preprocessing import MinMaxScaler\n",
    "# Creating Scaler Object\n",
    "scaler = MinMaxScaler()\n",
    "# Fitted the scaler to the dataset\n",
    "scaler.fit(df)\n",
    "# Transformed the dataset using the fitted scaler object \n",
    "scaled_df = scaler.transform(df)"
   ]
  },
  {
   "cell_type": "code",
   "execution_count": 30,
   "metadata": {
    "id": "V9uWoyqPA1BS"
   },
   "outputs": [],
   "source": [
    "# Converting the output scaled dataframe into a pandas dataframe\n",
    "scaled_df = pd.DataFrame(data = scaled_df, columns = df.columns)"
   ]
  },
  {
   "cell_type": "code",
   "execution_count": 31,
   "metadata": {
    "colab": {
     "base_uri": "https://localhost:8080/",
     "height": 237
    },
    "id": "c3VW-LArA4mN",
    "outputId": "741afdf9-2629-4e22-bafd-4a58678396de"
   },
   "outputs": [
    {
     "data": {
      "text/html": [
       "<div>\n",
       "<style scoped>\n",
       "    .dataframe tbody tr th:only-of-type {\n",
       "        vertical-align: middle;\n",
       "    }\n",
       "\n",
       "    .dataframe tbody tr th {\n",
       "        vertical-align: top;\n",
       "    }\n",
       "\n",
       "    .dataframe thead th {\n",
       "        text-align: right;\n",
       "    }\n",
       "</style>\n",
       "<table border=\"1\" class=\"dataframe\">\n",
       "  <thead>\n",
       "    <tr style=\"text-align: right;\">\n",
       "      <th></th>\n",
       "      <th>Store</th>\n",
       "      <th>Weekly_Sales</th>\n",
       "      <th>Holiday_Flag</th>\n",
       "      <th>Temperature</th>\n",
       "      <th>Fuel_Price</th>\n",
       "      <th>CPI</th>\n",
       "      <th>Unemployment</th>\n",
       "      <th>weekday</th>\n",
       "      <th>month</th>\n",
       "      <th>year</th>\n",
       "      <th>...</th>\n",
       "      <th>month_6</th>\n",
       "      <th>month_7</th>\n",
       "      <th>month_8</th>\n",
       "      <th>month_9</th>\n",
       "      <th>month_10</th>\n",
       "      <th>month_11</th>\n",
       "      <th>month_12</th>\n",
       "      <th>year_2010</th>\n",
       "      <th>year_2011</th>\n",
       "      <th>year_2012</th>\n",
       "    </tr>\n",
       "  </thead>\n",
       "  <tbody>\n",
       "    <tr>\n",
       "      <th>0</th>\n",
       "      <td>0.0</td>\n",
       "      <td>0.397291</td>\n",
       "      <td>0.0</td>\n",
       "      <td>0.376025</td>\n",
       "      <td>0.050100</td>\n",
       "      <td>0.840500</td>\n",
       "      <td>0.573889</td>\n",
       "      <td>1.000000</td>\n",
       "      <td>0.363636</td>\n",
       "      <td>0.0</td>\n",
       "      <td>...</td>\n",
       "      <td>0.0</td>\n",
       "      <td>0.0</td>\n",
       "      <td>0.0</td>\n",
       "      <td>0.0</td>\n",
       "      <td>0.0</td>\n",
       "      <td>0.0</td>\n",
       "      <td>0.0</td>\n",
       "      <td>1.0</td>\n",
       "      <td>0.0</td>\n",
       "      <td>0.0</td>\n",
       "    </tr>\n",
       "    <tr>\n",
       "      <th>1</th>\n",
       "      <td>0.0</td>\n",
       "      <td>0.396811</td>\n",
       "      <td>1.0</td>\n",
       "      <td>0.335024</td>\n",
       "      <td>0.038076</td>\n",
       "      <td>0.841941</td>\n",
       "      <td>0.573889</td>\n",
       "      <td>0.500000</td>\n",
       "      <td>1.000000</td>\n",
       "      <td>0.0</td>\n",
       "      <td>...</td>\n",
       "      <td>0.0</td>\n",
       "      <td>0.0</td>\n",
       "      <td>0.0</td>\n",
       "      <td>0.0</td>\n",
       "      <td>0.0</td>\n",
       "      <td>0.0</td>\n",
       "      <td>1.0</td>\n",
       "      <td>1.0</td>\n",
       "      <td>0.0</td>\n",
       "      <td>0.0</td>\n",
       "    </tr>\n",
       "    <tr>\n",
       "      <th>2</th>\n",
       "      <td>0.0</td>\n",
       "      <td>0.388501</td>\n",
       "      <td>0.0</td>\n",
       "      <td>0.350345</td>\n",
       "      <td>0.021042</td>\n",
       "      <td>0.842405</td>\n",
       "      <td>0.573889</td>\n",
       "      <td>0.666667</td>\n",
       "      <td>0.090909</td>\n",
       "      <td>0.0</td>\n",
       "      <td>...</td>\n",
       "      <td>0.0</td>\n",
       "      <td>0.0</td>\n",
       "      <td>0.0</td>\n",
       "      <td>0.0</td>\n",
       "      <td>0.0</td>\n",
       "      <td>0.0</td>\n",
       "      <td>0.0</td>\n",
       "      <td>1.0</td>\n",
       "      <td>0.0</td>\n",
       "      <td>0.0</td>\n",
       "    </tr>\n",
       "  </tbody>\n",
       "</table>\n",
       "<p>3 rows × 79 columns</p>\n",
       "</div>"
      ],
      "text/plain": [
       "   Store  Weekly_Sales  Holiday_Flag  Temperature  Fuel_Price       CPI  \\\n",
       "0    0.0      0.397291           0.0     0.376025    0.050100  0.840500   \n",
       "1    0.0      0.396811           1.0     0.335024    0.038076  0.841941   \n",
       "2    0.0      0.388501           0.0     0.350345    0.021042  0.842405   \n",
       "\n",
       "   Unemployment   weekday     month  year  ...  month_6  month_7  month_8  \\\n",
       "0      0.573889  1.000000  0.363636   0.0  ...      0.0      0.0      0.0   \n",
       "1      0.573889  0.500000  1.000000   0.0  ...      0.0      0.0      0.0   \n",
       "2      0.573889  0.666667  0.090909   0.0  ...      0.0      0.0      0.0   \n",
       "\n",
       "   month_9  month_10  month_11  month_12  year_2010  year_2011  year_2012  \n",
       "0      0.0       0.0       0.0       0.0        1.0        0.0        0.0  \n",
       "1      0.0       0.0       0.0       1.0        1.0        0.0        0.0  \n",
       "2      0.0       0.0       0.0       0.0        1.0        0.0        0.0  \n",
       "\n",
       "[3 rows x 79 columns]"
      ]
     },
     "execution_count": 31,
     "metadata": {},
     "output_type": "execute_result"
    }
   ],
   "source": [
    "# Checking the output dataframe\n",
    "scaled_df.head(3)"
   ]
  },
  {
   "cell_type": "markdown",
   "metadata": {
    "id": "QIAMnLaPA_LV"
   },
   "source": [
    "## Train-Test-Split"
   ]
  },
  {
   "cell_type": "markdown",
   "metadata": {},
   "source": [
    "Split the dataset into the two part: \n",
    "1. Training dataset (used to train the model)\n",
    "2. Testing dataset (used to test the model)"
   ]
  },
  {
   "cell_type": "code",
   "execution_count": 32,
   "metadata": {
    "id": "gOh0w-0aA7vG"
   },
   "outputs": [],
   "source": [
    "# Drop the sales columns to get the input  features\n",
    "X = scaled_df.drop('Weekly_Sales', axis=1)\n",
    "# Use the sales column as a target columns\n",
    "y = scaled_df['Weekly_Sales']"
   ]
  },
  {
   "cell_type": "code",
   "execution_count": 33,
   "metadata": {
    "id": "eMBXWBsOBNzU"
   },
   "outputs": [],
   "source": [
    "# Importing train test split\n",
    "from sklearn.model_selection import train_test_split\n",
    "# dividing the dataset into the train and the test parts and each part has input feature and target features\n",
    "X_train, X_test, y_train, y_test = train_test_split(X, y, test_size=0.2, random_state = 42)"
   ]
  },
  {
   "cell_type": "code",
   "execution_count": 34,
   "metadata": {
    "colab": {
     "base_uri": "https://localhost:8080/"
    },
    "id": "oX6elOYdBQS_",
    "outputId": "9dfc3165-66b9-476f-9c50-b398d17963a4"
   },
   "outputs": [
    {
     "data": {
      "text/plain": [
       "((4760, 78), (1191, 78), (4760,), (1191,))"
      ]
     },
     "execution_count": 34,
     "metadata": {},
     "output_type": "execute_result"
    }
   ],
   "source": [
    "# Printin the shape of all the dataset\n",
    "X_train.shape, X_test.shape, y_train.shape, y_test.shape"
   ]
  },
  {
   "cell_type": "markdown",
   "metadata": {
    "id": "2JEIeQ5jHKpw"
   },
   "source": [
    "## Feature Selection"
   ]
  },
  {
   "cell_type": "markdown",
   "metadata": {},
   "source": [
    "Out of all the 78 features all are not important and we have to choose the important feature out of all the features"
   ]
  },
  {
   "cell_type": "code",
   "execution_count": 35,
   "metadata": {
    "id": "kGByOHPPFS2F"
   },
   "outputs": [],
   "source": [
    "# import a linear regerssion model\n",
    "from sklearn.linear_model import LinearRegression\n",
    "# import a Random Forest Regressor model\n",
    "from sklearn.ensemble import RandomForestRegressor\n",
    "# import a mean squared error for model evaluation\n",
    "from sklearn.metrics import mean_squared_error\n",
    "# import a r2 score for model evaluation\n",
    "from sklearn.metrics import r2_score\n",
    "# import a RFE model for feature selection\n",
    "from sklearn.feature_selection import RFE"
   ]
  },
  {
   "cell_type": "code",
   "execution_count": 36,
   "metadata": {
    "id": "APc3ReipKEUV"
   },
   "outputs": [],
   "source": [
    "# Creatint a list to store training and test error \n",
    "Trr=[]; Tss=[]; n=3\n",
    "order=['ord-'+str(i) for i in range(2,n)]\n",
    "Trd = pd.DataFrame(np.zeros((10,n-2)), columns=order)\n",
    "Tsd = pd.DataFrame(np.zeros((10,n-2)), columns=order)\n",
    "\n",
    "m=df.shape[1]-2\n",
    "for i in range(m):\n",
    "    # creating a linear regression model object\n",
    "    lm = LinearRegression()\n",
    "    # creating a rfe model object with linear regression model and with a parameter of the number of features \n",
    "    rfe = RFE(lm, n_features_to_select=X_train.shape[1]-i)\n",
    "    # fitting the rfe model to the trainig dataset\n",
    "    rfe = rfe.fit(X_train, y_train)\n",
    "    # creating a linear regression model object for prediction\n",
    "    LR = LinearRegression()\n",
    "    # fitted the lr model using the selected features\n",
    "    LR.fit(X_train.loc[:,rfe.support_], y_train)\n",
    "    # Made the prediction using the linear regression model\n",
    "    pred1 = LR.predict(X_train.loc[:,rfe.support_]) # make the prediction on the trainig dataset\n",
    "    pred2 = LR.predict(X_test.loc[:,rfe.support_]) # make the prediction on the test dataset\n",
    "    # Insert the mse into the Trr and Tss for train and test respectively\n",
    "    Trr.append(np.sqrt(mean_squared_error(y_train, pred1)))\n",
    "    Tss.append(np.sqrt(mean_squared_error(y_test, pred2)))"
   ]
  },
  {
   "cell_type": "code",
   "execution_count": 37,
   "metadata": {
    "colab": {
     "base_uri": "https://localhost:8080/",
     "height": 378
    },
    "id": "NjmxXDHsqtjJ",
    "outputId": "d367acd0-8c1c-4f4f-f737-5de31e50d296"
   },
   "outputs": [
    {
     "data": {
      "image/png": "[encoded data removed]",
      "text/plain": [
       "<Figure size 1000x600 with 1 Axes>"
      ]
     },
     "metadata": {
      "needs_background": "light"
     },
     "output_type": "display_data"
    }
   ],
   "source": [
    "plt.plot(Trr, label= 'Train RMSE')\n",
    "plt.plot(Tss, label= 'Test RMSE')\n",
    "plt.legend()\n",
    "plt.show()"
   ]
  },
  {
   "cell_type": "markdown",
   "metadata": {
    "id": "RSaCDr3kr1uk"
   },
   "source": [
    "If we Recursively Eleminate at most **Ten** features then the score is maximum."
   ]
  },
  {
   "cell_type": "code",
   "execution_count": 38,
   "metadata": {
    "colab": {
     "base_uri": "https://localhost:8080/"
    },
    "id": "Y-JxFYhZq5iy",
    "outputId": "9f027b4c-21ec-4f9f-8ba6-00ea00312bd5"
   },
   "outputs": [
    {
     "name": "stdout",
     "output_type": "stream",
     "text": [
      "MSE train 0.04100716765947519\n",
      "MSE test 0.045765756468564886\n",
      "r2_score train - 0.9319511925328909\n",
      "r2_score test - 0.9220703980018043\n"
     ]
    }
   ],
   "source": [
    "# Eleminating 10 features and using Linear Regresion model the error printed as follows which is the best possible score.\n",
    "\n",
    "# creating a linear regression model object\n",
    "lm = LinearRegression()\n",
    "# creating a rfe model object with linear regression model and with number of features equal to 10.\n",
    "rfe = RFE(lm,n_features_to_select=X_train.shape[1]-9) \n",
    "# fitting the rfe model to the trainig dataset\n",
    "rfe = rfe.fit(X_train, y_train)\n",
    "# creating a linear regression model object for prediction\n",
    "LR = LinearRegression()\n",
    "# fitted the lr model using the selected features\n",
    "LR.fit(X_train.loc[:,rfe.support_], y_train)\n",
    "# Made the prediction using the linear regression model\n",
    "pred1 = LR.predict(X_train.loc[:,rfe.support_])\n",
    "pred2 = LR.predict(X_test.loc[:,rfe.support_])\n",
    "# Printing the results as a MSE and r2_score.\n",
    "print(\"MSE train\",np.sqrt(mean_squared_error(y_train, pred1)))\n",
    "print(\"MSE test\",np.sqrt(mean_squared_error(y_test, pred2)))\n",
    "print(\"r2_score train - {}\".format(r2_score(y_train, pred1)))\n",
    "print(\"r2_score test - {}\".format(r2_score(y_test, pred2)))"
   ]
  },
  {
   "cell_type": "markdown",
   "metadata": {},
   "source": [
    "Now Removing the 10 features and create the New training and test dataset"
   ]
  },
  {
   "cell_type": "code",
   "execution_count": 39,
   "metadata": {
    "id": "0uSp1k6cv3V9"
   },
   "outputs": [],
   "source": [
    "X_train = X_train.loc[:,rfe.support_]\n",
    "X_test = X_test.loc[:,rfe.support_]"
   ]
  },
  {
   "cell_type": "markdown",
   "metadata": {},
   "source": [
    "Now onwards I am going to use various models to predict the output using the Newly created training and test dataset."
   ]
  },
  {
   "cell_type": "markdown",
   "metadata": {
    "id": "AkQofSuyBdSD"
   },
   "source": [
    "## Models"
   ]
  },
  {
   "cell_type": "markdown",
   "metadata": {},
   "source": [
    "### Linear Regression"
   ]
  },
  {
   "cell_type": "code",
   "execution_count": 40,
   "metadata": {
    "colab": {
     "base_uri": "https://localhost:8080/"
    },
    "id": "sD6R7U2yv2jB",
    "outputId": "0e604f7a-c7b7-4f6f-ec71-aa0c5dd88fd2"
   },
   "outputs": [
    {
     "name": "stdout",
     "output_type": "stream",
     "text": [
      "Root Mean Squared Error train 0.0016815877994523075\n",
      "Root Mean Squared Error test 0.045765756468564886\n",
      "r2_score train 0.9319511925328909\n",
      "r2_score test 0.9220703980018043\n"
     ]
    }
   ],
   "source": [
    "# Creating an object for linear regression model\n",
    "lr =LinearRegression()\n",
    "# fit the model into traning dataset\n",
    "lr.fit(X_train, y_train)\n",
    "#predict the training and test output\n",
    "pred1 = lr.predict(X_train)\n",
    "pred2 = lr.predict(X_test)\n",
    "# calculating and printing the training and test scores\n",
    "print(\"Root Mean Squared Error train {}\".format(np.mean(mean_squared_error(y_train, pred1))))\n",
    "print(\"Root Mean Squared Error test {}\".format(np.sqrt(mean_squared_error(y_test, pred2))))\n",
    "print(\"r2_score train {}\".format(r2_score(y_train, pred1)))\n",
    "print(\"r2_score test {}\".format(r2_score(y_test, pred2)))"
   ]
  },
  {
   "cell_type": "markdown",
   "metadata": {
    "id": "x6zJIryQclSZ"
   },
   "source": [
    "### Ridge Regression"
   ]
  },
  {
   "cell_type": "code",
   "execution_count": 41,
   "metadata": {
    "colab": {
     "base_uri": "https://localhost:8080/"
    },
    "id": "r1DrhBkty16r",
    "outputId": "6a9023a8-69df-4301-f3b5-ec9d736b5aea"
   },
   "outputs": [
    {
     "name": "stdout",
     "output_type": "stream",
     "text": [
      "Root Mean Squared Error train 0.0017672135583490427\n",
      "Root Mean Squared Error test 0.047747698629527796\n",
      "r2_score train 0.9284861752538129\n",
      "r2_score test 0.9151745727501408\n"
     ]
    }
   ],
   "source": [
    "# import ridge regression mode\n",
    "from sklearn.linear_model import Ridge\n",
    "# Create an object of the model\n",
    "rr = Ridge()\n",
    "# fit the model into traning dataset\n",
    "rr.fit(X_train, y_train)\n",
    "#predict the training and test output\n",
    "predrr1 = rr.predict(X_train)\n",
    "predrr2 = rr.predict(X_test)\n",
    "# calculating and printing the training and test scores\n",
    "print(\"Root Mean Squared Error train {}\".format(np.mean(mean_squared_error(y_train, predrr1))))\n",
    "print(\"Root Mean Squared Error test {}\".format(np.sqrt(mean_squared_error(y_test, predrr2))))\n",
    "print(\"r2_score train {}\".format(r2_score(y_train, predrr1)))\n",
    "print(\"r2_score test {}\".format(r2_score(y_test, predrr2)))"
   ]
  },
  {
   "cell_type": "markdown",
   "metadata": {
    "id": "2Y0ahAqDu3XD"
   },
   "source": [
    "### Lasso Regression"
   ]
  },
  {
   "cell_type": "code",
   "execution_count": 42,
   "metadata": {
    "colab": {
     "base_uri": "https://localhost:8080/"
    },
    "id": "uUlDM-7ruZDH",
    "outputId": "8283d5d8-cd81-45dd-f9a5-0cf93a8c0d12"
   },
   "outputs": [
    {
     "name": "stdout",
     "output_type": "stream",
     "text": [
      "Root Mean Squared Error train 0.024711495499242828\n",
      "Root Mean Squared Error test 0.16395383804559885\n",
      "r2_score train 0.0\n",
      "r2_score test -0.00014816618161050954\n"
     ]
    }
   ],
   "source": [
    "from sklearn.linear_model import Lasso\n",
    "# Create an object of the model\n",
    "lr = Lasso()\n",
    "# fit the model into traning dataset\n",
    "lr.fit(X_train, y_train)\n",
    "#predict the training and test output\n",
    "predlr1 = lr.predict(X_train)\n",
    "predlr2 = lr.predict(X_test)\n",
    "# calculating and printing the training and test scores\n",
    "print(\"Root Mean Squared Error train {}\".format(np.mean(mean_squared_error(y_train, predlr1))))\n",
    "print(\"Root Mean Squared Error test {}\".format(np.sqrt(mean_squared_error(y_test, predlr2))))\n",
    "print(\"r2_score train {}\".format(r2_score(y_train, predlr1)))\n",
    "print(\"r2_score test {}\".format(r2_score(y_test, predlr2)))"
   ]
  },
  {
   "cell_type": "markdown",
   "metadata": {
    "id": "tLMigwXou6xO"
   },
   "source": [
    "### ElasticNet Regression"
   ]
  },
  {
   "cell_type": "code",
   "execution_count": 43,
   "metadata": {
    "colab": {
     "base_uri": "https://localhost:8080/"
    },
    "id": "NOSOCAYQu_Nr",
    "outputId": "d1dc41ce-23b8-4368-ddaa-7ff05985ee63"
   },
   "outputs": [
    {
     "name": "stdout",
     "output_type": "stream",
     "text": [
      "Root Mean Squared Error train 0.024711495499242828\n",
      "Root Mean Squared Error test 0.16395383804559885\n",
      "r2_score train 0.0\n",
      "r2_score test -0.00014816618161050954\n"
     ]
    }
   ],
   "source": [
    "from sklearn.linear_model import ElasticNet\n",
    "# Create an object of the model\n",
    "en = ElasticNet()\n",
    "# fit the model into traning dataset\n",
    "en.fit(X_train, y_train)\n",
    "#predict the training and test output\n",
    "predlr1 = en.predict(X_train)\n",
    "predlr2 = en.predict(X_test)\n",
    "# calculating and printing the training and test scores\n",
    "print(\"Root Mean Squared Error train {}\".format(np.mean(mean_squared_error(y_train, predlr1))))\n",
    "print(\"Root Mean Squared Error test {}\".format(np.sqrt(mean_squared_error(y_test, predlr2))))\n",
    "print(\"r2_score train {}\".format(r2_score(y_train, predlr1)))\n",
    "print(\"r2_score test {}\".format(r2_score(y_test, predlr2)))"
   ]
  },
  {
   "cell_type": "markdown",
   "metadata": {
    "id": "CETh_HMie4MC"
   },
   "source": [
    "### Polynomial Regression"
   ]
  },
  {
   "cell_type": "code",
   "execution_count": 44,
   "metadata": {
    "id": "zB8BwPRDfjH6"
   },
   "outputs": [],
   "source": [
    "# Import the polynomial regression model\n",
    "from sklearn.preprocessing import PolynomialFeatures"
   ]
  },
  {
   "cell_type": "markdown",
   "metadata": {},
   "source": [
    "To check which degree of freedom is best for the polynomial model, I explore degrees of 2 and 3."
   ]
  },
  {
   "cell_type": "code",
   "execution_count": 45,
   "metadata": {
    "id": "mQCHSdJ2hXwM"
   },
   "outputs": [],
   "source": [
    "# Creating a list to store the training and test error\n",
    "Trr = []\n",
    "Tss = []\n",
    "# initialize the for loop from 2 to 3\n",
    "for i in range(2,4):\n",
    "      # creating an model object with i degree\n",
    "      poly_reg = PolynomialFeatures(degree = i)\n",
    "      # fit and transform the features in the training dataset into a polynomial combination of features\n",
    "      pl_X_train = poly_reg.fit_transform(X_train)\n",
    "      # fit and transform the features in the testing dataset into a polynomial combination of features\n",
    "      pl_X_test = poly_reg.fit_transform(X_test)\n",
    "      # Create a linear regression object\n",
    "      lr = LinearRegression()\n",
    "      # fit the model to the polynomial combination of train features\n",
    "      lr.fit(pl_X_train, y_train)\n",
    "      # Predict the training output\n",
    "      pred_poly_train = lr.predict(pl_X_train)\n",
    "      # insert the error into the training dataset\n",
    "      Trr.append(np.sqrt(mean_squared_error(y_train, pred_poly_train)))\n",
    "      # Predict the testing output\n",
    "      pred_poly_test = lr.predict(pl_X_test)\n",
    "      # insert the error into the testing dataset\n",
    "      Tss.append(np.sqrt(mean_squared_error(y_test, pred_poly_test)))"
   ]
  },
  {
   "cell_type": "code",
   "execution_count": 46,
   "metadata": {
    "colab": {
     "base_uri": "https://localhost:8080/",
     "height": 433
    },
    "id": "imp9hsFDlGZ8",
    "outputId": "64eef10d-d211-428c-e41f-ff10d8de6c89"
   },
   "outputs": [
    {
     "data": {
      "text/plain": [
       "<matplotlib.legend.Legend at 0x17a1c787880>"
      ]
     },
     "execution_count": 46,
     "metadata": {},
     "output_type": "execute_result"
    },
    {
     "data": {
      "image/png": "[encoded data removed]",
      "text/plain": [
       "<Figure size 1500x600 with 1 Axes>"
      ]
     },
     "metadata": {
      "needs_background": "light"
     },
     "output_type": "display_data"
    }
   ],
   "source": [
    "# plot the trainig and test error vs the degree of polynomial\n",
    "plt.figure(figsize=[15,6])\n",
    "plt.subplot(1,2,1)\n",
    "plt.plot(range(2,4), Trr, label= 'Training')\n",
    "plt.plot(range(2,4), Tss, label= 'Testing')\n",
    "plt.title('Polynomial Feature on training data')\n",
    "plt.xlabel('Degree')\n",
    "plt.ylabel('RMSE')\n",
    "plt.legend()"
   ]
  },
  {
   "cell_type": "markdown",
   "metadata": {
    "id": "gRYxfuQqpcvD"
   },
   "source": [
    "It is clear that in between 2-4 degree polynomial regression 2 has Bais-variance tradeoff"
   ]
  },
  {
   "cell_type": "code",
   "execution_count": 47,
   "metadata": {
    "colab": {
     "base_uri": "https://localhost:8080/"
    },
    "id": "mHBnSFZzlTai",
    "outputId": "afac8ffa-8b79-4b95-eae7-7d268bdf42c6"
   },
   "outputs": [
    {
     "name": "stdout",
     "output_type": "stream",
     "text": [
      "r2_score train 0.9666726247986553\n",
      "r2_score test -0.001639794585522214\n",
      "Root Mean Squared Error train 0.0007991830678960631\n",
      "Root Mean Squared Error test 712784342.9273419\n"
     ]
    }
   ],
   "source": [
    "#  Now Creating a model with the polynomial of degree 2\n",
    "\n",
    "# Creating and polynomial object \n",
    "poly_reg = PolynomialFeatures(degree = 2)\n",
    "# transform the training features into a polynomial combination of train features\n",
    "pl_X_train = poly_reg.fit_transform(X_train)\n",
    "# transform the training features into a polynomial combination of train features\n",
    "pl_X_test = poly_reg.fit_transform(X_test)\n",
    "# Create an object of the model\n",
    "lr = LinearRegression()\n",
    "# fit the model into traning dataset\n",
    "lr.fit(pl_X_train, y_train)\n",
    "#predict the training and test output\n",
    "pred_poly_train = lr.predict(pl_X_train)\n",
    "pred_poly_test = lr.predict(pl_X_test)\n",
    "# calculating and printing the training and test scores\n",
    "print(\"r2_score train {}\".format(r2_score(pred_poly_train, y_train)))\n",
    "print(\"r2_score test {}\".format(r2_score(pred_poly_test, y_test)))\n",
    "print(\"Root Mean Squared Error train {}\".format(np.mean(mean_squared_error(y_train, pred_poly_train))))\n",
    "print(\"Root Mean Squared Error test {}\".format(np.sqrt(mean_squared_error(y_test, pred_poly_test))))"
   ]
  },
  {
   "cell_type": "code",
   "execution_count": 48,
   "metadata": {
    "id": "6HoezSNiqmss"
   },
   "outputs": [],
   "source": [
    "#creating a tabel \n",
    "tabel = {\n",
    "        'Train R2': [0.9324387485162124, 0.9323641360074176, 0.0, 0.0, 0.9563932198334125],\n",
    "        'Test R2' : [0.9223162582948724, 0.9219331606995953, -0.00014816618161050954, -0.00014816618161050954, -0.0005599911350040454],\n",
    "        'Train RMSE' : [0.0016695395619648289, 0.0016713833486400986, 0.024711495499242828, 0.024711495499242828, 0.0010346077251656776 ],\n",
    "        'Test RMSE' : [0.04569350618906344, 0.04580603645234492, 0.16395383804559885, 0.16395383804559885, 730742413.004261 ]\n",
    "        }"
   ]
  },
  {
   "cell_type": "code",
   "execution_count": 49,
   "metadata": {
    "id": "15aJ93r7sZxk"
   },
   "outputs": [],
   "source": [
    "df_new = pd.DataFrame(tabel) "
   ]
  },
  {
   "cell_type": "code",
   "execution_count": 50,
   "metadata": {
    "id": "NRpZ7pq2t8iK"
   },
   "outputs": [],
   "source": [
    "df_new.index = ['Linear Regression', 'Ridge Regression', 'Lasso Regression', 'ElasticNet Regression', 'Polynomial Regression']"
   ]
  },
  {
   "cell_type": "code",
   "execution_count": 51,
   "metadata": {
    "colab": {
     "base_uri": "https://localhost:8080/",
     "height": 206
    },
    "id": "h5ss0EGQuMEs",
    "outputId": "55be9aa5-fb47-47a8-e36f-343e36072b68"
   },
   "outputs": [
    {
     "data": {
      "text/html": [
       "<div>\n",
       "<style scoped>\n",
       "    .dataframe tbody tr th:only-of-type {\n",
       "        vertical-align: middle;\n",
       "    }\n",
       "\n",
       "    .dataframe tbody tr th {\n",
       "        vertical-align: top;\n",
       "    }\n",
       "\n",
       "    .dataframe thead th {\n",
       "        text-align: right;\n",
       "    }\n",
       "</style>\n",
       "<table border=\"1\" class=\"dataframe\">\n",
       "  <thead>\n",
       "    <tr style=\"text-align: right;\">\n",
       "      <th></th>\n",
       "      <th>Train R2</th>\n",
       "      <th>Test R2</th>\n",
       "      <th>Train RMSE</th>\n",
       "      <th>Test RMSE</th>\n",
       "    </tr>\n",
       "  </thead>\n",
       "  <tbody>\n",
       "    <tr>\n",
       "      <th>Linear Regression</th>\n",
       "      <td>0.932439</td>\n",
       "      <td>0.922316</td>\n",
       "      <td>0.001670</td>\n",
       "      <td>4.569351e-02</td>\n",
       "    </tr>\n",
       "    <tr>\n",
       "      <th>Ridge Regression</th>\n",
       "      <td>0.932364</td>\n",
       "      <td>0.921933</td>\n",
       "      <td>0.001671</td>\n",
       "      <td>4.580604e-02</td>\n",
       "    </tr>\n",
       "    <tr>\n",
       "      <th>Lasso Regression</th>\n",
       "      <td>0.000000</td>\n",
       "      <td>-0.000148</td>\n",
       "      <td>0.024711</td>\n",
       "      <td>1.639538e-01</td>\n",
       "    </tr>\n",
       "    <tr>\n",
       "      <th>ElasticNet Regression</th>\n",
       "      <td>0.000000</td>\n",
       "      <td>-0.000148</td>\n",
       "      <td>0.024711</td>\n",
       "      <td>1.639538e-01</td>\n",
       "    </tr>\n",
       "    <tr>\n",
       "      <th>Polynomial Regression</th>\n",
       "      <td>0.956393</td>\n",
       "      <td>-0.000560</td>\n",
       "      <td>0.001035</td>\n",
       "      <td>7.307424e+08</td>\n",
       "    </tr>\n",
       "  </tbody>\n",
       "</table>\n",
       "</div>"
      ],
      "text/plain": [
       "                       Train R2   Test R2  Train RMSE     Test RMSE\n",
       "Linear Regression      0.932439  0.922316    0.001670  4.569351e-02\n",
       "Ridge Regression       0.932364  0.921933    0.001671  4.580604e-02\n",
       "Lasso Regression       0.000000 -0.000148    0.024711  1.639538e-01\n",
       "ElasticNet Regression  0.000000 -0.000148    0.024711  1.639538e-01\n",
       "Polynomial Regression  0.956393 -0.000560    0.001035  7.307424e+08"
      ]
     },
     "execution_count": 51,
     "metadata": {},
     "output_type": "execute_result"
    }
   ],
   "source": [
    "df_new"
   ]
  },
  {
   "cell_type": "markdown",
   "metadata": {
    "id": "U1dNQB1KvuP-"
   },
   "source": [
    "It is clear that Linear Regression is the Best Model in the dataset, with test accuracy of 92%(approx). \n",
    "\n",
    "To improve the accuracy further we can apply other regressor i.e. Random Forest, G"
   ]
  },
  {
   "cell_type": "markdown",
   "metadata": {
    "id": "hC-CZ3klm8A9"
   },
   "source": [
    "Now I am going to imporve the accuracy till 98% - 99%. For this I have to use Decision Tree or Random Forest etc."
   ]
  },
  {
   "cell_type": "markdown",
   "metadata": {
    "id": "a_LqH0uUt-7V"
   },
   "source": [
    "### Decision Tree Regressor"
   ]
  },
  {
   "cell_type": "code",
   "execution_count": 52,
   "metadata": {
    "colab": {
     "base_uri": "https://localhost:8080/"
    },
    "id": "4zzf04E_ndeG",
    "outputId": "bd692f88-5ff2-41ff-ff3b-70e074cf2ee8"
   },
   "outputs": [
    {
     "data": {
      "text/html": [
       "<style>#sk-container-id-2 {color: black;background-color: white;}#sk-container-id-2 pre{padding: 0;}#sk-container-id-2 div.sk-toggleable {background-color: white;}#sk-container-id-2 label.sk-toggleable__label {cursor: pointer;display: block;width: 100%;margin-bottom: 0;padding: 0.3em;box-sizing: border-box;text-align: center;}#sk-container-id-2 label.sk-toggleable__label-arrow:before {content: \"▸\";float: left;margin-right: 0.25em;color: #696969;}#sk-container-id-2 label.sk-toggleable__label-arrow:hover:before {color: black;}#sk-container-id-2 div.sk-estimator:hover label.sk-toggleable__label-arrow:before {color: black;}#sk-container-id-2 div.sk-toggleable__content {max-height: 0;max-width: 0;overflow: hidden;text-align: left;background-color: #f0f8ff;}#sk-container-id-2 div.sk-toggleable__content pre {margin: 0.2em;color: black;border-radius: 0.25em;background-color: #f0f8ff;}#sk-container-id-2 input.sk-toggleable__control:checked~div.sk-toggleable__content {max-height: 200px;max-width: 100%;overflow: auto;}#sk-container-id-2 input.sk-toggleable__control:checked~label.sk-toggleable__label-arrow:before {content: \"▾\";}#sk-container-id-2 div.sk-estimator input.sk-toggleable__control:checked~label.sk-toggleable__label {background-color: #d4ebff;}#sk-container-id-2 div.sk-label input.sk-toggleable__control:checked~label.sk-toggleable__label {background-color: #d4ebff;}#sk-container-id-2 input.sk-hidden--visually {border: 0;clip: rect(1px 1px 1px 1px);clip: rect(1px, 1px, 1px, 1px);height: 1px;margin: -1px;overflow: hidden;padding: 0;position: absolute;width: 1px;}#sk-container-id-2 div.sk-estimator {font-family: monospace;background-color: #f0f8ff;border: 1px dotted black;border-radius: 0.25em;box-sizing: border-box;margin-bottom: 0.5em;}#sk-container-id-2 div.sk-estimator:hover {background-color: #d4ebff;}#sk-container-id-2 div.sk-parallel-item::after {content: \"\";width: 100%;border-bottom: 1px solid gray;flex-grow: 1;}#sk-container-id-2 div.sk-label:hover label.sk-toggleable__label {background-color: #d4ebff;}#sk-container-id-2 div.sk-serial::before {content: \"\";position: absolute;border-left: 1px solid gray;box-sizing: border-box;top: 0;bottom: 0;left: 50%;z-index: 0;}#sk-container-id-2 div.sk-serial {display: flex;flex-direction: column;align-items: center;background-color: white;padding-right: 0.2em;padding-left: 0.2em;position: relative;}#sk-container-id-2 div.sk-item {position: relative;z-index: 1;}#sk-container-id-2 div.sk-parallel {display: flex;align-items: stretch;justify-content: center;background-color: white;position: relative;}#sk-container-id-2 div.sk-item::before, #sk-container-id-2 div.sk-parallel-item::before {content: \"\";position: absolute;border-left: 1px solid gray;box-sizing: border-box;top: 0;bottom: 0;left: 50%;z-index: -1;}#sk-container-id-2 div.sk-parallel-item {display: flex;flex-direction: column;z-index: 1;position: relative;background-color: white;}#sk-container-id-2 div.sk-parallel-item:first-child::after {align-self: flex-end;width: 50%;}#sk-container-id-2 div.sk-parallel-item:last-child::after {align-self: flex-start;width: 50%;}#sk-container-id-2 div.sk-parallel-item:only-child::after {width: 0;}#sk-container-id-2 div.sk-dashed-wrapped {border: 1px dashed gray;margin: 0 0.4em 0.5em 0.4em;box-sizing: border-box;padding-bottom: 0.4em;background-color: white;}#sk-container-id-2 div.sk-label label {font-family: monospace;font-weight: bold;display: inline-block;line-height: 1.2em;}#sk-container-id-2 div.sk-label-container {text-align: center;}#sk-container-id-2 div.sk-container {/* jupyter's `normalize.less` sets `[hidden] { display: none; }` but bootstrap.min.css set `[hidden] { display: none !important; }` so we also need the `!important` here to be able to override the default hidden behavior on the sphinx rendered scikit-learn.org. See: https://github.com/scikit-learn/scikit-learn/issues/21755 */display: inline-block !important;position: relative;}#sk-container-id-2 div.sk-text-repr-fallback {display: none;}</style><div id=\"sk-container-id-2\" class=\"sk-top-container\"><div class=\"sk-text-repr-fallback\"><pre>DecisionTreeRegressor()</pre><b>In a Jupyter environment, please rerun this cell to show the HTML representation or trust the notebook. <br />On GitHub, the HTML representation is unable to render, please try loading this page with nbviewer.org.</b></div><div class=\"sk-container\" hidden><div class=\"sk-item\"><div class=\"sk-estimator sk-toggleable\"><input class=\"sk-toggleable__control sk-hidden--visually\" id=\"sk-estimator-id-2\" type=\"checkbox\" checked><label for=\"sk-estimator-id-2\" class=\"sk-toggleable__label sk-toggleable__label-arrow\">DecisionTreeRegressor</label><div class=\"sk-toggleable__content\"><pre>DecisionTreeRegressor()</pre></div></div></div></div></div>"
      ],
      "text/plain": [
       "DecisionTreeRegressor()"
      ]
     },
     "execution_count": 52,
     "metadata": {},
     "output_type": "execute_result"
    }
   ],
   "source": [
    "# Importing a Decision Tree Regressor\n",
    "from sklearn.tree import DecisionTreeRegressor\n",
    "# Create an object of the model\n",
    "dt = DecisionTreeRegressor()\n",
    "# fit the model into traning dataset\n",
    "dt.fit(X_train, y_train)"
   ]
  },
  {
   "cell_type": "code",
   "execution_count": 53,
   "metadata": {
    "colab": {
     "base_uri": "https://localhost:8080/"
    },
    "id": "TLXmPbdkqyA2",
    "outputId": "7bbacea4-67e3-43ec-b99a-d38438df1ff7"
   },
   "outputs": [
    {
     "name": "stdout",
     "output_type": "stream",
     "text": [
      "RMSE for train 0.020234864785305996\n",
      "RMSE for test 0.04945922795646824\n",
      "Accuracy Score train:  0.9834307983144055\n",
      "Accuracy Score test:  0.9089844006291143\n"
     ]
    }
   ],
   "source": [
    "#predict the training and test output\n",
    "pred_dt1 = dt.predict(X_train)\n",
    "pred_dt2 = dt.predict(X_test)\n",
    "# calculating and printing the training and test scores\n",
    "print(\"RMSE for train {}\".format(np.sqrt(mean_squared_error(y_train, pred_dt1))))\n",
    "print(\"RMSE for test {}\".format(np.sqrt(mean_squared_error(y_test, pred_dt2))))\n",
    "print('Accuracy Score train: ', dt.score(X_train, y_train))\n",
    "print('Accuracy Score test: ', dt.score(X_test, y_test))"
   ]
  },
  {
   "cell_type": "markdown",
   "metadata": {},
   "source": [
    "Now iterate over the depth of 1 to 40 and check at which depth, the accuracy will be maximum. "
   ]
  },
  {
   "cell_type": "code",
   "execution_count": 54,
   "metadata": {
    "id": "xPOkbi7Z6FkT"
   },
   "outputs": [
    {
     "name": "stdout",
     "output_type": "stream",
     "text": [
      "for max_depth:  1\n",
      "RMSE for train 0.15187631364453125\n",
      "RMSE for test 0.1577629474223062\n",
      "Accuracy Score train:  0.0665714809951996\n",
      "Accuracy Score test:  0.07395692049513791\n",
      "\n",
      "for max_depth:  2\n",
      "RMSE for train 0.14687805490077865\n",
      "RMSE for test 0.15239959889083154\n",
      "Accuracy Score train:  0.1269988895614529\n",
      "Accuracy Score test:  0.1358506341145047\n",
      "\n",
      "for max_depth:  3\n",
      "RMSE for train 0.14162694478512178\n",
      "RMSE for test 0.14675467590988334\n",
      "Accuracy Score train:  0.18830523673556998\n",
      "Accuracy Score test:  0.19868169628555288\n",
      "\n",
      "for max_depth:  4\n",
      "RMSE for train 0.13692692481814708\n",
      "RMSE for test 0.1431394142391219\n",
      "Accuracy Score train:  0.2412849825001897\n",
      "Accuracy Score test:  0.23767591886045436\n",
      "\n",
      "for max_depth:  5\n",
      "RMSE for train 0.1330686400455888\n",
      "RMSE for test 0.14042265498584874\n",
      "Accuracy Score train:  0.283440252973559\n",
      "Accuracy Score test:  0.2663388407037629\n",
      "\n",
      "for max_depth:  6\n",
      "RMSE for train 0.12954685671215962\n",
      "RMSE for test 0.1377790862373509\n",
      "Accuracy Score train:  0.3208671614182541\n",
      "Accuracy Score test:  0.29370233909564447\n",
      "\n",
      "for max_depth:  7\n",
      "RMSE for train 0.12588894892594854\n",
      "RMSE for test 0.1348282591385589\n",
      "Accuracy Score train:  0.35867792938045095\n",
      "Accuracy Score test:  0.3236320474180665\n",
      "\n",
      "for max_depth:  8\n",
      "RMSE for train 0.12251993035276473\n",
      "RMSE for test 0.1311136119015833\n",
      "Accuracy Score train:  0.39254452106687476\n",
      "Accuracy Score test:  0.36038781229236394\n",
      "\n",
      "for max_depth:  9\n",
      "RMSE for train 0.11942356864178524\n",
      "RMSE for test 0.12764203038891084\n",
      "Accuracy Score train:  0.4228601523701313\n",
      "Accuracy Score test:  0.3938102685201452\n",
      "\n",
      "for max_depth:  10\n",
      "RMSE for train 0.11645622714079004\n",
      "RMSE for test 0.12420305114427699\n",
      "Accuracy Score train:  0.4511844562267455\n",
      "Accuracy Score test:  0.4260346207530127\n",
      "\n",
      "for max_depth:  11\n",
      "RMSE for train 0.11364601230719981\n",
      "RMSE for test 0.12234965841089016\n",
      "Accuracy Score train:  0.4773519023272409\n",
      "Accuracy Score test:  0.44303655778131645\n",
      "\n",
      "for max_depth:  12\n",
      "RMSE for train 0.11090191329640903\n",
      "RMSE for test 0.11934018621383206\n",
      "Accuracy Score train:  0.5022869266175702\n",
      "Accuracy Score test:  0.47009918190738276\n",
      "\n",
      "for max_depth:  13\n",
      "RMSE for train 0.1080359041756038\n",
      "RMSE for test 0.11672889640633145\n",
      "Accuracy Score train:  0.5276790677683642\n",
      "Accuracy Score test:  0.4930350590489667\n",
      "\n",
      "for max_depth:  14\n",
      "RMSE for train 0.10502271794823038\n",
      "RMSE for test 0.11327768864167083\n",
      "Accuracy Score train:  0.5536582848427158\n",
      "Accuracy Score test:  0.5225697575967447\n",
      "\n",
      "for max_depth:  15\n",
      "RMSE for train 0.10171030720677285\n",
      "RMSE for test 0.10993767487559838\n",
      "Accuracy Score train:  0.5813694645711311\n",
      "Accuracy Score test:  0.5503089304915829\n",
      "\n",
      "for max_depth:  16\n",
      "RMSE for train 0.09806348026787017\n",
      "RMSE for test 0.1072646123189633\n",
      "Accuracy Score train:  0.6108513075405893\n",
      "Accuracy Score test:  0.5719109664342051\n",
      "\n",
      "for max_depth:  17\n",
      "RMSE for train 0.09461582068462907\n",
      "RMSE for test 0.10432343490184173\n",
      "Accuracy Score train:  0.6377332353640766\n",
      "Accuracy Score test:  0.5950653658587484\n",
      "\n",
      "for max_depth:  18\n",
      "RMSE for train 0.09108068189723754\n",
      "RMSE for test 0.10055323143657272\n",
      "Accuracy Score train:  0.6642983175534658\n",
      "Accuracy Score test:  0.6238048160056439\n",
      "\n",
      "for max_depth:  19\n",
      "RMSE for train 0.08776063409966663\n",
      "RMSE for test 0.09777041629941126\n",
      "Accuracy Score train:  0.6883260708437674\n",
      "Accuracy Score test:  0.6443391218599243\n",
      "\n",
      "for max_depth:  20\n",
      "RMSE for train 0.0847302538483855\n",
      "RMSE for test 0.0952498400328609\n",
      "Accuracy Score train:  0.709478695150934\n",
      "Accuracy Score test:  0.6624410108970262\n",
      "\n",
      "for max_depth:  21\n",
      "RMSE for train 0.08162621811814325\n",
      "RMSE for test 0.0920647686883827\n",
      "Accuracy Score train:  0.7303748984162108\n",
      "Accuracy Score test:  0.6846389155662478\n",
      "\n",
      "for max_depth:  22\n",
      "RMSE for train 0.07938687334132159\n",
      "RMSE for test 0.08988196409284094\n",
      "Accuracy Score train:  0.7449658334476705\n",
      "Accuracy Score test:  0.6994157119318364\n",
      "\n",
      "for max_depth:  23\n",
      "RMSE for train 0.0770565124645478\n",
      "RMSE for test 0.08748448494698098\n",
      "Accuracy Score train:  0.759718867950305\n",
      "Accuracy Score test:  0.7152372054341218\n",
      "\n",
      "for max_depth:  24\n",
      "RMSE for train 0.07452084734758473\n",
      "RMSE for test 0.08447111264905356\n",
      "Accuracy Score train:  0.775272334708671\n",
      "Accuracy Score test:  0.7345164617344051\n",
      "\n",
      "for max_depth:  25\n",
      "RMSE for train 0.07176623685104166\n",
      "RMSE for test 0.08227838104063738\n",
      "Accuracy Score train:  0.7915790749322468\n",
      "Accuracy Score test:  0.748120604116136\n",
      "\n",
      "for max_depth:  26\n",
      "RMSE for train 0.06924570100172704\n",
      "RMSE for test 0.08038162792969022\n",
      "Accuracy Score train:  0.8059620832188201\n",
      "Accuracy Score test:  0.7595998343025872\n",
      "\n",
      "for max_depth:  27\n",
      "RMSE for train 0.06666411848877161\n",
      "RMSE for test 0.07762769765447956\n",
      "Accuracy Score train:  0.8201604312445943\n",
      "Accuracy Score test:  0.7757902063056167\n",
      "\n",
      "for max_depth:  28\n",
      "RMSE for train 0.06389149010985233\n",
      "RMSE for test 0.07573605222214563\n",
      "Accuracy Score train:  0.8348087630478521\n",
      "Accuracy Score test:  0.7865842363517463\n",
      "\n",
      "for max_depth:  29\n",
      "RMSE for train 0.06100759232435961\n",
      "RMSE for test 0.07306201023271577\n",
      "Accuracy Score train:  0.849384820868923\n",
      "Accuracy Score test:  0.8013884950762601\n",
      "\n",
      "for max_depth:  30\n",
      "RMSE for train 0.05835672415686418\n",
      "RMSE for test 0.07154453522701933\n",
      "Accuracy Score train:  0.8621893501174511\n",
      "Accuracy Score test:  0.8095530152316992\n",
      "\n",
      "for max_depth:  31\n",
      "RMSE for train 0.055724522550500706\n",
      "RMSE for test 0.06928500436253854\n",
      "Accuracy Score train:  0.8743409756978728\n",
      "Accuracy Score test:  0.8213925109600158\n",
      "\n",
      "for max_depth:  32\n",
      "RMSE for train 0.053657245734054775\n",
      "RMSE for test 0.06810565183208471\n",
      "Accuracy Score train:  0.8834914697957897\n",
      "Accuracy Score test:  0.827421187855807\n",
      "\n",
      "for max_depth:  33\n",
      "RMSE for train 0.0521042622601683\n",
      "RMSE for test 0.06725736977297656\n",
      "Accuracy Score train:  0.8901380069951823\n",
      "Accuracy Score test:  0.8316934853832318\n",
      "\n",
      "for max_depth:  34\n",
      "RMSE for train 0.05014832090044591\n",
      "RMSE for test 0.06565612353606691\n",
      "Accuracy Score train:  0.8982314085680829\n",
      "Accuracy Score test:  0.8396120845946011\n",
      "\n",
      "for max_depth:  35\n",
      "RMSE for train 0.04852321877831769\n",
      "RMSE for test 0.06423692747450992\n",
      "Accuracy Score train:  0.9047203452061157\n",
      "Accuracy Score test:  0.8464709058151392\n",
      "\n",
      "for max_depth:  36\n",
      "RMSE for train 0.04669159089352725\n",
      "RMSE for test 0.06308415156160527\n",
      "Accuracy Score train:  0.9117777125129753\n",
      "Accuracy Score test:  0.8519318328222926\n",
      "\n",
      "for max_depth:  37\n",
      "RMSE for train 0.0446597527843876\n",
      "RMSE for test 0.06206422706175702\n",
      "Accuracy Score train:  0.9192888379085058\n",
      "Accuracy Score test:  0.8566809667745079\n",
      "\n",
      "for max_depth:  38\n",
      "RMSE for train 0.04235445651676252\n",
      "RMSE for test 0.061536350899123654\n",
      "Accuracy Score train:  0.9274062556478909\n",
      "Accuracy Score test:  0.8591085477210461\n",
      "\n",
      "for max_depth:  39\n",
      "RMSE for train 0.03962868738055953\n",
      "RMSE for test 0.06019197311246715\n",
      "Accuracy Score train:  0.9364492989283373\n",
      "Accuracy Score test:  0.8651973817793701\n",
      "\n"
     ]
    }
   ],
   "source": [
    "# Create a list of range from 1 to 39\n",
    "max_depth_range = np.arange(1,40,1)\n",
    "for x in max_depth_range:\n",
    "  # Create a decision tree object with x depth\n",
    "  dt = DecisionTreeRegressor(max_depth= x)\n",
    "  # fit the object to the training dataset\n",
    "  dt.fit(X_train, y_train)\n",
    "  # Predict the training and test output\n",
    "  pred_dt1 = dt.predict(X_train)\n",
    "  pred_dt2 = dt.predict(X_test)\n",
    "  # Printing the rmse and accuracy for training and testing dataset, crossponding to a sepcific depth\n",
    "  print('for max_depth: ', x)\n",
    "  print(\"RMSE for train {}\".format(np.sqrt(mean_squared_error(y_train, pred_dt1))))\n",
    "  print(\"RMSE for test {}\".format(np.sqrt(mean_squared_error(y_test, pred_dt2))))\n",
    "  print('Accuracy Score train: ', dt.score(X_train, y_train))\n",
    "  print('Accuracy Score test: ', dt.score(X_test, y_test))\n",
    "  print()"
   ]
  },
  {
   "cell_type": "markdown",
   "metadata": {
    "id": "vPCmEkY3_aUL"
   },
   "source": [
    "Decision Tree has maximum accuracy at **maximum depth 39** "
   ]
  },
  {
   "cell_type": "markdown",
   "metadata": {
    "id": "ynbvHfSzuDKV"
   },
   "source": [
    "### Random Forest Regressor"
   ]
  },
  {
   "cell_type": "code",
   "execution_count": 55,
   "metadata": {
    "colab": {
     "base_uri": "https://localhost:8080/"
    },
    "id": "WyP5xkl_rkH5",
    "outputId": "f24466ce-7712-40d3-a8bb-1e619269a489"
   },
   "outputs": [
    {
     "data": {
      "text/html": [
       "<style>#sk-container-id-3 {color: black;background-color: white;}#sk-container-id-3 pre{padding: 0;}#sk-container-id-3 div.sk-toggleable {background-color: white;}#sk-container-id-3 label.sk-toggleable__label {cursor: pointer;display: block;width: 100%;margin-bottom: 0;padding: 0.3em;box-sizing: border-box;text-align: center;}#sk-container-id-3 label.sk-toggleable__label-arrow:before {content: \"▸\";float: left;margin-right: 0.25em;color: #696969;}#sk-container-id-3 label.sk-toggleable__label-arrow:hover:before {color: black;}#sk-container-id-3 div.sk-estimator:hover label.sk-toggleable__label-arrow:before {color: black;}#sk-container-id-3 div.sk-toggleable__content {max-height: 0;max-width: 0;overflow: hidden;text-align: left;background-color: #f0f8ff;}#sk-container-id-3 div.sk-toggleable__content pre {margin: 0.2em;color: black;border-radius: 0.25em;background-color: #f0f8ff;}#sk-container-id-3 input.sk-toggleable__control:checked~div.sk-toggleable__content {max-height: 200px;max-width: 100%;overflow: auto;}#sk-container-id-3 input.sk-toggleable__control:checked~label.sk-toggleable__label-arrow:before {content: \"▾\";}#sk-container-id-3 div.sk-estimator input.sk-toggleable__control:checked~label.sk-toggleable__label {background-color: #d4ebff;}#sk-container-id-3 div.sk-label input.sk-toggleable__control:checked~label.sk-toggleable__label {background-color: #d4ebff;}#sk-container-id-3 input.sk-hidden--visually {border: 0;clip: rect(1px 1px 1px 1px);clip: rect(1px, 1px, 1px, 1px);height: 1px;margin: -1px;overflow: hidden;padding: 0;position: absolute;width: 1px;}#sk-container-id-3 div.sk-estimator {font-family: monospace;background-color: #f0f8ff;border: 1px dotted black;border-radius: 0.25em;box-sizing: border-box;margin-bottom: 0.5em;}#sk-container-id-3 div.sk-estimator:hover {background-color: #d4ebff;}#sk-container-id-3 div.sk-parallel-item::after {content: \"\";width: 100%;border-bottom: 1px solid gray;flex-grow: 1;}#sk-container-id-3 div.sk-label:hover label.sk-toggleable__label {background-color: #d4ebff;}#sk-container-id-3 div.sk-serial::before {content: \"\";position: absolute;border-left: 1px solid gray;box-sizing: border-box;top: 0;bottom: 0;left: 50%;z-index: 0;}#sk-container-id-3 div.sk-serial {display: flex;flex-direction: column;align-items: center;background-color: white;padding-right: 0.2em;padding-left: 0.2em;position: relative;}#sk-container-id-3 div.sk-item {position: relative;z-index: 1;}#sk-container-id-3 div.sk-parallel {display: flex;align-items: stretch;justify-content: center;background-color: white;position: relative;}#sk-container-id-3 div.sk-item::before, #sk-container-id-3 div.sk-parallel-item::before {content: \"\";position: absolute;border-left: 1px solid gray;box-sizing: border-box;top: 0;bottom: 0;left: 50%;z-index: -1;}#sk-container-id-3 div.sk-parallel-item {display: flex;flex-direction: column;z-index: 1;position: relative;background-color: white;}#sk-container-id-3 div.sk-parallel-item:first-child::after {align-self: flex-end;width: 50%;}#sk-container-id-3 div.sk-parallel-item:last-child::after {align-self: flex-start;width: 50%;}#sk-container-id-3 div.sk-parallel-item:only-child::after {width: 0;}#sk-container-id-3 div.sk-dashed-wrapped {border: 1px dashed gray;margin: 0 0.4em 0.5em 0.4em;box-sizing: border-box;padding-bottom: 0.4em;background-color: white;}#sk-container-id-3 div.sk-label label {font-family: monospace;font-weight: bold;display: inline-block;line-height: 1.2em;}#sk-container-id-3 div.sk-label-container {text-align: center;}#sk-container-id-3 div.sk-container {/* jupyter's `normalize.less` sets `[hidden] { display: none; }` but bootstrap.min.css set `[hidden] { display: none !important; }` so we also need the `!important` here to be able to override the default hidden behavior on the sphinx rendered scikit-learn.org. See: https://github.com/scikit-learn/scikit-learn/issues/21755 */display: inline-block !important;position: relative;}#sk-container-id-3 div.sk-text-repr-fallback {display: none;}</style><div id=\"sk-container-id-3\" class=\"sk-top-container\"><div class=\"sk-text-repr-fallback\"><pre>RandomForestRegressor()</pre><b>In a Jupyter environment, please rerun this cell to show the HTML representation or trust the notebook. <br />On GitHub, the HTML representation is unable to render, please try loading this page with nbviewer.org.</b></div><div class=\"sk-container\" hidden><div class=\"sk-item\"><div class=\"sk-estimator sk-toggleable\"><input class=\"sk-toggleable__control sk-hidden--visually\" id=\"sk-estimator-id-3\" type=\"checkbox\" checked><label for=\"sk-estimator-id-3\" class=\"sk-toggleable__label sk-toggleable__label-arrow\">RandomForestRegressor</label><div class=\"sk-toggleable__content\"><pre>RandomForestRegressor()</pre></div></div></div></div></div>"
      ],
      "text/plain": [
       "RandomForestRegressor()"
      ]
     },
     "execution_count": 55,
     "metadata": {},
     "output_type": "execute_result"
    }
   ],
   "source": [
    "# Import a Random forest regressor\n",
    "from sklearn.ensemble import RandomForestRegressor\n",
    "# Create an object of the model\n",
    "rfc = RandomForestRegressor()\n",
    "# fit the model into traning dataset\n",
    "rfc.fit(X_train, y_train)"
   ]
  },
  {
   "cell_type": "code",
   "execution_count": 56,
   "metadata": {
    "colab": {
     "base_uri": "https://localhost:8080/"
    },
    "id": "7-Wey9Dduy9x",
    "outputId": "8ca5ab06-5482-40c9-e82a-b26f0712fccb"
   },
   "outputs": [
    {
     "name": "stdout",
     "output_type": "stream",
     "text": [
      "RMSE for train 0.022785649149236892\n",
      "RMSE for test 0.04327138392529622\n",
      "Accuracy Score train:  0.9364492989283373\n",
      "Accuracy Score test:  0.8651973817793701\n"
     ]
    }
   ],
   "source": [
    "#predict the training and test output\n",
    "pred_rfc1 = rfc.predict(X_train)\n",
    "pred_rfc2 = rfc.predict(X_test)\n",
    "# calculating and printing the training and test scores\n",
    "print(\"RMSE for train {}\".format(np.sqrt(mean_squared_error(y_train, pred_rfc1))))\n",
    "print(\"RMSE for test {}\".format(np.sqrt(mean_squared_error(y_test, pred_rfc2))))\n",
    "print('Accuracy Score train: ', dt.score(X_train, y_train))\n",
    "print('Accuracy Score test: ', dt.score(X_test, y_test))"
   ]
  },
  {
   "cell_type": "code",
   "execution_count": 57,
   "metadata": {
    "id": "HGSiy0Bb2wc4"
   },
   "outputs": [
    {
     "name": "stdout",
     "output_type": "stream",
     "text": [
      "for max_depth:  1\n",
      "RMSE for train 0.14982577161288926\n",
      "RMSE for test 0.15594253985007006\n",
      "Accuracy Score train:  0.09160650191788422\n",
      "Accuracy Score test:  0.09520462003152186\n",
      "\n",
      "for max_depth:  2\n",
      "RMSE for train 0.14391297670418918\n",
      "RMSE for test 0.14952738905954224\n",
      "Accuracy Score train:  0.16189026825612018\n",
      "Accuracy Score test:  0.16811619853114368\n",
      "\n",
      "for max_depth:  3\n",
      "RMSE for train 0.14041206694784975\n",
      "RMSE for test 0.14580906125998488\n",
      "Accuracy Score train:  0.2021709675494333\n",
      "Accuracy Score test:  0.20897502529566103\n",
      "\n",
      "for max_depth:  4\n",
      "RMSE for train 0.13634297460803713\n",
      "RMSE for test 0.1427334137272011\n",
      "Accuracy Score train:  0.24774254453610678\n",
      "Accuracy Score test:  0.24199429658250105\n",
      "\n",
      "for max_depth:  5\n",
      "RMSE for train 0.13157226688146964\n",
      "RMSE for test 0.1388792201512717\n",
      "Accuracy Score train:  0.2994652463320523\n",
      "Accuracy Score test:  0.28237806338331606\n",
      "\n",
      "for max_depth:  6\n",
      "RMSE for train 0.12751111046095684\n",
      "RMSE for test 0.13536339908302375\n",
      "Accuracy Score train:  0.3420437346058428\n",
      "Accuracy Score test:  0.3182523174934073\n",
      "\n",
      "for max_depth:  7\n",
      "RMSE for train 0.12509645154211324\n",
      "RMSE for test 0.13321702778319064\n",
      "Accuracy Score train:  0.36672702836184945\n",
      "Accuracy Score test:  0.3397009881130433\n",
      "\n",
      "for max_depth:  8\n",
      "RMSE for train 0.12130756475802842\n",
      "RMSE for test 0.12901469883183503\n",
      "Accuracy Score train:  0.4045068916215876\n",
      "Accuracy Score test:  0.38070217676809137\n",
      "\n",
      "for max_depth:  9\n",
      "RMSE for train 0.118421251577153\n",
      "RMSE for test 0.12580867460545708\n",
      "Accuracy Score train:  0.43250731929481756\n",
      "Accuracy Score test:  0.4110989321286722\n",
      "\n",
      "for max_depth:  10\n",
      "RMSE for train 0.11546152314824452\n",
      "RMSE for test 0.12280009369991428\n",
      "Accuracy Score train:  0.46051976789016735\n",
      "Accuracy Score test:  0.43892804129730967\n",
      "\n",
      "for max_depth:  11\n",
      "RMSE for train 0.11230158319477539\n",
      "RMSE for test 0.12005488899431258\n",
      "Accuracy Score train:  0.48964458308727266\n",
      "Accuracy Score test:  0.46373325201730264\n",
      "\n",
      "for max_depth:  12\n",
      "RMSE for train 0.10842621712096069\n",
      "RMSE for test 0.11617970598787553\n",
      "Accuracy Score train:  0.5242600934645203\n",
      "Accuracy Score test:  0.4977942118481976\n",
      "\n",
      "for max_depth:  13\n",
      "RMSE for train 0.10489025633322616\n",
      "RMSE for test 0.1127575147055103\n",
      "Accuracy Score train:  0.5547834863338401\n",
      "Accuracy Score test:  0.5269444330366395\n",
      "\n",
      "for max_depth:  14\n",
      "RMSE for train 0.10146834404248394\n",
      "RMSE for test 0.10954423698509307\n",
      "Accuracy Score train:  0.5833588929071754\n",
      "Accuracy Score test:  0.5535218221803964\n",
      "\n",
      "for max_depth:  15\n",
      "RMSE for train 0.0987910187476582\n",
      "RMSE for test 0.10703950426616009\n",
      "Accuracy Score train:  0.6050556557574918\n",
      "Accuracy Score test:  0.5737058765803313\n",
      "\n",
      "for max_depth:  16\n",
      "RMSE for train 0.09638204251655014\n",
      "RMSE for test 0.10490503221550625\n",
      "Accuracy Score train:  0.6240819128107113\n",
      "Accuracy Score test:  0.5905378046236869\n",
      "\n",
      "for max_depth:  17\n",
      "RMSE for train 0.09337515052853657\n",
      "RMSE for test 0.10210938853736434\n",
      "Accuracy Score train:  0.6471715466798027\n",
      "Accuracy Score test:  0.612070757230051\n",
      "\n",
      "for max_depth:  18\n",
      "RMSE for train 0.09056332090992375\n",
      "RMSE for test 0.099142455622452\n",
      "Accuracy Score train:  0.6681012246108238\n",
      "Accuracy Score test:  0.6342869053861249\n",
      "\n",
      "for max_depth:  19\n",
      "RMSE for train 0.08744780983245044\n",
      "RMSE for test 0.09642139610058223\n",
      "Accuracy Score train:  0.6905440447856858\n",
      "Accuracy Score test:  0.6540861121879913\n",
      "\n",
      "for max_depth:  20\n",
      "RMSE for train 0.08424860737132543\n",
      "RMSE for test 0.09365411468088056\n",
      "Accuracy Score train:  0.712772226018242\n",
      "Accuracy Score test:  0.6736565553900244\n",
      "\n",
      "for max_depth:  21\n",
      "RMSE for train 0.0816882435301887\n",
      "RMSE for test 0.09106456570642202\n",
      "Accuracy Score train:  0.7299649820363208\n",
      "Accuracy Score test:  0.6914539370553532\n",
      "\n",
      "for max_depth:  22\n",
      "RMSE for train 0.07847043140013636\n",
      "RMSE for test 0.08768475832092933\n",
      "Accuracy Score train:  0.7508200746364307\n",
      "Accuracy Score test:  0.7139319297855806\n",
      "\n",
      "for max_depth:  23\n",
      "RMSE for train 0.07584879937940785\n",
      "RMSE for test 0.08487787383908846\n",
      "Accuracy Score train:  0.7671917360293335\n",
      "Accuracy Score test:  0.7319534931740883\n",
      "\n",
      "for max_depth:  24\n",
      "RMSE for train 0.07369422490269424\n",
      "RMSE for test 0.08274198375542063\n",
      "Accuracy Score train:  0.7802302663480936\n",
      "Accuracy Score test:  0.7452741467658683\n",
      "\n",
      "for max_depth:  25\n",
      "RMSE for train 0.07126132014089682\n",
      "RMSE for test 0.08040483828625515\n",
      "Accuracy Score train:  0.7945014801561086\n",
      "Accuracy Score test:  0.7594609821968696\n",
      "\n",
      "for max_depth:  26\n",
      "RMSE for train 0.06840223714059449\n",
      "RMSE for test 0.07789993346402067\n",
      "Accuracy Score train:  0.8106603444546088\n",
      "Accuracy Score test:  0.7742148674824907\n",
      "\n",
      "for max_depth:  27\n",
      "RMSE for train 0.06555451518426648\n",
      "RMSE for test 0.0752047831046365\n",
      "Accuracy Score train:  0.826097353712328\n",
      "Accuracy Score test:  0.7895678493330065\n",
      "\n",
      "for max_depth:  28\n",
      "RMSE for train 0.06285266732759127\n",
      "RMSE for test 0.07216426453327639\n",
      "Accuracy Score train:  0.840136838731031\n",
      "Accuracy Score test:  0.8062393657727749\n",
      "\n",
      "for max_depth:  29\n",
      "RMSE for train 0.06061409485866205\n",
      "RMSE for test 0.0701938374376805\n",
      "Accuracy Score train:  0.8513214833295922\n",
      "Accuracy Score test:  0.8166760784524656\n",
      "\n",
      "for max_depth:  30\n",
      "RMSE for train 0.05754206093846349\n",
      "RMSE for test 0.06820423617037967\n",
      "Accuracy Score train:  0.8660101822996791\n",
      "Accuracy Score test:  0.8269212034554945\n",
      "\n",
      "for max_depth:  31\n",
      "RMSE for train 0.0554100935233456\n",
      "RMSE for test 0.06631469159312604\n",
      "Accuracy Score train:  0.8757550523658117\n",
      "Accuracy Score test:  0.8363783845780618\n",
      "\n",
      "for max_depth:  32\n",
      "RMSE for train 0.053171882205233986\n",
      "RMSE for test 0.06493960352809999\n",
      "Accuracy Score train:  0.8855897225105657\n",
      "Accuracy Score test:  0.8430936812566728\n",
      "\n",
      "for max_depth:  33\n",
      "RMSE for train 0.05134451237905922\n",
      "RMSE for test 0.06345620004234884\n",
      "Accuracy Score train:  0.8933185184391554\n",
      "Accuracy Score test:  0.8501801731158966\n",
      "\n",
      "for max_depth:  34\n",
      "RMSE for train 0.049227352378969864\n",
      "RMSE for test 0.06176108644591365\n",
      "Accuracy Score train:  0.9019350236282736\n",
      "Accuracy Score test:  0.8580775754403199\n",
      "\n",
      "for max_depth:  35\n",
      "RMSE for train 0.047582233021081985\n",
      "RMSE for test 0.06035372110702417\n",
      "Accuracy Score train:  0.9083799319494072\n",
      "Accuracy Score test:  0.8644719246136519\n",
      "\n",
      "for max_depth:  36\n",
      "RMSE for train 0.0453517928668972\n",
      "RMSE for test 0.05856771152486786\n",
      "Accuracy Score train:  0.9167680840560634\n",
      "Accuracy Score test:  0.8723744351714583\n",
      "\n",
      "for max_depth:  37\n",
      "RMSE for train 0.04296282107573938\n",
      "RMSE for test 0.05729618074414325\n",
      "Accuracy Score train:  0.9253058563435567\n",
      "Accuracy Score test:  0.8778558940372982\n",
      "\n",
      "for max_depth:  38\n",
      "RMSE for train 0.04033510873616308\n",
      "RMSE for test 0.05579928510248833\n",
      "Accuracy Score train:  0.93416339384203\n",
      "Accuracy Score test:  0.8841546950027885\n",
      "\n",
      "for max_depth:  39\n",
      "RMSE for train 0.037867122544173654\n",
      "RMSE for test 0.0540305022893699\n",
      "Accuracy Score train:  0.9419736061777645\n",
      "Accuracy Score test:  0.8913826563298078\n",
      "\n"
     ]
    }
   ],
   "source": [
    "# Create a list of range from 1 to 39\n",
    "max_depth_range = np.arange(1,40,1)\n",
    "for x in max_depth_range:\n",
    "  # Create a decision tree object with x depth\n",
    "  dt = RandomForestRegressor(max_depth= x)\n",
    "  # fit the object to the training dataset\n",
    "  dt.fit(X_train, y_train)\n",
    "  # Predict the training and test output\n",
    "  pred_xg1 = dt.predict(X_train)\n",
    "  pred_xg2 = dt.predict(X_test)\n",
    "  # Printing the rmse and accuracy for training and testing dataset, crossponding to a sepcific depth\n",
    "  print('for max_depth: ', x)\n",
    "  print(\"RMSE for train {}\".format(np.sqrt(mean_squared_error(y_train, pred_xg1))))\n",
    "  print(\"RMSE for test {}\".format(np.sqrt(mean_squared_error(y_test, pred_xg2))))\n",
    "  print('Accuracy Score train: ', dt.score(X_train, y_train))\n",
    "  print('Accuracy Score test: ', dt.score(X_test, y_test))\n",
    "  print()"
   ]
  },
  {
   "cell_type": "markdown",
   "metadata": {
    "id": "AMjPAWZ-4aEY"
   },
   "source": [
    "In the depth of **36** the **Random Forest Regressor** has its maximum value of accuracy."
   ]
  },
  {
   "cell_type": "code",
   "execution_count": 58,
   "metadata": {
    "colab": {
     "base_uri": "https://localhost:8080/"
    },
    "id": "D6Yv0koP5OFD",
    "outputId": "a0f18f68-ea31-4f29-c81a-97f5fde388ec"
   },
   "outputs": [
    {
     "name": "stdout",
     "output_type": "stream",
     "text": [
      "RMSE for train 0.04553406776744103\n",
      "RMSE for test 0.05905535945372436\n",
      "Accuracy Score train:  0.9160976992463511\n",
      "Accuracy Score test:  0.8702403091276882\n"
     ]
    }
   ],
   "source": [
    "# Now create a random forest model at the depth of 36 and make prediction\n",
    "\n",
    "# Creating an Random Forest Object\n",
    "rfc = RandomForestRegressor(max_depth = 36)\n",
    "# Fit the model to the trainig dataset\n",
    "rfc.fit(X_train, y_train)\n",
    "#predict the training and test output\n",
    "pred_rfc1 = rfc.predict(X_train)\n",
    "pred_rfc2 = rfc.predict(X_test)\n",
    "# calculating and printing the training and test scores\n",
    "print(\"RMSE for train {}\".format(np.sqrt(mean_squared_error(y_train, pred_rfc1))))\n",
    "print(\"RMSE for test {}\".format(np.sqrt(mean_squared_error(y_test, pred_rfc2))))\n",
    "print('Accuracy Score train: ', rfc.score(X_train, y_train))\n",
    "print('Accuracy Score test: ', rfc.score(X_test, y_test))"
   ]
  },
  {
   "cell_type": "markdown",
   "metadata": {
    "id": "eT3uhPIBvPpy"
   },
   "source": [
    "### XG Boost Regressor"
   ]
  },
  {
   "cell_type": "code",
   "execution_count": 60,
   "metadata": {
    "id": "1NHxJAtlvMK9"
   },
   "outputs": [
    {
     "data": {
      "text/html": [
       "<style>#sk-container-id-4 {color: black;background-color: white;}#sk-container-id-4 pre{padding: 0;}#sk-container-id-4 div.sk-toggleable {background-color: white;}#sk-container-id-4 label.sk-toggleable__label {cursor: pointer;display: block;width: 100%;margin-bottom: 0;padding: 0.3em;box-sizing: border-box;text-align: center;}#sk-container-id-4 label.sk-toggleable__label-arrow:before {content: \"▸\";float: left;margin-right: 0.25em;color: #696969;}#sk-container-id-4 label.sk-toggleable__label-arrow:hover:before {color: black;}#sk-container-id-4 div.sk-estimator:hover label.sk-toggleable__label-arrow:before {color: black;}#sk-container-id-4 div.sk-toggleable__content {max-height: 0;max-width: 0;overflow: hidden;text-align: left;background-color: #f0f8ff;}#sk-container-id-4 div.sk-toggleable__content pre {margin: 0.2em;color: black;border-radius: 0.25em;background-color: #f0f8ff;}#sk-container-id-4 input.sk-toggleable__control:checked~div.sk-toggleable__content {max-height: 200px;max-width: 100%;overflow: auto;}#sk-container-id-4 input.sk-toggleable__control:checked~label.sk-toggleable__label-arrow:before {content: \"▾\";}#sk-container-id-4 div.sk-estimator input.sk-toggleable__control:checked~label.sk-toggleable__label {background-color: #d4ebff;}#sk-container-id-4 div.sk-label input.sk-toggleable__control:checked~label.sk-toggleable__label {background-color: #d4ebff;}#sk-container-id-4 input.sk-hidden--visually {border: 0;clip: rect(1px 1px 1px 1px);clip: rect(1px, 1px, 1px, 1px);height: 1px;margin: -1px;overflow: hidden;padding: 0;position: absolute;width: 1px;}#sk-container-id-4 div.sk-estimator {font-family: monospace;background-color: #f0f8ff;border: 1px dotted black;border-radius: 0.25em;box-sizing: border-box;margin-bottom: 0.5em;}#sk-container-id-4 div.sk-estimator:hover {background-color: #d4ebff;}#sk-container-id-4 div.sk-parallel-item::after {content: \"\";width: 100%;border-bottom: 1px solid gray;flex-grow: 1;}#sk-container-id-4 div.sk-label:hover label.sk-toggleable__label {background-color: #d4ebff;}#sk-container-id-4 div.sk-serial::before {content: \"\";position: absolute;border-left: 1px solid gray;box-sizing: border-box;top: 0;bottom: 0;left: 50%;z-index: 0;}#sk-container-id-4 div.sk-serial {display: flex;flex-direction: column;align-items: center;background-color: white;padding-right: 0.2em;padding-left: 0.2em;position: relative;}#sk-container-id-4 div.sk-item {position: relative;z-index: 1;}#sk-container-id-4 div.sk-parallel {display: flex;align-items: stretch;justify-content: center;background-color: white;position: relative;}#sk-container-id-4 div.sk-item::before, #sk-container-id-4 div.sk-parallel-item::before {content: \"\";position: absolute;border-left: 1px solid gray;box-sizing: border-box;top: 0;bottom: 0;left: 50%;z-index: -1;}#sk-container-id-4 div.sk-parallel-item {display: flex;flex-direction: column;z-index: 1;position: relative;background-color: white;}#sk-container-id-4 div.sk-parallel-item:first-child::after {align-self: flex-end;width: 50%;}#sk-container-id-4 div.sk-parallel-item:last-child::after {align-self: flex-start;width: 50%;}#sk-container-id-4 div.sk-parallel-item:only-child::after {width: 0;}#sk-container-id-4 div.sk-dashed-wrapped {border: 1px dashed gray;margin: 0 0.4em 0.5em 0.4em;box-sizing: border-box;padding-bottom: 0.4em;background-color: white;}#sk-container-id-4 div.sk-label label {font-family: monospace;font-weight: bold;display: inline-block;line-height: 1.2em;}#sk-container-id-4 div.sk-label-container {text-align: center;}#sk-container-id-4 div.sk-container {/* jupyter's `normalize.less` sets `[hidden] { display: none; }` but bootstrap.min.css set `[hidden] { display: none !important; }` so we also need the `!important` here to be able to override the default hidden behavior on the sphinx rendered scikit-learn.org. See: https://github.com/scikit-learn/scikit-learn/issues/21755 */display: inline-block !important;position: relative;}#sk-container-id-4 div.sk-text-repr-fallback {display: none;}</style><div id=\"sk-container-id-4\" class=\"sk-top-container\"><div class=\"sk-text-repr-fallback\"><pre>XGBRegressor(base_score=None, booster=None, callbacks=None,\n",
       "             colsample_bylevel=None, colsample_bynode=None,\n",
       "             colsample_bytree=None, early_stopping_rounds=None,\n",
       "             enable_categorical=False, eval_metric=None, feature_types=None,\n",
       "             gamma=None, gpu_id=None, grow_policy=None, importance_type=None,\n",
       "             interaction_constraints=None, learning_rate=None, max_bin=None,\n",
       "             max_cat_threshold=None, max_cat_to_onehot=None,\n",
       "             max_delta_step=None, max_depth=None, max_leaves=None,\n",
       "             min_child_weight=None, missing=nan, monotone_constraints=None,\n",
       "             n_estimators=100, n_jobs=None, num_parallel_tree=None,\n",
       "             predictor=None, random_state=None, ...)</pre><b>In a Jupyter environment, please rerun this cell to show the HTML representation or trust the notebook. <br />On GitHub, the HTML representation is unable to render, please try loading this page with nbviewer.org.</b></div><div class=\"sk-container\" hidden><div class=\"sk-item\"><div class=\"sk-estimator sk-toggleable\"><input class=\"sk-toggleable__control sk-hidden--visually\" id=\"sk-estimator-id-4\" type=\"checkbox\" checked><label for=\"sk-estimator-id-4\" class=\"sk-toggleable__label sk-toggleable__label-arrow\">XGBRegressor</label><div class=\"sk-toggleable__content\"><pre>XGBRegressor(base_score=None, booster=None, callbacks=None,\n",
       "             colsample_bylevel=None, colsample_bynode=None,\n",
       "             colsample_bytree=None, early_stopping_rounds=None,\n",
       "             enable_categorical=False, eval_metric=None, feature_types=None,\n",
       "             gamma=None, gpu_id=None, grow_policy=None, importance_type=None,\n",
       "             interaction_constraints=None, learning_rate=None, max_bin=None,\n",
       "             max_cat_threshold=None, max_cat_to_onehot=None,\n",
       "             max_delta_step=None, max_depth=None, max_leaves=None,\n",
       "             min_child_weight=None, missing=nan, monotone_constraints=None,\n",
       "             n_estimators=100, n_jobs=None, num_parallel_tree=None,\n",
       "             predictor=None, random_state=None, ...)</pre></div></div></div></div></div>"
      ],
      "text/plain": [
       "XGBRegressor(base_score=None, booster=None, callbacks=None,\n",
       "             colsample_bylevel=None, colsample_bynode=None,\n",
       "             colsample_bytree=None, early_stopping_rounds=None,\n",
       "             enable_categorical=False, eval_metric=None, feature_types=None,\n",
       "             gamma=None, gpu_id=None, grow_policy=None, importance_type=None,\n",
       "             interaction_constraints=None, learning_rate=None, max_bin=None,\n",
       "             max_cat_threshold=None, max_cat_to_onehot=None,\n",
       "             max_delta_step=None, max_depth=None, max_leaves=None,\n",
       "             min_child_weight=None, missing=nan, monotone_constraints=None,\n",
       "             n_estimators=100, n_jobs=None, num_parallel_tree=None,\n",
       "             predictor=None, random_state=None, ...)"
      ]
     },
     "execution_count": 60,
     "metadata": {},
     "output_type": "execute_result"
    }
   ],
   "source": [
    "# Import the XGB Regressor\n",
    "from xgboost import XGBRegressor\n",
    "# Create an object of the model\n",
    "xg = XGBRegressor()\n",
    "# fit the model into traning dataset\n",
    "xg.fit(X_train, y_train)"
   ]
  },
  {
   "cell_type": "code",
   "execution_count": 61,
   "metadata": {
    "colab": {
     "base_uri": "https://localhost:8080/"
    },
    "id": "6vNkacpIwbn_",
    "outputId": "dc3a75a1-6668-4bb0-f2e9-4d6963be7fc6"
   },
   "outputs": [
    {
     "name": "stdout",
     "output_type": "stream",
     "text": [
      "RMSE for train 0.051554027062603966\n",
      "RMSE for test 0.06499599557235626\n"
     ]
    }
   ],
   "source": [
    "#predict the training and test output\n",
    "pred_xg1 = xg.predict(X_train)\n",
    "pred_xg2 = xg.predict(X_test)\n",
    "# calculating and printing the training and test scores\n",
    "print(\"RMSE for train {}\".format(np.sqrt(mean_squared_error(y_train, pred_xg1))))\n",
    "print(\"RMSE for test {}\".format(np.sqrt(mean_squared_error(y_test, pred_xg2))))"
   ]
  },
  {
   "cell_type": "code",
   "execution_count": 62,
   "metadata": {
    "id": "hTsFSkZPw-0I",
    "scrolled": true
   },
   "outputs": [
    {
     "name": "stdout",
     "output_type": "stream",
     "text": [
      "for max_depth:  1\n",
      "RMSE for train 0.08864748962439746\n",
      "RMSE for test 0.09686674509222724\n",
      "Accuracy Score train:  0.6819950691795065\n",
      "Accuracy Score test:  0.6508833340853483\n",
      "\n",
      "for max_depth:  2\n",
      "RMSE for train 0.07128433405608807\n",
      "RMSE for test 0.0797402130451763\n",
      "Accuracy Score train:  0.7943687268147872\n",
      "Accuracy Score test:  0.7634211311515848\n",
      "\n",
      "for max_depth:  3\n",
      "RMSE for train 0.06452155843882233\n",
      "RMSE for test 0.07393159471137069\n",
      "Accuracy Score train:  0.8315346190398747\n",
      "Accuracy Score test:  0.7966326096017329\n",
      "\n",
      "for max_depth:  4\n",
      "RMSE for train 0.05870690724289891\n",
      "RMSE for test 0.06837293408326788\n",
      "Accuracy Score train:  0.8605304580561731\n",
      "Accuracy Score test:  0.8260639505069249\n",
      "\n",
      "for max_depth:  5\n",
      "RMSE for train 0.054812751431352495\n",
      "RMSE for test 0.06624675836526395\n",
      "Accuracy Score train:  0.8784194295498104\n",
      "Accuracy Score test:  0.8367134430967373\n",
      "\n",
      "for max_depth:  6\n",
      "RMSE for train 0.051554027062603966\n",
      "RMSE for test 0.06499599557235626\n",
      "Accuracy Score train:  0.8924461003805643\n",
      "Accuracy Score test:  0.8428210553271928\n",
      "\n",
      "for max_depth:  7\n",
      "RMSE for train 0.04723778481725015\n",
      "RMSE for test 0.06093505472229967\n",
      "Accuracy Score train:  0.9097016077189987\n",
      "Accuracy Score test:  0.8618485082876455\n",
      "\n",
      "for max_depth:  8\n",
      "RMSE for train 0.0458099905417078\n",
      "RMSE for test 0.06186540039852243\n",
      "Accuracy Score train:  0.9150777728731286\n",
      "Accuracy Score test:  0.8575977590299975\n",
      "\n",
      "for max_depth:  9\n",
      "RMSE for train 0.043519400858743965\n",
      "RMSE for test 0.06042000099773456\n",
      "Accuracy Score train:  0.9233580075652614\n",
      "Accuracy Score test:  0.8641740898400657\n",
      "\n",
      "for max_depth:  10\n",
      "RMSE for train 0.04043424856503562\n",
      "RMSE for test 0.05853961208766697\n",
      "Accuracy Score train:  0.9338393559762832\n",
      "Accuracy Score test:  0.8724968693988231\n",
      "\n",
      "for max_depth:  11\n",
      "RMSE for train 0.039192838523121123\n",
      "RMSE for test 0.05712199897457624\n",
      "Accuracy Score train:  0.9378395131307811\n",
      "Accuracy Score test:  0.8785974072609137\n",
      "\n",
      "for max_depth:  12\n",
      "RMSE for train 0.03678035898916453\n",
      "RMSE for test 0.055406575015027104\n",
      "Accuracy Score train:  0.9452564573676544\n",
      "Accuracy Score test:  0.8857795735251116\n",
      "\n",
      "for max_depth:  13\n",
      "RMSE for train 0.03496826577751069\n",
      "RMSE for test 0.054629855605853955\n",
      "Accuracy Score train:  0.9505177818346084\n",
      "Accuracy Score test:  0.8889595347150046\n",
      "\n",
      "for max_depth:  14\n",
      "RMSE for train 0.0330324332192078\n",
      "RMSE for test 0.053329255538025824\n",
      "Accuracy Score train:  0.9558447749787197\n",
      "Accuracy Score test:  0.8941837881896024\n",
      "\n"
     ]
    }
   ],
   "source": [
    "# Create a list of range from 1 to 14\n",
    "\n",
    "max_depth_range = np.arange(1,15,1)\n",
    "\n",
    "\n",
    "for x in max_depth_range:\n",
    "  # Create a decision tree object with x depth\n",
    "  dt = XGBRegressor(max_depth= x)\n",
    "  # Fit the model to the trainig dataset\n",
    "  dt.fit(X_train, y_train)\n",
    "  # Predict the training and test output\n",
    "  pred_xg1 = dt.predict(X_train)\n",
    "  pred_xg2 = dt.predict(X_test)\n",
    "  # Printing the rmse and accuracy for training and testing dataset, crossponding to a sepcific depth\n",
    "  print('for max_depth: ', x)\n",
    "  print(\"RMSE for train {}\".format(np.sqrt(mean_squared_error(y_train, pred_xg1))))\n",
    "  print(\"RMSE for test {}\".format(np.sqrt(mean_squared_error(y_test, pred_xg2))))\n",
    "  print('Accuracy Score train: ', dt.score(X_train, y_train))\n",
    "  print('Accuracy Score test: ', dt.score(X_test, y_test))\n",
    "  print()"
   ]
  },
  {
   "cell_type": "markdown",
   "metadata": {
    "id": "vl_Nj4Z3ysbg"
   },
   "source": [
    "It means **maximun depth 9** has best value of Accuracy"
   ]
  },
  {
   "cell_type": "code",
   "execution_count": 63,
   "metadata": {
    "colab": {
     "base_uri": "https://localhost:8080/"
    },
    "id": "Lxz4Cgl9x380",
    "outputId": "c6503f69-49a6-4eca-f918-41b5afddc31b"
   },
   "outputs": [
    {
     "name": "stdout",
     "output_type": "stream",
     "text": [
      "RMSE for train 0.043519400858743965\n",
      "RMSE for test 0.06042000099773456\n",
      "Accuracy Score train:  0.9233580075652614\n",
      "Accuracy Score test:  0.8641740898400657\n"
     ]
    }
   ],
   "source": [
    "# Create an object of the model\n",
    "xg = XGBRegressor(max_depth = 9)\n",
    "xg.fit(X_train, y_train)\n",
    "#predict the training and test output\n",
    "pred_xg1 = xg.predict(X_train)\n",
    "pred_xg2 = xg.predict(X_test)\n",
    "# calculating and printing the training and test scores\n",
    "print(\"RMSE for train {}\".format(np.sqrt(mean_squared_error(y_train, pred_xg1))))\n",
    "print(\"RMSE for test {}\".format(np.sqrt(mean_squared_error(y_test, pred_xg2))))\n",
    "print('Accuracy Score train: ', xg.score(X_train, y_train))\n",
    "print('Accuracy Score test: ', xg.score(X_test, y_test))"
   ]
  },
  {
   "cell_type": "code",
   "execution_count": 64,
   "metadata": {
    "id": "VBj4oaqs2JIA"
   },
   "outputs": [],
   "source": [
    "tabel1 = {\n",
    "        'Train Score': [0.9679040861170889, 0.9637587048322853, 0.9601543222728802], \n",
    "        'Test Score' : [0.8808466556220073, 0.9028060343874318, 0.9115195955339979],\n",
    "        'Train RMSE' : [0.02816270639447925, 0.02992618589836856, 0.03137907401148098],\n",
    "        'Test RMSE' :  [0.05659037012899937, 0.051110374979016944, 0.04876553192516943]\n",
    "        }"
   ]
  },
  {
   "cell_type": "code",
   "execution_count": 65,
   "metadata": {
    "id": "rVAtta7hAVMx"
   },
   "outputs": [],
   "source": [
    "df1 = pd.DataFrame(tabel1) # Creating a pandas dataframe of the output errors and scores"
   ]
  },
  {
   "cell_type": "code",
   "execution_count": 66,
   "metadata": {
    "id": "a9VZnwLWBhrw"
   },
   "outputs": [],
   "source": [
    "df1.index = ['Decision Tree', 'Random Forest', 'XGBoost']"
   ]
  },
  {
   "cell_type": "code",
   "execution_count": 67,
   "metadata": {
    "colab": {
     "base_uri": "https://localhost:8080/",
     "height": 143
    },
    "id": "CHhpP5rXBqwS",
    "outputId": "66a65c86-48d0-421f-ab92-21ff55154d45"
   },
   "outputs": [
    {
     "data": {
      "text/html": [
       "<div>\n",
       "<style scoped>\n",
       "    .dataframe tbody tr th:only-of-type {\n",
       "        vertical-align: middle;\n",
       "    }\n",
       "\n",
       "    .dataframe tbody tr th {\n",
       "        vertical-align: top;\n",
       "    }\n",
       "\n",
       "    .dataframe thead th {\n",
       "        text-align: right;\n",
       "    }\n",
       "</style>\n",
       "<table border=\"1\" class=\"dataframe\">\n",
       "  <thead>\n",
       "    <tr style=\"text-align: right;\">\n",
       "      <th></th>\n",
       "      <th>Train Score</th>\n",
       "      <th>Test Score</th>\n",
       "      <th>Train RMSE</th>\n",
       "      <th>Test RMSE</th>\n",
       "    </tr>\n",
       "  </thead>\n",
       "  <tbody>\n",
       "    <tr>\n",
       "      <th>Decision Tree</th>\n",
       "      <td>0.967904</td>\n",
       "      <td>0.880847</td>\n",
       "      <td>0.028163</td>\n",
       "      <td>0.056590</td>\n",
       "    </tr>\n",
       "    <tr>\n",
       "      <th>Random Forest</th>\n",
       "      <td>0.963759</td>\n",
       "      <td>0.902806</td>\n",
       "      <td>0.029926</td>\n",
       "      <td>0.051110</td>\n",
       "    </tr>\n",
       "    <tr>\n",
       "      <th>XGBoost</th>\n",
       "      <td>0.960154</td>\n",
       "      <td>0.911520</td>\n",
       "      <td>0.031379</td>\n",
       "      <td>0.048766</td>\n",
       "    </tr>\n",
       "  </tbody>\n",
       "</table>\n",
       "</div>"
      ],
      "text/plain": [
       "               Train Score  Test Score  Train RMSE  Test RMSE\n",
       "Decision Tree     0.967904    0.880847    0.028163   0.056590\n",
       "Random Forest     0.963759    0.902806    0.029926   0.051110\n",
       "XGBoost           0.960154    0.911520    0.031379   0.048766"
      ]
     },
     "execution_count": 67,
     "metadata": {},
     "output_type": "execute_result"
    }
   ],
   "source": [
    "df1"
   ]
  },
  {
   "cell_type": "markdown",
   "metadata": {
    "id": "xKGedPiHEM-_"
   },
   "source": [
    "Among the method XGBoost is the best method for the data set"
   ]
  },
  {
   "cell_type": "markdown",
   "metadata": {
    "id": "xXCWIMqCEhbu"
   },
   "source": [
    "By Comparising the Linear and XGBoost we can conclude that linear Regression the best suited for the above data set"
   ]
  },
  {
   "cell_type": "code",
   "execution_count": null,
   "metadata": {
    "id": "bagD1h3yH3p2"
   },
   "outputs": [],
   "source": []
  }
 ],
 "metadata": {
  "colab": {
   "collapsed_sections": [],
   "name": "Walmart_1.ipynb",
   "provenance": []
  },
  "kernelspec": {
   "display_name": "Python 3 (ipykernel)",
   "language": "python",
   "name": "python3"
  },
  "language_info": {
   "codemirror_mode": {
    "name": "ipython",
    "version": 3
   },
   "file_extension": ".py",
   "mimetype": "text/x-python",
   "name": "python",
   "nbconvert_exporter": "python",
   "pygments_lexer": "ipython3",
   "version": "3.10.8"
  }
 },
 "nbformat": 4,
 "nbformat_minor": 1
}
