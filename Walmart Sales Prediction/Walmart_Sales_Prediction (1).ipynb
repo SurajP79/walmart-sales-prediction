{
  "cells": [
    {
      "cell_type": "markdown",
      "metadata": {
        "id": "OyrF5e8yZAAU"
      },
      "source": [
        "## Data Loading"
      ]
    },
    {
      "cell_type": "markdown",
      "metadata": {
        "id": "bL-BXuyKZAAa"
      },
      "source": [
        "Importing the necessary libraries, like pandas, numpy and some plotting libraries such as matplotlib and seaborn"
      ]
    },
    {
      "cell_type": "code",
      "execution_count": 1,
      "metadata": {
        "id": "lI2v1okvKuij"
      },
      "outputs": [],
      "source": [
        "import pandas as pd\n",
        "import numpy as np\n",
        "import matplotlib\n",
        "import matplotlib.pyplot as plt\n",
        "import seaborn as sns\n",
        "%matplotlib inline"
      ]
    },
    {
      "cell_type": "markdown",
      "metadata": {
        "id": "_mWeAjU5ZAAd"
      },
      "source": [
        "Set the default font size, figure size and the grid in the plot"
      ]
    },
    {
      "cell_type": "code",
      "execution_count": 2,
      "metadata": {
        "id": "s8ezED7IHvPI"
      },
      "outputs": [],
      "source": [
        "sns.set_style('darkgrid')\n",
        "matplotlib.rcParams['font.size'] = 14\n",
        "matplotlib.rcParams['figure.figsize'] = (10, 6)\n",
        "matplotlib.rcParams['figure.facecolor'] = '#00000000'"
      ]
    },
    {
      "cell_type": "markdown",
      "metadata": {
        "id": "h0njd46PH47d"
      },
      "source": [
        "Reading of data as a pandas dataframe and named as **df**"
      ]
    },
    {
      "cell_type": "code",
      "execution_count": 3,
      "metadata": {
        "id": "4WA1PYlpHxYX"
      },
      "outputs": [],
      "source": [
        "df = pd.read_csv('Walmart.csv')"
      ]
    },
    {
      "cell_type": "code",
      "execution_count": 4,
      "metadata": {
        "colab": {
          "base_uri": "https://localhost:8080/",
          "height": 424
        },
        "id": "iFsIgIxlH4S7",
        "outputId": "0fc30f43-cf8d-4190-a451-cd45d2eed1f2"
      },
      "outputs": [
        {
          "output_type": "execute_result",
          "data": {
            "text/plain": [
              "      Store        Date  Weekly_Sales  Holiday_Flag  Temperature  Fuel_Price  \\\n",
              "0         1  05-02-2010    1643690.90             0        42.31       2.572   \n",
              "1         1  12-02-2010    1641957.44             1        38.51       2.548   \n",
              "2         1  19-02-2010    1611968.17             0        39.93       2.514   \n",
              "3         1  26-02-2010    1409727.59             0        46.63       2.561   \n",
              "4         1  05-03-2010    1554806.68             0        46.50       2.625   \n",
              "...     ...         ...           ...           ...          ...         ...   \n",
              "6430     45  28-09-2012     713173.95             0        64.88       3.997   \n",
              "6431     45  05-10-2012     733455.07             0        64.89       3.985   \n",
              "6432     45  12-10-2012     734464.36             0        54.47       4.000   \n",
              "6433     45  19-10-2012     718125.53             0        56.47       3.969   \n",
              "6434     45  26-10-2012     760281.43             0        58.85       3.882   \n",
              "\n",
              "             CPI  Unemployment  \n",
              "0     211.096358         8.106  \n",
              "1     211.242170         8.106  \n",
              "2     211.289143         8.106  \n",
              "3     211.319643         8.106  \n",
              "4     211.350143         8.106  \n",
              "...          ...           ...  \n",
              "6430  192.013558         8.684  \n",
              "6431  192.170412         8.667  \n",
              "6432  192.327265         8.667  \n",
              "6433  192.330854         8.667  \n",
              "6434  192.308899         8.667  \n",
              "\n",
              "[6435 rows x 8 columns]"
            ],
            "text/html": [
              "\n",
              "  <div id=\"df-05ac9f92-f71e-4f88-935a-37d4780b0a63\" class=\"colab-df-container\">\n",
              "    <div>\n",
              "<style scoped>\n",
              "    .dataframe tbody tr th:only-of-type {\n",
              "        vertical-align: middle;\n",
              "    }\n",
              "\n",
              "    .dataframe tbody tr th {\n",
              "        vertical-align: top;\n",
              "    }\n",
              "\n",
              "    .dataframe thead th {\n",
              "        text-align: right;\n",
              "    }\n",
              "</style>\n",
              "<table border=\"1\" class=\"dataframe\">\n",
              "  <thead>\n",
              "    <tr style=\"text-align: right;\">\n",
              "      <th></th>\n",
              "      <th>Store</th>\n",
              "      <th>Date</th>\n",
              "      <th>Weekly_Sales</th>\n",
              "      <th>Holiday_Flag</th>\n",
              "      <th>Temperature</th>\n",
              "      <th>Fuel_Price</th>\n",
              "      <th>CPI</th>\n",
              "      <th>Unemployment</th>\n",
              "    </tr>\n",
              "  </thead>\n",
              "  <tbody>\n",
              "    <tr>\n",
              "      <th>0</th>\n",
              "      <td>1</td>\n",
              "      <td>05-02-2010</td>\n",
              "      <td>1643690.90</td>\n",
              "      <td>0</td>\n",
              "      <td>42.31</td>\n",
              "      <td>2.572</td>\n",
              "      <td>211.096358</td>\n",
              "      <td>8.106</td>\n",
              "    </tr>\n",
              "    <tr>\n",
              "      <th>1</th>\n",
              "      <td>1</td>\n",
              "      <td>12-02-2010</td>\n",
              "      <td>1641957.44</td>\n",
              "      <td>1</td>\n",
              "      <td>38.51</td>\n",
              "      <td>2.548</td>\n",
              "      <td>211.242170</td>\n",
              "      <td>8.106</td>\n",
              "    </tr>\n",
              "    <tr>\n",
              "      <th>2</th>\n",
              "      <td>1</td>\n",
              "      <td>19-02-2010</td>\n",
              "      <td>1611968.17</td>\n",
              "      <td>0</td>\n",
              "      <td>39.93</td>\n",
              "      <td>2.514</td>\n",
              "      <td>211.289143</td>\n",
              "      <td>8.106</td>\n",
              "    </tr>\n",
              "    <tr>\n",
              "      <th>3</th>\n",
              "      <td>1</td>\n",
              "      <td>26-02-2010</td>\n",
              "      <td>1409727.59</td>\n",
              "      <td>0</td>\n",
              "      <td>46.63</td>\n",
              "      <td>2.561</td>\n",
              "      <td>211.319643</td>\n",
              "      <td>8.106</td>\n",
              "    </tr>\n",
              "    <tr>\n",
              "      <th>4</th>\n",
              "      <td>1</td>\n",
              "      <td>05-03-2010</td>\n",
              "      <td>1554806.68</td>\n",
              "      <td>0</td>\n",
              "      <td>46.50</td>\n",
              "      <td>2.625</td>\n",
              "      <td>211.350143</td>\n",
              "      <td>8.106</td>\n",
              "    </tr>\n",
              "    <tr>\n",
              "      <th>...</th>\n",
              "      <td>...</td>\n",
              "      <td>...</td>\n",
              "      <td>...</td>\n",
              "      <td>...</td>\n",
              "      <td>...</td>\n",
              "      <td>...</td>\n",
              "      <td>...</td>\n",
              "      <td>...</td>\n",
              "    </tr>\n",
              "    <tr>\n",
              "      <th>6430</th>\n",
              "      <td>45</td>\n",
              "      <td>28-09-2012</td>\n",
              "      <td>713173.95</td>\n",
              "      <td>0</td>\n",
              "      <td>64.88</td>\n",
              "      <td>3.997</td>\n",
              "      <td>192.013558</td>\n",
              "      <td>8.684</td>\n",
              "    </tr>\n",
              "    <tr>\n",
              "      <th>6431</th>\n",
              "      <td>45</td>\n",
              "      <td>05-10-2012</td>\n",
              "      <td>733455.07</td>\n",
              "      <td>0</td>\n",
              "      <td>64.89</td>\n",
              "      <td>3.985</td>\n",
              "      <td>192.170412</td>\n",
              "      <td>8.667</td>\n",
              "    </tr>\n",
              "    <tr>\n",
              "      <th>6432</th>\n",
              "      <td>45</td>\n",
              "      <td>12-10-2012</td>\n",
              "      <td>734464.36</td>\n",
              "      <td>0</td>\n",
              "      <td>54.47</td>\n",
              "      <td>4.000</td>\n",
              "      <td>192.327265</td>\n",
              "      <td>8.667</td>\n",
              "    </tr>\n",
              "    <tr>\n",
              "      <th>6433</th>\n",
              "      <td>45</td>\n",
              "      <td>19-10-2012</td>\n",
              "      <td>718125.53</td>\n",
              "      <td>0</td>\n",
              "      <td>56.47</td>\n",
              "      <td>3.969</td>\n",
              "      <td>192.330854</td>\n",
              "      <td>8.667</td>\n",
              "    </tr>\n",
              "    <tr>\n",
              "      <th>6434</th>\n",
              "      <td>45</td>\n",
              "      <td>26-10-2012</td>\n",
              "      <td>760281.43</td>\n",
              "      <td>0</td>\n",
              "      <td>58.85</td>\n",
              "      <td>3.882</td>\n",
              "      <td>192.308899</td>\n",
              "      <td>8.667</td>\n",
              "    </tr>\n",
              "  </tbody>\n",
              "</table>\n",
              "<p>6435 rows × 8 columns</p>\n",
              "</div>\n",
              "    <div class=\"colab-df-buttons\">\n",
              "\n",
              "  <div class=\"colab-df-container\">\n",
              "    <button class=\"colab-df-convert\" onclick=\"convertToInteractive('df-05ac9f92-f71e-4f88-935a-37d4780b0a63')\"\n",
              "            title=\"Convert this dataframe to an interactive table.\"\n",
              "            style=\"display:none;\">\n",
              "\n",
              "  <svg xmlns=\"http://www.w3.org/2000/svg\" height=\"24px\" viewBox=\"0 -960 960 960\">\n",
              "    <path d=\"M120-120v-720h720v720H120Zm60-500h600v-160H180v160Zm220 220h160v-160H400v160Zm0 220h160v-160H400v160ZM180-400h160v-160H180v160Zm440 0h160v-160H620v160ZM180-180h160v-160H180v160Zm440 0h160v-160H620v160Z\"/>\n",
              "  </svg>\n",
              "    </button>\n",
              "\n",
              "  <style>\n",
              "    .colab-df-container {\n",
              "      display:flex;\n",
              "      gap: 12px;\n",
              "    }\n",
              "\n",
              "    .colab-df-convert {\n",
              "      background-color: #E8F0FE;\n",
              "      border: none;\n",
              "      border-radius: 50%;\n",
              "      cursor: pointer;\n",
              "      display: none;\n",
              "      fill: #1967D2;\n",
              "      height: 32px;\n",
              "      padding: 0 0 0 0;\n",
              "      width: 32px;\n",
              "    }\n",
              "\n",
              "    .colab-df-convert:hover {\n",
              "      background-color: #E2EBFA;\n",
              "      box-shadow: 0px 1px 2px rgba(60, 64, 67, 0.3), 0px 1px 3px 1px rgba(60, 64, 67, 0.15);\n",
              "      fill: #174EA6;\n",
              "    }\n",
              "\n",
              "    .colab-df-buttons div {\n",
              "      margin-bottom: 4px;\n",
              "    }\n",
              "\n",
              "    [theme=dark] .colab-df-convert {\n",
              "      background-color: #3B4455;\n",
              "      fill: #D2E3FC;\n",
              "    }\n",
              "\n",
              "    [theme=dark] .colab-df-convert:hover {\n",
              "      background-color: #434B5C;\n",
              "      box-shadow: 0px 1px 3px 1px rgba(0, 0, 0, 0.15);\n",
              "      filter: drop-shadow(0px 1px 2px rgba(0, 0, 0, 0.3));\n",
              "      fill: #FFFFFF;\n",
              "    }\n",
              "  </style>\n",
              "\n",
              "    <script>\n",
              "      const buttonEl =\n",
              "        document.querySelector('#df-05ac9f92-f71e-4f88-935a-37d4780b0a63 button.colab-df-convert');\n",
              "      buttonEl.style.display =\n",
              "        google.colab.kernel.accessAllowed ? 'block' : 'none';\n",
              "\n",
              "      async function convertToInteractive(key) {\n",
              "        const element = document.querySelector('#df-05ac9f92-f71e-4f88-935a-37d4780b0a63');\n",
              "        const dataTable =\n",
              "          await google.colab.kernel.invokeFunction('convertToInteractive',\n",
              "                                                    [key], {});\n",
              "        if (!dataTable) return;\n",
              "\n",
              "        const docLinkHtml = 'Like what you see? Visit the ' +\n",
              "          '<a target=\"_blank\" href=https://colab.research.google.com/notebooks/data_table.ipynb>data table notebook</a>'\n",
              "          + ' to learn more about interactive tables.';\n",
              "        element.innerHTML = '';\n",
              "        dataTable['output_type'] = 'display_data';\n",
              "        await google.colab.output.renderOutput(dataTable, element);\n",
              "        const docLink = document.createElement('div');\n",
              "        docLink.innerHTML = docLinkHtml;\n",
              "        element.appendChild(docLink);\n",
              "      }\n",
              "    </script>\n",
              "  </div>\n",
              "\n",
              "\n",
              "<div id=\"df-5ca2ac70-ed45-43ee-b7fe-25f5a0e21741\">\n",
              "  <button class=\"colab-df-quickchart\" onclick=\"quickchart('df-5ca2ac70-ed45-43ee-b7fe-25f5a0e21741')\"\n",
              "            title=\"Suggest charts.\"\n",
              "            style=\"display:none;\">\n",
              "\n",
              "<svg xmlns=\"http://www.w3.org/2000/svg\" height=\"24px\"viewBox=\"0 0 24 24\"\n",
              "     width=\"24px\">\n",
              "    <g>\n",
              "        <path d=\"M19 3H5c-1.1 0-2 .9-2 2v14c0 1.1.9 2 2 2h14c1.1 0 2-.9 2-2V5c0-1.1-.9-2-2-2zM9 17H7v-7h2v7zm4 0h-2V7h2v10zm4 0h-2v-4h2v4z\"/>\n",
              "    </g>\n",
              "</svg>\n",
              "  </button>\n",
              "\n",
              "<style>\n",
              "  .colab-df-quickchart {\n",
              "      --bg-color: #E8F0FE;\n",
              "      --fill-color: #1967D2;\n",
              "      --hover-bg-color: #E2EBFA;\n",
              "      --hover-fill-color: #174EA6;\n",
              "      --disabled-fill-color: #AAA;\n",
              "      --disabled-bg-color: #DDD;\n",
              "  }\n",
              "\n",
              "  [theme=dark] .colab-df-quickchart {\n",
              "      --bg-color: #3B4455;\n",
              "      --fill-color: #D2E3FC;\n",
              "      --hover-bg-color: #434B5C;\n",
              "      --hover-fill-color: #FFFFFF;\n",
              "      --disabled-bg-color: #3B4455;\n",
              "      --disabled-fill-color: #666;\n",
              "  }\n",
              "\n",
              "  .colab-df-quickchart {\n",
              "    background-color: var(--bg-color);\n",
              "    border: none;\n",
              "    border-radius: 50%;\n",
              "    cursor: pointer;\n",
              "    display: none;\n",
              "    fill: var(--fill-color);\n",
              "    height: 32px;\n",
              "    padding: 0;\n",
              "    width: 32px;\n",
              "  }\n",
              "\n",
              "  .colab-df-quickchart:hover {\n",
              "    background-color: var(--hover-bg-color);\n",
              "    box-shadow: 0 1px 2px rgba(60, 64, 67, 0.3), 0 1px 3px 1px rgba(60, 64, 67, 0.15);\n",
              "    fill: var(--button-hover-fill-color);\n",
              "  }\n",
              "\n",
              "  .colab-df-quickchart-complete:disabled,\n",
              "  .colab-df-quickchart-complete:disabled:hover {\n",
              "    background-color: var(--disabled-bg-color);\n",
              "    fill: var(--disabled-fill-color);\n",
              "    box-shadow: none;\n",
              "  }\n",
              "\n",
              "  .colab-df-spinner {\n",
              "    border: 2px solid var(--fill-color);\n",
              "    border-color: transparent;\n",
              "    border-bottom-color: var(--fill-color);\n",
              "    animation:\n",
              "      spin 1s steps(1) infinite;\n",
              "  }\n",
              "\n",
              "  @keyframes spin {\n",
              "    0% {\n",
              "      border-color: transparent;\n",
              "      border-bottom-color: var(--fill-color);\n",
              "      border-left-color: var(--fill-color);\n",
              "    }\n",
              "    20% {\n",
              "      border-color: transparent;\n",
              "      border-left-color: var(--fill-color);\n",
              "      border-top-color: var(--fill-color);\n",
              "    }\n",
              "    30% {\n",
              "      border-color: transparent;\n",
              "      border-left-color: var(--fill-color);\n",
              "      border-top-color: var(--fill-color);\n",
              "      border-right-color: var(--fill-color);\n",
              "    }\n",
              "    40% {\n",
              "      border-color: transparent;\n",
              "      border-right-color: var(--fill-color);\n",
              "      border-top-color: var(--fill-color);\n",
              "    }\n",
              "    60% {\n",
              "      border-color: transparent;\n",
              "      border-right-color: var(--fill-color);\n",
              "    }\n",
              "    80% {\n",
              "      border-color: transparent;\n",
              "      border-right-color: var(--fill-color);\n",
              "      border-bottom-color: var(--fill-color);\n",
              "    }\n",
              "    90% {\n",
              "      border-color: transparent;\n",
              "      border-bottom-color: var(--fill-color);\n",
              "    }\n",
              "  }\n",
              "</style>\n",
              "\n",
              "  <script>\n",
              "    async function quickchart(key) {\n",
              "      const quickchartButtonEl =\n",
              "        document.querySelector('#' + key + ' button');\n",
              "      quickchartButtonEl.disabled = true;  // To prevent multiple clicks.\n",
              "      quickchartButtonEl.classList.add('colab-df-spinner');\n",
              "      try {\n",
              "        const charts = await google.colab.kernel.invokeFunction(\n",
              "            'suggestCharts', [key], {});\n",
              "      } catch (error) {\n",
              "        console.error('Error during call to suggestCharts:', error);\n",
              "      }\n",
              "      quickchartButtonEl.classList.remove('colab-df-spinner');\n",
              "      quickchartButtonEl.classList.add('colab-df-quickchart-complete');\n",
              "    }\n",
              "    (() => {\n",
              "      let quickchartButtonEl =\n",
              "        document.querySelector('#df-5ca2ac70-ed45-43ee-b7fe-25f5a0e21741 button');\n",
              "      quickchartButtonEl.style.display =\n",
              "        google.colab.kernel.accessAllowed ? 'block' : 'none';\n",
              "    })();\n",
              "  </script>\n",
              "</div>\n",
              "    </div>\n",
              "  </div>\n"
            ]
          },
          "metadata": {},
          "execution_count": 4
        }
      ],
      "source": [
        "df"
      ]
    },
    {
      "cell_type": "markdown",
      "metadata": {
        "id": "pQmwTFvyZAAg"
      },
      "source": [
        "**About Data:**\n",
        "*   Store - the store number\n",
        "*   Date - the week of sales\n",
        "*   Weekly_Sales - sales for the given store\n",
        "*   Holiday_Flag - whether the week is a special holiday week 1 – Holiday week 0 – Non-holiday week\n",
        "*   Temperature - Temperature on the day of sale\n",
        "*   Fuel_Price - Cost of fuel in the region\n",
        "*   CPI – Prevailing consumer price index\n",
        "*   Unemployment - Prevailing unemployment rate"
      ]
    },
    {
      "cell_type": "markdown",
      "metadata": {
        "id": "70sjXLXPPgms"
      },
      "source": [
        "**Insights:**\n",
        "\n",
        "*   Here the target columns is Weekly_Sales.\n",
        "*   The data is related to walmart store of united state of america. Where **Store**, **Holiday_Flag** are categorical in nature\n",
        "*   The data is collected over a 45 stores and weekly sales gives the sales of the crossponding store.\n"
      ]
    },
    {
      "cell_type": "markdown",
      "metadata": {
        "id": "v4tOp36ePN1I"
      },
      "source": [
        "## Data Exploration and Modification"
      ]
    },
    {
      "cell_type": "code",
      "execution_count": 5,
      "metadata": {
        "colab": {
          "base_uri": "https://localhost:8080/"
        },
        "id": "z5gHyIQ8PKaX",
        "outputId": "7cec42dc-903e-49f1-96c9-858d8e5875a1"
      },
      "outputs": [
        {
          "output_type": "stream",
          "name": "stdout",
          "text": [
            "<class 'pandas.core.frame.DataFrame'>\n",
            "RangeIndex: 6435 entries, 0 to 6434\n",
            "Data columns (total 8 columns):\n",
            " #   Column        Non-Null Count  Dtype  \n",
            "---  ------        --------------  -----  \n",
            " 0   Store         6435 non-null   int64  \n",
            " 1   Date          6435 non-null   object \n",
            " 2   Weekly_Sales  6435 non-null   float64\n",
            " 3   Holiday_Flag  6435 non-null   int64  \n",
            " 4   Temperature   6435 non-null   float64\n",
            " 5   Fuel_Price    6435 non-null   float64\n",
            " 6   CPI           6435 non-null   float64\n",
            " 7   Unemployment  6435 non-null   float64\n",
            "dtypes: float64(5), int64(2), object(1)\n",
            "memory usage: 402.3+ KB\n"
          ]
        }
      ],
      "source": [
        "df.info() # it gives the information (like count and data type) of the dataset"
      ]
    },
    {
      "cell_type": "markdown",
      "metadata": {
        "id": "E71rOKGCSMdO"
      },
      "source": [
        "Here Date columns is **object** and other remain columns are **interger or float** in nature. Now using the pandas I change the date column datatype(i.e. object) into a pandas-datetime."
      ]
    },
    {
      "cell_type": "code",
      "execution_count": 6,
      "metadata": {
        "colab": {
          "base_uri": "https://localhost:8080/"
        },
        "id": "bWoEF0niZAAh",
        "outputId": "cb9ab654-710b-413e-ed51-9b091a62e4ea"
      },
      "outputs": [
        {
          "output_type": "stream",
          "name": "stderr",
          "text": [
            "<ipython-input-6-e56517284519>:1: UserWarning: Parsing dates in DD/MM/YYYY format when dayfirst=False (the default) was specified. This may lead to inconsistently parsed dates! Specify a format to ensure consistent parsing.\n",
            "  df.Date=pd.to_datetime(df.Date)\n"
          ]
        }
      ],
      "source": [
        "df.Date=pd.to_datetime(df.Date)"
      ]
    },
    {
      "cell_type": "markdown",
      "metadata": {
        "id": "lXkUIN1BZAAi"
      },
      "source": [
        "Using the date column i create three seperate columns of weekday, month and year and added to the existing dataset."
      ]
    },
    {
      "cell_type": "code",
      "execution_count": 7,
      "metadata": {
        "id": "Wah1iBNMRbOZ"
      },
      "outputs": [],
      "source": [
        "df['weekday'] = df.Date.dt.weekday\n",
        "df['month'] = df.Date.dt.month\n",
        "df['year'] = df.Date.dt.year"
      ]
    },
    {
      "cell_type": "markdown",
      "metadata": {
        "id": "cT34SeanZAAi"
      },
      "source": [
        "Now I drop the date columns because of no use of it."
      ]
    },
    {
      "cell_type": "code",
      "execution_count": 8,
      "metadata": {
        "id": "FVa_jWuuSeXw"
      },
      "outputs": [],
      "source": [
        "df.drop(['Date'], axis=1, inplace=True)"
      ]
    },
    {
      "cell_type": "markdown",
      "metadata": {
        "id": "caFHqWlDZAAi"
      },
      "source": [
        "Hence the modified dataset is look like:"
      ]
    },
    {
      "cell_type": "code",
      "execution_count": 9,
      "metadata": {
        "colab": {
          "base_uri": "https://localhost:8080/",
          "height": 143
        },
        "id": "_N5RjYZqijWo",
        "outputId": "ec1ab3d0-e9be-4cad-db07-9aa169e0e67f"
      },
      "outputs": [
        {
          "output_type": "execute_result",
          "data": {
            "text/plain": [
              "   Store  Weekly_Sales  Holiday_Flag  Temperature  Fuel_Price         CPI  \\\n",
              "0      1    1643690.90             0        42.31       2.572  211.096358   \n",
              "1      1    1641957.44             1        38.51       2.548  211.242170   \n",
              "2      1    1611968.17             0        39.93       2.514  211.289143   \n",
              "\n",
              "   Unemployment  weekday  month  year  \n",
              "0         8.106        6      5  2010  \n",
              "1         8.106        3     12  2010  \n",
              "2         8.106        4      2  2010  "
            ],
            "text/html": [
              "\n",
              "  <div id=\"df-b0311dcd-4bf8-4a54-a347-9f4344e1d223\" class=\"colab-df-container\">\n",
              "    <div>\n",
              "<style scoped>\n",
              "    .dataframe tbody tr th:only-of-type {\n",
              "        vertical-align: middle;\n",
              "    }\n",
              "\n",
              "    .dataframe tbody tr th {\n",
              "        vertical-align: top;\n",
              "    }\n",
              "\n",
              "    .dataframe thead th {\n",
              "        text-align: right;\n",
              "    }\n",
              "</style>\n",
              "<table border=\"1\" class=\"dataframe\">\n",
              "  <thead>\n",
              "    <tr style=\"text-align: right;\">\n",
              "      <th></th>\n",
              "      <th>Store</th>\n",
              "      <th>Weekly_Sales</th>\n",
              "      <th>Holiday_Flag</th>\n",
              "      <th>Temperature</th>\n",
              "      <th>Fuel_Price</th>\n",
              "      <th>CPI</th>\n",
              "      <th>Unemployment</th>\n",
              "      <th>weekday</th>\n",
              "      <th>month</th>\n",
              "      <th>year</th>\n",
              "    </tr>\n",
              "  </thead>\n",
              "  <tbody>\n",
              "    <tr>\n",
              "      <th>0</th>\n",
              "      <td>1</td>\n",
              "      <td>1643690.90</td>\n",
              "      <td>0</td>\n",
              "      <td>42.31</td>\n",
              "      <td>2.572</td>\n",
              "      <td>211.096358</td>\n",
              "      <td>8.106</td>\n",
              "      <td>6</td>\n",
              "      <td>5</td>\n",
              "      <td>2010</td>\n",
              "    </tr>\n",
              "    <tr>\n",
              "      <th>1</th>\n",
              "      <td>1</td>\n",
              "      <td>1641957.44</td>\n",
              "      <td>1</td>\n",
              "      <td>38.51</td>\n",
              "      <td>2.548</td>\n",
              "      <td>211.242170</td>\n",
              "      <td>8.106</td>\n",
              "      <td>3</td>\n",
              "      <td>12</td>\n",
              "      <td>2010</td>\n",
              "    </tr>\n",
              "    <tr>\n",
              "      <th>2</th>\n",
              "      <td>1</td>\n",
              "      <td>1611968.17</td>\n",
              "      <td>0</td>\n",
              "      <td>39.93</td>\n",
              "      <td>2.514</td>\n",
              "      <td>211.289143</td>\n",
              "      <td>8.106</td>\n",
              "      <td>4</td>\n",
              "      <td>2</td>\n",
              "      <td>2010</td>\n",
              "    </tr>\n",
              "  </tbody>\n",
              "</table>\n",
              "</div>\n",
              "    <div class=\"colab-df-buttons\">\n",
              "\n",
              "  <div class=\"colab-df-container\">\n",
              "    <button class=\"colab-df-convert\" onclick=\"convertToInteractive('df-b0311dcd-4bf8-4a54-a347-9f4344e1d223')\"\n",
              "            title=\"Convert this dataframe to an interactive table.\"\n",
              "            style=\"display:none;\">\n",
              "\n",
              "  <svg xmlns=\"http://www.w3.org/2000/svg\" height=\"24px\" viewBox=\"0 -960 960 960\">\n",
              "    <path d=\"M120-120v-720h720v720H120Zm60-500h600v-160H180v160Zm220 220h160v-160H400v160Zm0 220h160v-160H400v160ZM180-400h160v-160H180v160Zm440 0h160v-160H620v160ZM180-180h160v-160H180v160Zm440 0h160v-160H620v160Z\"/>\n",
              "  </svg>\n",
              "    </button>\n",
              "\n",
              "  <style>\n",
              "    .colab-df-container {\n",
              "      display:flex;\n",
              "      gap: 12px;\n",
              "    }\n",
              "\n",
              "    .colab-df-convert {\n",
              "      background-color: #E8F0FE;\n",
              "      border: none;\n",
              "      border-radius: 50%;\n",
              "      cursor: pointer;\n",
              "      display: none;\n",
              "      fill: #1967D2;\n",
              "      height: 32px;\n",
              "      padding: 0 0 0 0;\n",
              "      width: 32px;\n",
              "    }\n",
              "\n",
              "    .colab-df-convert:hover {\n",
              "      background-color: #E2EBFA;\n",
              "      box-shadow: 0px 1px 2px rgba(60, 64, 67, 0.3), 0px 1px 3px 1px rgba(60, 64, 67, 0.15);\n",
              "      fill: #174EA6;\n",
              "    }\n",
              "\n",
              "    .colab-df-buttons div {\n",
              "      margin-bottom: 4px;\n",
              "    }\n",
              "\n",
              "    [theme=dark] .colab-df-convert {\n",
              "      background-color: #3B4455;\n",
              "      fill: #D2E3FC;\n",
              "    }\n",
              "\n",
              "    [theme=dark] .colab-df-convert:hover {\n",
              "      background-color: #434B5C;\n",
              "      box-shadow: 0px 1px 3px 1px rgba(0, 0, 0, 0.15);\n",
              "      filter: drop-shadow(0px 1px 2px rgba(0, 0, 0, 0.3));\n",
              "      fill: #FFFFFF;\n",
              "    }\n",
              "  </style>\n",
              "\n",
              "    <script>\n",
              "      const buttonEl =\n",
              "        document.querySelector('#df-b0311dcd-4bf8-4a54-a347-9f4344e1d223 button.colab-df-convert');\n",
              "      buttonEl.style.display =\n",
              "        google.colab.kernel.accessAllowed ? 'block' : 'none';\n",
              "\n",
              "      async function convertToInteractive(key) {\n",
              "        const element = document.querySelector('#df-b0311dcd-4bf8-4a54-a347-9f4344e1d223');\n",
              "        const dataTable =\n",
              "          await google.colab.kernel.invokeFunction('convertToInteractive',\n",
              "                                                    [key], {});\n",
              "        if (!dataTable) return;\n",
              "\n",
              "        const docLinkHtml = 'Like what you see? Visit the ' +\n",
              "          '<a target=\"_blank\" href=https://colab.research.google.com/notebooks/data_table.ipynb>data table notebook</a>'\n",
              "          + ' to learn more about interactive tables.';\n",
              "        element.innerHTML = '';\n",
              "        dataTable['output_type'] = 'display_data';\n",
              "        await google.colab.output.renderOutput(dataTable, element);\n",
              "        const docLink = document.createElement('div');\n",
              "        docLink.innerHTML = docLinkHtml;\n",
              "        element.appendChild(docLink);\n",
              "      }\n",
              "    </script>\n",
              "  </div>\n",
              "\n",
              "\n",
              "<div id=\"df-e07eb065-f08b-4fef-b5d8-7173686cbf9b\">\n",
              "  <button class=\"colab-df-quickchart\" onclick=\"quickchart('df-e07eb065-f08b-4fef-b5d8-7173686cbf9b')\"\n",
              "            title=\"Suggest charts.\"\n",
              "            style=\"display:none;\">\n",
              "\n",
              "<svg xmlns=\"http://www.w3.org/2000/svg\" height=\"24px\"viewBox=\"0 0 24 24\"\n",
              "     width=\"24px\">\n",
              "    <g>\n",
              "        <path d=\"M19 3H5c-1.1 0-2 .9-2 2v14c0 1.1.9 2 2 2h14c1.1 0 2-.9 2-2V5c0-1.1-.9-2-2-2zM9 17H7v-7h2v7zm4 0h-2V7h2v10zm4 0h-2v-4h2v4z\"/>\n",
              "    </g>\n",
              "</svg>\n",
              "  </button>\n",
              "\n",
              "<style>\n",
              "  .colab-df-quickchart {\n",
              "      --bg-color: #E8F0FE;\n",
              "      --fill-color: #1967D2;\n",
              "      --hover-bg-color: #E2EBFA;\n",
              "      --hover-fill-color: #174EA6;\n",
              "      --disabled-fill-color: #AAA;\n",
              "      --disabled-bg-color: #DDD;\n",
              "  }\n",
              "\n",
              "  [theme=dark] .colab-df-quickchart {\n",
              "      --bg-color: #3B4455;\n",
              "      --fill-color: #D2E3FC;\n",
              "      --hover-bg-color: #434B5C;\n",
              "      --hover-fill-color: #FFFFFF;\n",
              "      --disabled-bg-color: #3B4455;\n",
              "      --disabled-fill-color: #666;\n",
              "  }\n",
              "\n",
              "  .colab-df-quickchart {\n",
              "    background-color: var(--bg-color);\n",
              "    border: none;\n",
              "    border-radius: 50%;\n",
              "    cursor: pointer;\n",
              "    display: none;\n",
              "    fill: var(--fill-color);\n",
              "    height: 32px;\n",
              "    padding: 0;\n",
              "    width: 32px;\n",
              "  }\n",
              "\n",
              "  .colab-df-quickchart:hover {\n",
              "    background-color: var(--hover-bg-color);\n",
              "    box-shadow: 0 1px 2px rgba(60, 64, 67, 0.3), 0 1px 3px 1px rgba(60, 64, 67, 0.15);\n",
              "    fill: var(--button-hover-fill-color);\n",
              "  }\n",
              "\n",
              "  .colab-df-quickchart-complete:disabled,\n",
              "  .colab-df-quickchart-complete:disabled:hover {\n",
              "    background-color: var(--disabled-bg-color);\n",
              "    fill: var(--disabled-fill-color);\n",
              "    box-shadow: none;\n",
              "  }\n",
              "\n",
              "  .colab-df-spinner {\n",
              "    border: 2px solid var(--fill-color);\n",
              "    border-color: transparent;\n",
              "    border-bottom-color: var(--fill-color);\n",
              "    animation:\n",
              "      spin 1s steps(1) infinite;\n",
              "  }\n",
              "\n",
              "  @keyframes spin {\n",
              "    0% {\n",
              "      border-color: transparent;\n",
              "      border-bottom-color: var(--fill-color);\n",
              "      border-left-color: var(--fill-color);\n",
              "    }\n",
              "    20% {\n",
              "      border-color: transparent;\n",
              "      border-left-color: var(--fill-color);\n",
              "      border-top-color: var(--fill-color);\n",
              "    }\n",
              "    30% {\n",
              "      border-color: transparent;\n",
              "      border-left-color: var(--fill-color);\n",
              "      border-top-color: var(--fill-color);\n",
              "      border-right-color: var(--fill-color);\n",
              "    }\n",
              "    40% {\n",
              "      border-color: transparent;\n",
              "      border-right-color: var(--fill-color);\n",
              "      border-top-color: var(--fill-color);\n",
              "    }\n",
              "    60% {\n",
              "      border-color: transparent;\n",
              "      border-right-color: var(--fill-color);\n",
              "    }\n",
              "    80% {\n",
              "      border-color: transparent;\n",
              "      border-right-color: var(--fill-color);\n",
              "      border-bottom-color: var(--fill-color);\n",
              "    }\n",
              "    90% {\n",
              "      border-color: transparent;\n",
              "      border-bottom-color: var(--fill-color);\n",
              "    }\n",
              "  }\n",
              "</style>\n",
              "\n",
              "  <script>\n",
              "    async function quickchart(key) {\n",
              "      const quickchartButtonEl =\n",
              "        document.querySelector('#' + key + ' button');\n",
              "      quickchartButtonEl.disabled = true;  // To prevent multiple clicks.\n",
              "      quickchartButtonEl.classList.add('colab-df-spinner');\n",
              "      try {\n",
              "        const charts = await google.colab.kernel.invokeFunction(\n",
              "            'suggestCharts', [key], {});\n",
              "      } catch (error) {\n",
              "        console.error('Error during call to suggestCharts:', error);\n",
              "      }\n",
              "      quickchartButtonEl.classList.remove('colab-df-spinner');\n",
              "      quickchartButtonEl.classList.add('colab-df-quickchart-complete');\n",
              "    }\n",
              "    (() => {\n",
              "      let quickchartButtonEl =\n",
              "        document.querySelector('#df-e07eb065-f08b-4fef-b5d8-7173686cbf9b button');\n",
              "      quickchartButtonEl.style.display =\n",
              "        google.colab.kernel.accessAllowed ? 'block' : 'none';\n",
              "    })();\n",
              "  </script>\n",
              "</div>\n",
              "    </div>\n",
              "  </div>\n"
            ]
          },
          "metadata": {},
          "execution_count": 9
        }
      ],
      "source": [
        "df.head(3)"
      ]
    },
    {
      "cell_type": "markdown",
      "metadata": {
        "id": "ZUpGNX29ZAAj"
      },
      "source": [
        "Explored the unique values of the weekday, month and year columns as follows:"
      ]
    },
    {
      "cell_type": "code",
      "execution_count": 10,
      "metadata": {
        "colab": {
          "base_uri": "https://localhost:8080/"
        },
        "id": "vvUj_-NAimJu",
        "outputId": "0485b2b4-2a14-4e60-e760-3817745bd4b8"
      },
      "outputs": [
        {
          "output_type": "stream",
          "name": "stdout",
          "text": [
            "years unique value [2010 2011 2012]\n",
            "months unique value [ 5 12  2  3  9  4  7 11  6  8 10  1]\n",
            "weekday unique value [6 3 4 0 5 1 2]\n"
          ]
        }
      ],
      "source": [
        "print('years unique value', df.year.unique())\n",
        "print('months unique value', df.month.unique())\n",
        "print('weekday unique value', df.weekday.unique())"
      ]
    },
    {
      "cell_type": "markdown",
      "metadata": {
        "id": "lOswVgn6kIMe"
      },
      "source": [
        "Months and weekday are as usual, but the data is taken from year 2010, 2011, 2012 only."
      ]
    },
    {
      "cell_type": "markdown",
      "metadata": {
        "id": "UoGewDODZAAj"
      },
      "source": [
        "Now to get the idea of distribution of the dataset, I used describe function which gives a table of various statistical values of all the columns"
      ]
    },
    {
      "cell_type": "code",
      "execution_count": 11,
      "metadata": {
        "colab": {
          "base_uri": "https://localhost:8080/",
          "height": 300
        },
        "id": "iXkWelyCkq-I",
        "outputId": "3388badd-dca5-4a7f-f494-4d3982fd7a50"
      },
      "outputs": [
        {
          "output_type": "execute_result",
          "data": {
            "text/plain": [
              "             Store  Weekly_Sales  Holiday_Flag  Temperature   Fuel_Price  \\\n",
              "count  6435.000000  6.435000e+03   6435.000000  6435.000000  6435.000000   \n",
              "mean     23.000000  1.046965e+06      0.069930    60.663782     3.358607   \n",
              "std      12.988182  5.643666e+05      0.255049    18.444933     0.459020   \n",
              "min       1.000000  2.099862e+05      0.000000    -2.060000     2.472000   \n",
              "25%      12.000000  5.533501e+05      0.000000    47.460000     2.933000   \n",
              "50%      23.000000  9.607460e+05      0.000000    62.670000     3.445000   \n",
              "75%      34.000000  1.420159e+06      0.000000    74.940000     3.735000   \n",
              "max      45.000000  3.818686e+06      1.000000   100.140000     4.468000   \n",
              "\n",
              "               CPI  Unemployment      weekday        month         year  \n",
              "count  6435.000000   6435.000000  6435.000000  6435.000000  6435.000000  \n",
              "mean    171.578394      7.999151     3.573427     6.475524  2010.965035  \n",
              "std      39.356712      1.875885     1.426581     3.321797     0.797019  \n",
              "min     126.064000      3.879000     0.000000     1.000000  2010.000000  \n",
              "25%     131.735000      6.891000     4.000000     4.000000  2010.000000  \n",
              "50%     182.616521      7.874000     4.000000     6.000000  2011.000000  \n",
              "75%     212.743293      8.622000     4.000000     9.000000  2012.000000  \n",
              "max     227.232807     14.313000     6.000000    12.000000  2012.000000  "
            ],
            "text/html": [
              "\n",
              "  <div id=\"df-38d1c248-c8a8-4c93-994b-eb35a6de8a50\" class=\"colab-df-container\">\n",
              "    <div>\n",
              "<style scoped>\n",
              "    .dataframe tbody tr th:only-of-type {\n",
              "        vertical-align: middle;\n",
              "    }\n",
              "\n",
              "    .dataframe tbody tr th {\n",
              "        vertical-align: top;\n",
              "    }\n",
              "\n",
              "    .dataframe thead th {\n",
              "        text-align: right;\n",
              "    }\n",
              "</style>\n",
              "<table border=\"1\" class=\"dataframe\">\n",
              "  <thead>\n",
              "    <tr style=\"text-align: right;\">\n",
              "      <th></th>\n",
              "      <th>Store</th>\n",
              "      <th>Weekly_Sales</th>\n",
              "      <th>Holiday_Flag</th>\n",
              "      <th>Temperature</th>\n",
              "      <th>Fuel_Price</th>\n",
              "      <th>CPI</th>\n",
              "      <th>Unemployment</th>\n",
              "      <th>weekday</th>\n",
              "      <th>month</th>\n",
              "      <th>year</th>\n",
              "    </tr>\n",
              "  </thead>\n",
              "  <tbody>\n",
              "    <tr>\n",
              "      <th>count</th>\n",
              "      <td>6435.000000</td>\n",
              "      <td>6.435000e+03</td>\n",
              "      <td>6435.000000</td>\n",
              "      <td>6435.000000</td>\n",
              "      <td>6435.000000</td>\n",
              "      <td>6435.000000</td>\n",
              "      <td>6435.000000</td>\n",
              "      <td>6435.000000</td>\n",
              "      <td>6435.000000</td>\n",
              "      <td>6435.000000</td>\n",
              "    </tr>\n",
              "    <tr>\n",
              "      <th>mean</th>\n",
              "      <td>23.000000</td>\n",
              "      <td>1.046965e+06</td>\n",
              "      <td>0.069930</td>\n",
              "      <td>60.663782</td>\n",
              "      <td>3.358607</td>\n",
              "      <td>171.578394</td>\n",
              "      <td>7.999151</td>\n",
              "      <td>3.573427</td>\n",
              "      <td>6.475524</td>\n",
              "      <td>2010.965035</td>\n",
              "    </tr>\n",
              "    <tr>\n",
              "      <th>std</th>\n",
              "      <td>12.988182</td>\n",
              "      <td>5.643666e+05</td>\n",
              "      <td>0.255049</td>\n",
              "      <td>18.444933</td>\n",
              "      <td>0.459020</td>\n",
              "      <td>39.356712</td>\n",
              "      <td>1.875885</td>\n",
              "      <td>1.426581</td>\n",
              "      <td>3.321797</td>\n",
              "      <td>0.797019</td>\n",
              "    </tr>\n",
              "    <tr>\n",
              "      <th>min</th>\n",
              "      <td>1.000000</td>\n",
              "      <td>2.099862e+05</td>\n",
              "      <td>0.000000</td>\n",
              "      <td>-2.060000</td>\n",
              "      <td>2.472000</td>\n",
              "      <td>126.064000</td>\n",
              "      <td>3.879000</td>\n",
              "      <td>0.000000</td>\n",
              "      <td>1.000000</td>\n",
              "      <td>2010.000000</td>\n",
              "    </tr>\n",
              "    <tr>\n",
              "      <th>25%</th>\n",
              "      <td>12.000000</td>\n",
              "      <td>5.533501e+05</td>\n",
              "      <td>0.000000</td>\n",
              "      <td>47.460000</td>\n",
              "      <td>2.933000</td>\n",
              "      <td>131.735000</td>\n",
              "      <td>6.891000</td>\n",
              "      <td>4.000000</td>\n",
              "      <td>4.000000</td>\n",
              "      <td>2010.000000</td>\n",
              "    </tr>\n",
              "    <tr>\n",
              "      <th>50%</th>\n",
              "      <td>23.000000</td>\n",
              "      <td>9.607460e+05</td>\n",
              "      <td>0.000000</td>\n",
              "      <td>62.670000</td>\n",
              "      <td>3.445000</td>\n",
              "      <td>182.616521</td>\n",
              "      <td>7.874000</td>\n",
              "      <td>4.000000</td>\n",
              "      <td>6.000000</td>\n",
              "      <td>2011.000000</td>\n",
              "    </tr>\n",
              "    <tr>\n",
              "      <th>75%</th>\n",
              "      <td>34.000000</td>\n",
              "      <td>1.420159e+06</td>\n",
              "      <td>0.000000</td>\n",
              "      <td>74.940000</td>\n",
              "      <td>3.735000</td>\n",
              "      <td>212.743293</td>\n",
              "      <td>8.622000</td>\n",
              "      <td>4.000000</td>\n",
              "      <td>9.000000</td>\n",
              "      <td>2012.000000</td>\n",
              "    </tr>\n",
              "    <tr>\n",
              "      <th>max</th>\n",
              "      <td>45.000000</td>\n",
              "      <td>3.818686e+06</td>\n",
              "      <td>1.000000</td>\n",
              "      <td>100.140000</td>\n",
              "      <td>4.468000</td>\n",
              "      <td>227.232807</td>\n",
              "      <td>14.313000</td>\n",
              "      <td>6.000000</td>\n",
              "      <td>12.000000</td>\n",
              "      <td>2012.000000</td>\n",
              "    </tr>\n",
              "  </tbody>\n",
              "</table>\n",
              "</div>\n",
              "    <div class=\"colab-df-buttons\">\n",
              "\n",
              "  <div class=\"colab-df-container\">\n",
              "    <button class=\"colab-df-convert\" onclick=\"convertToInteractive('df-38d1c248-c8a8-4c93-994b-eb35a6de8a50')\"\n",
              "            title=\"Convert this dataframe to an interactive table.\"\n",
              "            style=\"display:none;\">\n",
              "\n",
              "  <svg xmlns=\"http://www.w3.org/2000/svg\" height=\"24px\" viewBox=\"0 -960 960 960\">\n",
              "    <path d=\"M120-120v-720h720v720H120Zm60-500h600v-160H180v160Zm220 220h160v-160H400v160Zm0 220h160v-160H400v160ZM180-400h160v-160H180v160Zm440 0h160v-160H620v160ZM180-180h160v-160H180v160Zm440 0h160v-160H620v160Z\"/>\n",
              "  </svg>\n",
              "    </button>\n",
              "\n",
              "  <style>\n",
              "    .colab-df-container {\n",
              "      display:flex;\n",
              "      gap: 12px;\n",
              "    }\n",
              "\n",
              "    .colab-df-convert {\n",
              "      background-color: #E8F0FE;\n",
              "      border: none;\n",
              "      border-radius: 50%;\n",
              "      cursor: pointer;\n",
              "      display: none;\n",
              "      fill: #1967D2;\n",
              "      height: 32px;\n",
              "      padding: 0 0 0 0;\n",
              "      width: 32px;\n",
              "    }\n",
              "\n",
              "    .colab-df-convert:hover {\n",
              "      background-color: #E2EBFA;\n",
              "      box-shadow: 0px 1px 2px rgba(60, 64, 67, 0.3), 0px 1px 3px 1px rgba(60, 64, 67, 0.15);\n",
              "      fill: #174EA6;\n",
              "    }\n",
              "\n",
              "    .colab-df-buttons div {\n",
              "      margin-bottom: 4px;\n",
              "    }\n",
              "\n",
              "    [theme=dark] .colab-df-convert {\n",
              "      background-color: #3B4455;\n",
              "      fill: #D2E3FC;\n",
              "    }\n",
              "\n",
              "    [theme=dark] .colab-df-convert:hover {\n",
              "      background-color: #434B5C;\n",
              "      box-shadow: 0px 1px 3px 1px rgba(0, 0, 0, 0.15);\n",
              "      filter: drop-shadow(0px 1px 2px rgba(0, 0, 0, 0.3));\n",
              "      fill: #FFFFFF;\n",
              "    }\n",
              "  </style>\n",
              "\n",
              "    <script>\n",
              "      const buttonEl =\n",
              "        document.querySelector('#df-38d1c248-c8a8-4c93-994b-eb35a6de8a50 button.colab-df-convert');\n",
              "      buttonEl.style.display =\n",
              "        google.colab.kernel.accessAllowed ? 'block' : 'none';\n",
              "\n",
              "      async function convertToInteractive(key) {\n",
              "        const element = document.querySelector('#df-38d1c248-c8a8-4c93-994b-eb35a6de8a50');\n",
              "        const dataTable =\n",
              "          await google.colab.kernel.invokeFunction('convertToInteractive',\n",
              "                                                    [key], {});\n",
              "        if (!dataTable) return;\n",
              "\n",
              "        const docLinkHtml = 'Like what you see? Visit the ' +\n",
              "          '<a target=\"_blank\" href=https://colab.research.google.com/notebooks/data_table.ipynb>data table notebook</a>'\n",
              "          + ' to learn more about interactive tables.';\n",
              "        element.innerHTML = '';\n",
              "        dataTable['output_type'] = 'display_data';\n",
              "        await google.colab.output.renderOutput(dataTable, element);\n",
              "        const docLink = document.createElement('div');\n",
              "        docLink.innerHTML = docLinkHtml;\n",
              "        element.appendChild(docLink);\n",
              "      }\n",
              "    </script>\n",
              "  </div>\n",
              "\n",
              "\n",
              "<div id=\"df-aa1f2929-7ff8-4fda-8139-5a584a0f7b80\">\n",
              "  <button class=\"colab-df-quickchart\" onclick=\"quickchart('df-aa1f2929-7ff8-4fda-8139-5a584a0f7b80')\"\n",
              "            title=\"Suggest charts.\"\n",
              "            style=\"display:none;\">\n",
              "\n",
              "<svg xmlns=\"http://www.w3.org/2000/svg\" height=\"24px\"viewBox=\"0 0 24 24\"\n",
              "     width=\"24px\">\n",
              "    <g>\n",
              "        <path d=\"M19 3H5c-1.1 0-2 .9-2 2v14c0 1.1.9 2 2 2h14c1.1 0 2-.9 2-2V5c0-1.1-.9-2-2-2zM9 17H7v-7h2v7zm4 0h-2V7h2v10zm4 0h-2v-4h2v4z\"/>\n",
              "    </g>\n",
              "</svg>\n",
              "  </button>\n",
              "\n",
              "<style>\n",
              "  .colab-df-quickchart {\n",
              "      --bg-color: #E8F0FE;\n",
              "      --fill-color: #1967D2;\n",
              "      --hover-bg-color: #E2EBFA;\n",
              "      --hover-fill-color: #174EA6;\n",
              "      --disabled-fill-color: #AAA;\n",
              "      --disabled-bg-color: #DDD;\n",
              "  }\n",
              "\n",
              "  [theme=dark] .colab-df-quickchart {\n",
              "      --bg-color: #3B4455;\n",
              "      --fill-color: #D2E3FC;\n",
              "      --hover-bg-color: #434B5C;\n",
              "      --hover-fill-color: #FFFFFF;\n",
              "      --disabled-bg-color: #3B4455;\n",
              "      --disabled-fill-color: #666;\n",
              "  }\n",
              "\n",
              "  .colab-df-quickchart {\n",
              "    background-color: var(--bg-color);\n",
              "    border: none;\n",
              "    border-radius: 50%;\n",
              "    cursor: pointer;\n",
              "    display: none;\n",
              "    fill: var(--fill-color);\n",
              "    height: 32px;\n",
              "    padding: 0;\n",
              "    width: 32px;\n",
              "  }\n",
              "\n",
              "  .colab-df-quickchart:hover {\n",
              "    background-color: var(--hover-bg-color);\n",
              "    box-shadow: 0 1px 2px rgba(60, 64, 67, 0.3), 0 1px 3px 1px rgba(60, 64, 67, 0.15);\n",
              "    fill: var(--button-hover-fill-color);\n",
              "  }\n",
              "\n",
              "  .colab-df-quickchart-complete:disabled,\n",
              "  .colab-df-quickchart-complete:disabled:hover {\n",
              "    background-color: var(--disabled-bg-color);\n",
              "    fill: var(--disabled-fill-color);\n",
              "    box-shadow: none;\n",
              "  }\n",
              "\n",
              "  .colab-df-spinner {\n",
              "    border: 2px solid var(--fill-color);\n",
              "    border-color: transparent;\n",
              "    border-bottom-color: var(--fill-color);\n",
              "    animation:\n",
              "      spin 1s steps(1) infinite;\n",
              "  }\n",
              "\n",
              "  @keyframes spin {\n",
              "    0% {\n",
              "      border-color: transparent;\n",
              "      border-bottom-color: var(--fill-color);\n",
              "      border-left-color: var(--fill-color);\n",
              "    }\n",
              "    20% {\n",
              "      border-color: transparent;\n",
              "      border-left-color: var(--fill-color);\n",
              "      border-top-color: var(--fill-color);\n",
              "    }\n",
              "    30% {\n",
              "      border-color: transparent;\n",
              "      border-left-color: var(--fill-color);\n",
              "      border-top-color: var(--fill-color);\n",
              "      border-right-color: var(--fill-color);\n",
              "    }\n",
              "    40% {\n",
              "      border-color: transparent;\n",
              "      border-right-color: var(--fill-color);\n",
              "      border-top-color: var(--fill-color);\n",
              "    }\n",
              "    60% {\n",
              "      border-color: transparent;\n",
              "      border-right-color: var(--fill-color);\n",
              "    }\n",
              "    80% {\n",
              "      border-color: transparent;\n",
              "      border-right-color: var(--fill-color);\n",
              "      border-bottom-color: var(--fill-color);\n",
              "    }\n",
              "    90% {\n",
              "      border-color: transparent;\n",
              "      border-bottom-color: var(--fill-color);\n",
              "    }\n",
              "  }\n",
              "</style>\n",
              "\n",
              "  <script>\n",
              "    async function quickchart(key) {\n",
              "      const quickchartButtonEl =\n",
              "        document.querySelector('#' + key + ' button');\n",
              "      quickchartButtonEl.disabled = true;  // To prevent multiple clicks.\n",
              "      quickchartButtonEl.classList.add('colab-df-spinner');\n",
              "      try {\n",
              "        const charts = await google.colab.kernel.invokeFunction(\n",
              "            'suggestCharts', [key], {});\n",
              "      } catch (error) {\n",
              "        console.error('Error during call to suggestCharts:', error);\n",
              "      }\n",
              "      quickchartButtonEl.classList.remove('colab-df-spinner');\n",
              "      quickchartButtonEl.classList.add('colab-df-quickchart-complete');\n",
              "    }\n",
              "    (() => {\n",
              "      let quickchartButtonEl =\n",
              "        document.querySelector('#df-aa1f2929-7ff8-4fda-8139-5a584a0f7b80 button');\n",
              "      quickchartButtonEl.style.display =\n",
              "        google.colab.kernel.accessAllowed ? 'block' : 'none';\n",
              "    })();\n",
              "  </script>\n",
              "</div>\n",
              "    </div>\n",
              "  </div>\n"
            ]
          },
          "metadata": {},
          "execution_count": 11
        }
      ],
      "source": [
        "df.describe()"
      ]
    },
    {
      "cell_type": "markdown",
      "metadata": {
        "id": "saHlOPhwZAAk"
      },
      "source": [
        "**Insights:**\n",
        "*   Temperature - has values ranges from (-2, 100.1) Fahrenhite.\n",
        "*   CPI - is ranges from 126 to 227 with a standard deviation of 39.35\n",
        "*   Unemployment - is ranges from 3.87 to 14.31 with a standard deviation of 1.87"
      ]
    },
    {
      "cell_type": "code",
      "execution_count": 12,
      "metadata": {
        "id": "pAD-SpIjmIC6"
      },
      "outputs": [],
      "source": [
        "original_df = df.copy() # made the copy of dataframe to check the dublicates values in the dataset"
      ]
    },
    {
      "cell_type": "markdown",
      "metadata": {
        "id": "Sef-NdbsZAAk"
      },
      "source": [
        "Checking of dublicates values :"
      ]
    },
    {
      "cell_type": "code",
      "execution_count": 13,
      "metadata": {
        "colab": {
          "base_uri": "https://localhost:8080/"
        },
        "id": "li2XZvesln26",
        "outputId": "249b7a04-58c7-4afc-8688-963f7a574ccd"
      },
      "outputs": [
        {
          "output_type": "stream",
          "name": "stdout",
          "text": [
            "The dataset doesn't have any duplicates\n"
          ]
        }
      ],
      "source": [
        "counter = 0\n",
        "rs,cs = original_df.shape\n",
        "\n",
        "df.drop_duplicates(inplace=True)\n",
        "\n",
        "if df.shape==(rs,cs):\n",
        "    print('The dataset doesn\\'t have any duplicates')\n",
        "else:\n",
        "    print('Number of duplicates dropped/fixed ---> {rs-df.shape[0]}')"
      ]
    },
    {
      "cell_type": "markdown",
      "metadata": {
        "id": "sOmTFuXOZAAk"
      },
      "source": [
        "Checking of missing values :"
      ]
    },
    {
      "cell_type": "code",
      "execution_count": 14,
      "metadata": {
        "colab": {
          "base_uri": "https://localhost:8080/"
        },
        "id": "UAQTtf7jmWhQ",
        "outputId": "1d5d8ff0-59f9-4fac-9ce5-474c0710478c"
      },
      "outputs": [
        {
          "output_type": "execute_result",
          "data": {
            "text/plain": [
              "Store           0\n",
              "Weekly_Sales    0\n",
              "Holiday_Flag    0\n",
              "Temperature     0\n",
              "Fuel_Price      0\n",
              "CPI             0\n",
              "Unemployment    0\n",
              "weekday         0\n",
              "month           0\n",
              "year            0\n",
              "dtype: int64"
            ]
          },
          "metadata": {},
          "execution_count": 14
        }
      ],
      "source": [
        "df.isnull().sum()"
      ]
    },
    {
      "cell_type": "markdown",
      "metadata": {
        "id": "ekTGNkWRma1k"
      },
      "source": [
        "Dataset doesn't have null values"
      ]
    },
    {
      "cell_type": "markdown",
      "metadata": {
        "id": "BvM1LJc7kyq_"
      },
      "source": [
        "## Data Visualization"
      ]
    },
    {
      "cell_type": "code",
      "execution_count": 15,
      "metadata": {
        "colab": {
          "base_uri": "https://localhost:8080/",
          "height": 143
        },
        "id": "4M5tqFzPlAB2",
        "outputId": "d0e030ee-630b-4cb9-a618-3482ee664b87"
      },
      "outputs": [
        {
          "output_type": "execute_result",
          "data": {
            "text/plain": [
              "   Store  Weekly_Sales  Holiday_Flag  Temperature  Fuel_Price         CPI  \\\n",
              "0      1    1643690.90             0        42.31       2.572  211.096358   \n",
              "1      1    1641957.44             1        38.51       2.548  211.242170   \n",
              "2      1    1611968.17             0        39.93       2.514  211.289143   \n",
              "\n",
              "   Unemployment  weekday  month  year  \n",
              "0         8.106        6      5  2010  \n",
              "1         8.106        3     12  2010  \n",
              "2         8.106        4      2  2010  "
            ],
            "text/html": [
              "\n",
              "  <div id=\"df-6a0b05c7-eeab-4e8d-ab99-270fbf7cfe93\" class=\"colab-df-container\">\n",
              "    <div>\n",
              "<style scoped>\n",
              "    .dataframe tbody tr th:only-of-type {\n",
              "        vertical-align: middle;\n",
              "    }\n",
              "\n",
              "    .dataframe tbody tr th {\n",
              "        vertical-align: top;\n",
              "    }\n",
              "\n",
              "    .dataframe thead th {\n",
              "        text-align: right;\n",
              "    }\n",
              "</style>\n",
              "<table border=\"1\" class=\"dataframe\">\n",
              "  <thead>\n",
              "    <tr style=\"text-align: right;\">\n",
              "      <th></th>\n",
              "      <th>Store</th>\n",
              "      <th>Weekly_Sales</th>\n",
              "      <th>Holiday_Flag</th>\n",
              "      <th>Temperature</th>\n",
              "      <th>Fuel_Price</th>\n",
              "      <th>CPI</th>\n",
              "      <th>Unemployment</th>\n",
              "      <th>weekday</th>\n",
              "      <th>month</th>\n",
              "      <th>year</th>\n",
              "    </tr>\n",
              "  </thead>\n",
              "  <tbody>\n",
              "    <tr>\n",
              "      <th>0</th>\n",
              "      <td>1</td>\n",
              "      <td>1643690.90</td>\n",
              "      <td>0</td>\n",
              "      <td>42.31</td>\n",
              "      <td>2.572</td>\n",
              "      <td>211.096358</td>\n",
              "      <td>8.106</td>\n",
              "      <td>6</td>\n",
              "      <td>5</td>\n",
              "      <td>2010</td>\n",
              "    </tr>\n",
              "    <tr>\n",
              "      <th>1</th>\n",
              "      <td>1</td>\n",
              "      <td>1641957.44</td>\n",
              "      <td>1</td>\n",
              "      <td>38.51</td>\n",
              "      <td>2.548</td>\n",
              "      <td>211.242170</td>\n",
              "      <td>8.106</td>\n",
              "      <td>3</td>\n",
              "      <td>12</td>\n",
              "      <td>2010</td>\n",
              "    </tr>\n",
              "    <tr>\n",
              "      <th>2</th>\n",
              "      <td>1</td>\n",
              "      <td>1611968.17</td>\n",
              "      <td>0</td>\n",
              "      <td>39.93</td>\n",
              "      <td>2.514</td>\n",
              "      <td>211.289143</td>\n",
              "      <td>8.106</td>\n",
              "      <td>4</td>\n",
              "      <td>2</td>\n",
              "      <td>2010</td>\n",
              "    </tr>\n",
              "  </tbody>\n",
              "</table>\n",
              "</div>\n",
              "    <div class=\"colab-df-buttons\">\n",
              "\n",
              "  <div class=\"colab-df-container\">\n",
              "    <button class=\"colab-df-convert\" onclick=\"convertToInteractive('df-6a0b05c7-eeab-4e8d-ab99-270fbf7cfe93')\"\n",
              "            title=\"Convert this dataframe to an interactive table.\"\n",
              "            style=\"display:none;\">\n",
              "\n",
              "  <svg xmlns=\"http://www.w3.org/2000/svg\" height=\"24px\" viewBox=\"0 -960 960 960\">\n",
              "    <path d=\"M120-120v-720h720v720H120Zm60-500h600v-160H180v160Zm220 220h160v-160H400v160Zm0 220h160v-160H400v160ZM180-400h160v-160H180v160Zm440 0h160v-160H620v160ZM180-180h160v-160H180v160Zm440 0h160v-160H620v160Z\"/>\n",
              "  </svg>\n",
              "    </button>\n",
              "\n",
              "  <style>\n",
              "    .colab-df-container {\n",
              "      display:flex;\n",
              "      gap: 12px;\n",
              "    }\n",
              "\n",
              "    .colab-df-convert {\n",
              "      background-color: #E8F0FE;\n",
              "      border: none;\n",
              "      border-radius: 50%;\n",
              "      cursor: pointer;\n",
              "      display: none;\n",
              "      fill: #1967D2;\n",
              "      height: 32px;\n",
              "      padding: 0 0 0 0;\n",
              "      width: 32px;\n",
              "    }\n",
              "\n",
              "    .colab-df-convert:hover {\n",
              "      background-color: #E2EBFA;\n",
              "      box-shadow: 0px 1px 2px rgba(60, 64, 67, 0.3), 0px 1px 3px 1px rgba(60, 64, 67, 0.15);\n",
              "      fill: #174EA6;\n",
              "    }\n",
              "\n",
              "    .colab-df-buttons div {\n",
              "      margin-bottom: 4px;\n",
              "    }\n",
              "\n",
              "    [theme=dark] .colab-df-convert {\n",
              "      background-color: #3B4455;\n",
              "      fill: #D2E3FC;\n",
              "    }\n",
              "\n",
              "    [theme=dark] .colab-df-convert:hover {\n",
              "      background-color: #434B5C;\n",
              "      box-shadow: 0px 1px 3px 1px rgba(0, 0, 0, 0.15);\n",
              "      filter: drop-shadow(0px 1px 2px rgba(0, 0, 0, 0.3));\n",
              "      fill: #FFFFFF;\n",
              "    }\n",
              "  </style>\n",
              "\n",
              "    <script>\n",
              "      const buttonEl =\n",
              "        document.querySelector('#df-6a0b05c7-eeab-4e8d-ab99-270fbf7cfe93 button.colab-df-convert');\n",
              "      buttonEl.style.display =\n",
              "        google.colab.kernel.accessAllowed ? 'block' : 'none';\n",
              "\n",
              "      async function convertToInteractive(key) {\n",
              "        const element = document.querySelector('#df-6a0b05c7-eeab-4e8d-ab99-270fbf7cfe93');\n",
              "        const dataTable =\n",
              "          await google.colab.kernel.invokeFunction('convertToInteractive',\n",
              "                                                    [key], {});\n",
              "        if (!dataTable) return;\n",
              "\n",
              "        const docLinkHtml = 'Like what you see? Visit the ' +\n",
              "          '<a target=\"_blank\" href=https://colab.research.google.com/notebooks/data_table.ipynb>data table notebook</a>'\n",
              "          + ' to learn more about interactive tables.';\n",
              "        element.innerHTML = '';\n",
              "        dataTable['output_type'] = 'display_data';\n",
              "        await google.colab.output.renderOutput(dataTable, element);\n",
              "        const docLink = document.createElement('div');\n",
              "        docLink.innerHTML = docLinkHtml;\n",
              "        element.appendChild(docLink);\n",
              "      }\n",
              "    </script>\n",
              "  </div>\n",
              "\n",
              "\n",
              "<div id=\"df-b387b203-3546-4b98-b455-0c14e204a599\">\n",
              "  <button class=\"colab-df-quickchart\" onclick=\"quickchart('df-b387b203-3546-4b98-b455-0c14e204a599')\"\n",
              "            title=\"Suggest charts.\"\n",
              "            style=\"display:none;\">\n",
              "\n",
              "<svg xmlns=\"http://www.w3.org/2000/svg\" height=\"24px\"viewBox=\"0 0 24 24\"\n",
              "     width=\"24px\">\n",
              "    <g>\n",
              "        <path d=\"M19 3H5c-1.1 0-2 .9-2 2v14c0 1.1.9 2 2 2h14c1.1 0 2-.9 2-2V5c0-1.1-.9-2-2-2zM9 17H7v-7h2v7zm4 0h-2V7h2v10zm4 0h-2v-4h2v4z\"/>\n",
              "    </g>\n",
              "</svg>\n",
              "  </button>\n",
              "\n",
              "<style>\n",
              "  .colab-df-quickchart {\n",
              "      --bg-color: #E8F0FE;\n",
              "      --fill-color: #1967D2;\n",
              "      --hover-bg-color: #E2EBFA;\n",
              "      --hover-fill-color: #174EA6;\n",
              "      --disabled-fill-color: #AAA;\n",
              "      --disabled-bg-color: #DDD;\n",
              "  }\n",
              "\n",
              "  [theme=dark] .colab-df-quickchart {\n",
              "      --bg-color: #3B4455;\n",
              "      --fill-color: #D2E3FC;\n",
              "      --hover-bg-color: #434B5C;\n",
              "      --hover-fill-color: #FFFFFF;\n",
              "      --disabled-bg-color: #3B4455;\n",
              "      --disabled-fill-color: #666;\n",
              "  }\n",
              "\n",
              "  .colab-df-quickchart {\n",
              "    background-color: var(--bg-color);\n",
              "    border: none;\n",
              "    border-radius: 50%;\n",
              "    cursor: pointer;\n",
              "    display: none;\n",
              "    fill: var(--fill-color);\n",
              "    height: 32px;\n",
              "    padding: 0;\n",
              "    width: 32px;\n",
              "  }\n",
              "\n",
              "  .colab-df-quickchart:hover {\n",
              "    background-color: var(--hover-bg-color);\n",
              "    box-shadow: 0 1px 2px rgba(60, 64, 67, 0.3), 0 1px 3px 1px rgba(60, 64, 67, 0.15);\n",
              "    fill: var(--button-hover-fill-color);\n",
              "  }\n",
              "\n",
              "  .colab-df-quickchart-complete:disabled,\n",
              "  .colab-df-quickchart-complete:disabled:hover {\n",
              "    background-color: var(--disabled-bg-color);\n",
              "    fill: var(--disabled-fill-color);\n",
              "    box-shadow: none;\n",
              "  }\n",
              "\n",
              "  .colab-df-spinner {\n",
              "    border: 2px solid var(--fill-color);\n",
              "    border-color: transparent;\n",
              "    border-bottom-color: var(--fill-color);\n",
              "    animation:\n",
              "      spin 1s steps(1) infinite;\n",
              "  }\n",
              "\n",
              "  @keyframes spin {\n",
              "    0% {\n",
              "      border-color: transparent;\n",
              "      border-bottom-color: var(--fill-color);\n",
              "      border-left-color: var(--fill-color);\n",
              "    }\n",
              "    20% {\n",
              "      border-color: transparent;\n",
              "      border-left-color: var(--fill-color);\n",
              "      border-top-color: var(--fill-color);\n",
              "    }\n",
              "    30% {\n",
              "      border-color: transparent;\n",
              "      border-left-color: var(--fill-color);\n",
              "      border-top-color: var(--fill-color);\n",
              "      border-right-color: var(--fill-color);\n",
              "    }\n",
              "    40% {\n",
              "      border-color: transparent;\n",
              "      border-right-color: var(--fill-color);\n",
              "      border-top-color: var(--fill-color);\n",
              "    }\n",
              "    60% {\n",
              "      border-color: transparent;\n",
              "      border-right-color: var(--fill-color);\n",
              "    }\n",
              "    80% {\n",
              "      border-color: transparent;\n",
              "      border-right-color: var(--fill-color);\n",
              "      border-bottom-color: var(--fill-color);\n",
              "    }\n",
              "    90% {\n",
              "      border-color: transparent;\n",
              "      border-bottom-color: var(--fill-color);\n",
              "    }\n",
              "  }\n",
              "</style>\n",
              "\n",
              "  <script>\n",
              "    async function quickchart(key) {\n",
              "      const quickchartButtonEl =\n",
              "        document.querySelector('#' + key + ' button');\n",
              "      quickchartButtonEl.disabled = true;  // To prevent multiple clicks.\n",
              "      quickchartButtonEl.classList.add('colab-df-spinner');\n",
              "      try {\n",
              "        const charts = await google.colab.kernel.invokeFunction(\n",
              "            'suggestCharts', [key], {});\n",
              "      } catch (error) {\n",
              "        console.error('Error during call to suggestCharts:', error);\n",
              "      }\n",
              "      quickchartButtonEl.classList.remove('colab-df-spinner');\n",
              "      quickchartButtonEl.classList.add('colab-df-quickchart-complete');\n",
              "    }\n",
              "    (() => {\n",
              "      let quickchartButtonEl =\n",
              "        document.querySelector('#df-b387b203-3546-4b98-b455-0c14e204a599 button');\n",
              "      quickchartButtonEl.style.display =\n",
              "        google.colab.kernel.accessAllowed ? 'block' : 'none';\n",
              "    })();\n",
              "  </script>\n",
              "</div>\n",
              "    </div>\n",
              "  </div>\n"
            ]
          },
          "metadata": {},
          "execution_count": 15
        }
      ],
      "source": [
        "df.head(3)"
      ]
    },
    {
      "cell_type": "markdown",
      "metadata": {
        "id": "Esen_Om6ZAAl"
      },
      "source": [
        "Here we have:\n",
        "\n",
        "**Numerical columns:** Weekly_sales, temperature, fuel_price, cpi, unemployment\n",
        "\n",
        "**Categorical columns:** Holiday_flag, Weekday, month, year\n",
        "\n",
        "Now plotted the count plot to get the distribution or frequency of the columns"
      ]
    },
    {
      "cell_type": "code",
      "execution_count": 16,
      "metadata": {
        "colab": {
          "base_uri": "https://localhost:8080/",
          "height": 655
        },
        "id": "eSyWAfAXlLNS",
        "outputId": "d6470164-5930-492b-d14e-6d03e3710587"
      },
      "outputs": [
        {
          "output_type": "display_data",
          "data": {
            "text/plain": [
              "<Figure size 1600x800 with 4 Axes>"
            ],
            "image/png": "[encoded data removed]"
          },
          "metadata": {
            "needs_background": "light"
          }
        }
      ],
      "source": [
        "fig, axes = plt.subplots(2, 2, figsize=(16, 8))\n",
        "\n",
        "#axes[0,0].set_title('Holiday Count plot')\n",
        "sns.countplot(x='Holiday_Flag', data=df, ax= axes[0,0])\n",
        "\n",
        "#axes[0,1].set_title('Weekday Count plot')\n",
        "sns.countplot(x='weekday', data=df, ax= axes[0,1]);\n",
        "\n",
        "#axes[1,0].set_title('month Count plot')\n",
        "sns.countplot(x='month', data=df, ax= axes[1,0]);\n",
        "\n",
        "#axes[1,1].set_title('year Count plot')\n",
        "sns.countplot(x='year', data=df, ax= axes[1,1]);"
      ]
    },
    {
      "cell_type": "markdown",
      "metadata": {
        "id": "5Db3No2HZAAl"
      },
      "source": [
        "**Insights:**\n",
        "\n",
        "*   In Holiday flag most of the time there is no holiday in that week.\n",
        "*   In weekdays columns observations are mostly related to the day 4\n",
        "*   Most of the observation in the data is from the month of april\n",
        "*   Most of the observation in the data is from year 2011"
      ]
    },
    {
      "cell_type": "markdown",
      "metadata": {
        "id": "uRNt-FaUZAAl"
      },
      "source": [
        "To get the idea of how many observations are there in dataset crossponding to each store, I again plot a count plot."
      ]
    },
    {
      "cell_type": "code",
      "execution_count": 17,
      "metadata": {
        "colab": {
          "base_uri": "https://localhost:8080/",
          "height": 594
        },
        "id": "_HphuyP76FHt",
        "outputId": "23af619c-e00d-4155-eb49-4c8ad432b1a4"
      },
      "outputs": [
        {
          "output_type": "display_data",
          "data": {
            "text/plain": [
              "<Figure size 1800x800 with 1 Axes>"
            ],
            "image/png": "[encoded data removed]"
          },
          "metadata": {
            "needs_background": "light"
          }
        }
      ],
      "source": [
        "plt.figure(figsize= (18,8))\n",
        "sns.countplot(x= 'Store', data= df);\n",
        "plt.show()"
      ]
    },
    {
      "cell_type": "markdown",
      "metadata": {
        "id": "4D0pl3sXZ6Bt"
      },
      "source": [
        "All the store have equal number of data in the set"
      ]
    },
    {
      "cell_type": "code",
      "execution_count": 18,
      "metadata": {
        "colab": {
          "base_uri": "https://localhost:8080/",
          "height": 81
        },
        "id": "KSXkCVMiaQet",
        "outputId": "64f29e0b-b96a-449c-9fbd-fa2d344de270"
      },
      "outputs": [
        {
          "output_type": "execute_result",
          "data": {
            "text/plain": [
              "   Store  Weekly_Sales  Holiday_Flag  Temperature  Fuel_Price         CPI  \\\n",
              "0      1     1643690.9             0        42.31       2.572  211.096358   \n",
              "\n",
              "   Unemployment  weekday  month  year  \n",
              "0         8.106        6      5  2010  "
            ],
            "text/html": [
              "\n",
              "  <div id=\"df-93a0cbb1-c665-466a-aad7-5d42013d5f9a\" class=\"colab-df-container\">\n",
              "    <div>\n",
              "<style scoped>\n",
              "    .dataframe tbody tr th:only-of-type {\n",
              "        vertical-align: middle;\n",
              "    }\n",
              "\n",
              "    .dataframe tbody tr th {\n",
              "        vertical-align: top;\n",
              "    }\n",
              "\n",
              "    .dataframe thead th {\n",
              "        text-align: right;\n",
              "    }\n",
              "</style>\n",
              "<table border=\"1\" class=\"dataframe\">\n",
              "  <thead>\n",
              "    <tr style=\"text-align: right;\">\n",
              "      <th></th>\n",
              "      <th>Store</th>\n",
              "      <th>Weekly_Sales</th>\n",
              "      <th>Holiday_Flag</th>\n",
              "      <th>Temperature</th>\n",
              "      <th>Fuel_Price</th>\n",
              "      <th>CPI</th>\n",
              "      <th>Unemployment</th>\n",
              "      <th>weekday</th>\n",
              "      <th>month</th>\n",
              "      <th>year</th>\n",
              "    </tr>\n",
              "  </thead>\n",
              "  <tbody>\n",
              "    <tr>\n",
              "      <th>0</th>\n",
              "      <td>1</td>\n",
              "      <td>1643690.9</td>\n",
              "      <td>0</td>\n",
              "      <td>42.31</td>\n",
              "      <td>2.572</td>\n",
              "      <td>211.096358</td>\n",
              "      <td>8.106</td>\n",
              "      <td>6</td>\n",
              "      <td>5</td>\n",
              "      <td>2010</td>\n",
              "    </tr>\n",
              "  </tbody>\n",
              "</table>\n",
              "</div>\n",
              "    <div class=\"colab-df-buttons\">\n",
              "\n",
              "  <div class=\"colab-df-container\">\n",
              "    <button class=\"colab-df-convert\" onclick=\"convertToInteractive('df-93a0cbb1-c665-466a-aad7-5d42013d5f9a')\"\n",
              "            title=\"Convert this dataframe to an interactive table.\"\n",
              "            style=\"display:none;\">\n",
              "\n",
              "  <svg xmlns=\"http://www.w3.org/2000/svg\" height=\"24px\" viewBox=\"0 -960 960 960\">\n",
              "    <path d=\"M120-120v-720h720v720H120Zm60-500h600v-160H180v160Zm220 220h160v-160H400v160Zm0 220h160v-160H400v160ZM180-400h160v-160H180v160Zm440 0h160v-160H620v160ZM180-180h160v-160H180v160Zm440 0h160v-160H620v160Z\"/>\n",
              "  </svg>\n",
              "    </button>\n",
              "\n",
              "  <style>\n",
              "    .colab-df-container {\n",
              "      display:flex;\n",
              "      gap: 12px;\n",
              "    }\n",
              "\n",
              "    .colab-df-convert {\n",
              "      background-color: #E8F0FE;\n",
              "      border: none;\n",
              "      border-radius: 50%;\n",
              "      cursor: pointer;\n",
              "      display: none;\n",
              "      fill: #1967D2;\n",
              "      height: 32px;\n",
              "      padding: 0 0 0 0;\n",
              "      width: 32px;\n",
              "    }\n",
              "\n",
              "    .colab-df-convert:hover {\n",
              "      background-color: #E2EBFA;\n",
              "      box-shadow: 0px 1px 2px rgba(60, 64, 67, 0.3), 0px 1px 3px 1px rgba(60, 64, 67, 0.15);\n",
              "      fill: #174EA6;\n",
              "    }\n",
              "\n",
              "    .colab-df-buttons div {\n",
              "      margin-bottom: 4px;\n",
              "    }\n",
              "\n",
              "    [theme=dark] .colab-df-convert {\n",
              "      background-color: #3B4455;\n",
              "      fill: #D2E3FC;\n",
              "    }\n",
              "\n",
              "    [theme=dark] .colab-df-convert:hover {\n",
              "      background-color: #434B5C;\n",
              "      box-shadow: 0px 1px 3px 1px rgba(0, 0, 0, 0.15);\n",
              "      filter: drop-shadow(0px 1px 2px rgba(0, 0, 0, 0.3));\n",
              "      fill: #FFFFFF;\n",
              "    }\n",
              "  </style>\n",
              "\n",
              "    <script>\n",
              "      const buttonEl =\n",
              "        document.querySelector('#df-93a0cbb1-c665-466a-aad7-5d42013d5f9a button.colab-df-convert');\n",
              "      buttonEl.style.display =\n",
              "        google.colab.kernel.accessAllowed ? 'block' : 'none';\n",
              "\n",
              "      async function convertToInteractive(key) {\n",
              "        const element = document.querySelector('#df-93a0cbb1-c665-466a-aad7-5d42013d5f9a');\n",
              "        const dataTable =\n",
              "          await google.colab.kernel.invokeFunction('convertToInteractive',\n",
              "                                                    [key], {});\n",
              "        if (!dataTable) return;\n",
              "\n",
              "        const docLinkHtml = 'Like what you see? Visit the ' +\n",
              "          '<a target=\"_blank\" href=https://colab.research.google.com/notebooks/data_table.ipynb>data table notebook</a>'\n",
              "          + ' to learn more about interactive tables.';\n",
              "        element.innerHTML = '';\n",
              "        dataTable['output_type'] = 'display_data';\n",
              "        await google.colab.output.renderOutput(dataTable, element);\n",
              "        const docLink = document.createElement('div');\n",
              "        docLink.innerHTML = docLinkHtml;\n",
              "        element.appendChild(docLink);\n",
              "      }\n",
              "    </script>\n",
              "  </div>\n",
              "\n",
              "    </div>\n",
              "  </div>\n"
            ]
          },
          "metadata": {},
          "execution_count": 18
        }
      ],
      "source": [
        "df.head(1)"
      ]
    },
    {
      "cell_type": "markdown",
      "metadata": {
        "id": "I0wlFAOGZAAo"
      },
      "source": [
        "To analyze the distribution of the data, I plotted the histogram and boxplot for Temperature, Unemployment, Fuel_Price, CPI."
      ]
    },
    {
      "cell_type": "code",
      "execution_count": 19,
      "metadata": {
        "colab": {
          "base_uri": "https://localhost:8080/",
          "height": 1000
        },
        "id": "tOLH3pvoZkbU",
        "outputId": "d05d5be8-0e0d-4536-92b9-04a951385bb2"
      },
      "outputs": [
        {
          "output_type": "display_data",
          "data": {
            "text/plain": [
              "<Figure size 1600x1600 with 8 Axes>"
            ],
            "image/png": "[encoded data removed]"
          },
          "metadata": {
            "needs_background": "light"
          }
        }
      ],
      "source": [
        "fig, axes = plt.subplots(4, 2, figsize=(16, 16))\n",
        "# axes[0,0].set_title('Temperature')\n",
        "sns.histplot(x= 'Temperature', data= df, ax= axes[0,0])\n",
        "\n",
        "sns.boxplot(x= 'Temperature', data= df, ax= axes[0,1])\n",
        "\n",
        "# axes[1,0].set_title('Unemployment')\n",
        "sns.histplot(x= 'Unemployment', data= df, ax= axes[1,0])\n",
        "\n",
        "sns.boxplot(x= 'Unemployment', data= df, ax= axes[1,1])\n",
        "\n",
        "# axes[2,0].set_title('Fuel_Price')\n",
        "sns.histplot(x= 'Fuel_Price', data= df, ax= axes[2,0])\n",
        "\n",
        "sns.boxplot(x = 'Fuel_Price', data= df, ax= axes[2,1])\n",
        "\n",
        "# axes[3,0].set_title('CPI')\n",
        "sns.histplot(x= 'CPI', data= df, ax= axes[3,0])\n",
        "\n",
        "sns.boxplot(x= 'CPI', data= df, ax= axes[3,1]);"
      ]
    },
    {
      "cell_type": "markdown",
      "metadata": {
        "id": "Y6eCaSOXekvp"
      },
      "source": [
        "**Insights:**\n",
        "\n",
        "*   Temperature:  Crossponding to the lower temperature, there is a presence of outlier.\n",
        "*   Umemployment: The outlier is present in the dataset crossponding to higher and lower both values.\n",
        "*   CPI: It is either very low or very high."
      ]
    },
    {
      "cell_type": "code",
      "execution_count": 20,
      "metadata": {
        "id": "-EmN6ZTra1Hr"
      },
      "outputs": [],
      "source": [
        "# Removing the outlier from Temperature column\n",
        "\n",
        "Q1 = df['Temperature'].quantile(0.25)\n",
        "Q3 = df['Temperature'].quantile(0.75)\n",
        "IQR = Q3 - Q1\n",
        "df = df[df['Temperature'] <= (Q3+(1.5*IQR))]\n",
        "df = df[df['Temperature'] >= (Q1-(1.5*IQR))]"
      ]
    },
    {
      "cell_type": "code",
      "execution_count": 21,
      "metadata": {
        "id": "U4R3Kqgn-_vB"
      },
      "outputs": [],
      "source": [
        "# Removing the outlier from Unemployment column\n",
        "\n",
        "Q1 = df['Unemployment'].quantile(0.25)\n",
        "Q3 = df['Unemployment'].quantile(0.75)\n",
        "IQR = Q3 - Q1\n",
        "df = df[df['Unemployment'] <= (Q3+(1.5*IQR))]\n",
        "df = df[df['Unemployment'] >= (Q1-(1.5*IQR))]"
      ]
    },
    {
      "cell_type": "code",
      "execution_count": 22,
      "metadata": {
        "colab": {
          "base_uri": "https://localhost:8080/"
        },
        "id": "yVemcM-M_Mxv",
        "outputId": "c16898dd-c021-4265-830a-ceac133f676d"
      },
      "outputs": [
        {
          "output_type": "execute_result",
          "data": {
            "text/plain": [
              "(5951, 10)"
            ]
          },
          "metadata": {},
          "execution_count": 22
        }
      ],
      "source": [
        "df.shape"
      ]
    },
    {
      "cell_type": "markdown",
      "metadata": {
        "id": "cBBEn2FE_ZA-"
      },
      "source": [
        "On the process of removing outlier, **484 data** points are removed from data-set"
      ]
    },
    {
      "cell_type": "markdown",
      "metadata": {
        "id": "rFMweINACZvn"
      },
      "source": [
        "## Encoding"
      ]
    },
    {
      "cell_type": "markdown",
      "metadata": {
        "id": "UUM8RrqiZAAp"
      },
      "source": [
        "Encoding is a process to convert the categorical columns into a numerical columns, as it is not a good preactice to train a model with categorical inputs."
      ]
    },
    {
      "cell_type": "code",
      "execution_count": 23,
      "metadata": {
        "id": "pO1uOasqGBeF"
      },
      "outputs": [],
      "source": [
        "cat_cols = ['Store', 'Holiday_Flag', 'weekday', 'month', 'year'] # these are the categorical columns"
      ]
    },
    {
      "cell_type": "code",
      "execution_count": 24,
      "metadata": {
        "colab": {
          "base_uri": "https://localhost:8080/"
        },
        "id": "x5k8sIgQF4dX",
        "outputId": "5614b06b-a00b-4897-cf2c-5fb98d1580f4"
      },
      "outputs": [
        {
          "output_type": "execute_result",
          "data": {
            "text/plain": [
              "Store           45\n",
              "Holiday_Flag     2\n",
              "weekday          7\n",
              "month           12\n",
              "year             3\n",
              "dtype: int64"
            ]
          },
          "metadata": {},
          "execution_count": 24
        }
      ],
      "source": [
        "df[cat_cols].nunique() # Counting the unique value in each of the categorical columns."
      ]
    },
    {
      "cell_type": "code",
      "execution_count": 25,
      "metadata": {
        "id": "glaMQs6fGJl4",
        "colab": {
          "base_uri": "https://localhost:8080/",
          "height": 129
        },
        "outputId": "6374fe29-abe0-417d-e183-695f07e32968"
      },
      "outputs": [
        {
          "output_type": "stream",
          "name": "stderr",
          "text": [
            "/usr/local/lib/python3.10/dist-packages/sklearn/preprocessing/_encoders.py:868: FutureWarning: `sparse` was renamed to `sparse_output` in version 1.2 and will be removed in 1.4. `sparse_output` is ignored unless you leave `sparse` to its default value.\n",
            "  warnings.warn(\n"
          ]
        },
        {
          "output_type": "execute_result",
          "data": {
            "text/plain": [
              "OneHotEncoder(handle_unknown='ignore', sparse=False, sparse_output=False)"
            ],
            "text/html": [
              "<style>#sk-container-id-1 {color: black;background-color: white;}#sk-container-id-1 pre{padding: 0;}#sk-container-id-1 div.sk-toggleable {background-color: white;}#sk-container-id-1 label.sk-toggleable__label {cursor: pointer;display: block;width: 100%;margin-bottom: 0;padding: 0.3em;box-sizing: border-box;text-align: center;}#sk-container-id-1 label.sk-toggleable__label-arrow:before {content: \"▸\";float: left;margin-right: 0.25em;color: #696969;}#sk-container-id-1 label.sk-toggleable__label-arrow:hover:before {color: black;}#sk-container-id-1 div.sk-estimator:hover label.sk-toggleable__label-arrow:before {color: black;}#sk-container-id-1 div.sk-toggleable__content {max-height: 0;max-width: 0;overflow: hidden;text-align: left;background-color: #f0f8ff;}#sk-container-id-1 div.sk-toggleable__content pre {margin: 0.2em;color: black;border-radius: 0.25em;background-color: #f0f8ff;}#sk-container-id-1 input.sk-toggleable__control:checked~div.sk-toggleable__content {max-height: 200px;max-width: 100%;overflow: auto;}#sk-container-id-1 input.sk-toggleable__control:checked~label.sk-toggleable__label-arrow:before {content: \"▾\";}#sk-container-id-1 div.sk-estimator input.sk-toggleable__control:checked~label.sk-toggleable__label {background-color: #d4ebff;}#sk-container-id-1 div.sk-label input.sk-toggleable__control:checked~label.sk-toggleable__label {background-color: #d4ebff;}#sk-container-id-1 input.sk-hidden--visually {border: 0;clip: rect(1px 1px 1px 1px);clip: rect(1px, 1px, 1px, 1px);height: 1px;margin: -1px;overflow: hidden;padding: 0;position: absolute;width: 1px;}#sk-container-id-1 div.sk-estimator {font-family: monospace;background-color: #f0f8ff;border: 1px dotted black;border-radius: 0.25em;box-sizing: border-box;margin-bottom: 0.5em;}#sk-container-id-1 div.sk-estimator:hover {background-color: #d4ebff;}#sk-container-id-1 div.sk-parallel-item::after {content: \"\";width: 100%;border-bottom: 1px solid gray;flex-grow: 1;}#sk-container-id-1 div.sk-label:hover label.sk-toggleable__label {background-color: #d4ebff;}#sk-container-id-1 div.sk-serial::before {content: \"\";position: absolute;border-left: 1px solid gray;box-sizing: border-box;top: 0;bottom: 0;left: 50%;z-index: 0;}#sk-container-id-1 div.sk-serial {display: flex;flex-direction: column;align-items: center;background-color: white;padding-right: 0.2em;padding-left: 0.2em;position: relative;}#sk-container-id-1 div.sk-item {position: relative;z-index: 1;}#sk-container-id-1 div.sk-parallel {display: flex;align-items: stretch;justify-content: center;background-color: white;position: relative;}#sk-container-id-1 div.sk-item::before, #sk-container-id-1 div.sk-parallel-item::before {content: \"\";position: absolute;border-left: 1px solid gray;box-sizing: border-box;top: 0;bottom: 0;left: 50%;z-index: -1;}#sk-container-id-1 div.sk-parallel-item {display: flex;flex-direction: column;z-index: 1;position: relative;background-color: white;}#sk-container-id-1 div.sk-parallel-item:first-child::after {align-self: flex-end;width: 50%;}#sk-container-id-1 div.sk-parallel-item:last-child::after {align-self: flex-start;width: 50%;}#sk-container-id-1 div.sk-parallel-item:only-child::after {width: 0;}#sk-container-id-1 div.sk-dashed-wrapped {border: 1px dashed gray;margin: 0 0.4em 0.5em 0.4em;box-sizing: border-box;padding-bottom: 0.4em;background-color: white;}#sk-container-id-1 div.sk-label label {font-family: monospace;font-weight: bold;display: inline-block;line-height: 1.2em;}#sk-container-id-1 div.sk-label-container {text-align: center;}#sk-container-id-1 div.sk-container {/* jupyter's `normalize.less` sets `[hidden] { display: none; }` but bootstrap.min.css set `[hidden] { display: none !important; }` so we also need the `!important` here to be able to override the default hidden behavior on the sphinx rendered scikit-learn.org. See: https://github.com/scikit-learn/scikit-learn/issues/21755 */display: inline-block !important;position: relative;}#sk-container-id-1 div.sk-text-repr-fallback {display: none;}</style><div id=\"sk-container-id-1\" class=\"sk-top-container\"><div class=\"sk-text-repr-fallback\"><pre>OneHotEncoder(handle_unknown=&#x27;ignore&#x27;, sparse=False, sparse_output=False)</pre><b>In a Jupyter environment, please rerun this cell to show the HTML representation or trust the notebook. <br />On GitHub, the HTML representation is unable to render, please try loading this page with nbviewer.org.</b></div><div class=\"sk-container\" hidden><div class=\"sk-item\"><div class=\"sk-estimator sk-toggleable\"><input class=\"sk-toggleable__control sk-hidden--visually\" id=\"sk-estimator-id-1\" type=\"checkbox\" checked><label for=\"sk-estimator-id-1\" class=\"sk-toggleable__label sk-toggleable__label-arrow\">OneHotEncoder</label><div class=\"sk-toggleable__content\"><pre>OneHotEncoder(handle_unknown=&#x27;ignore&#x27;, sparse=False, sparse_output=False)</pre></div></div></div></div></div>"
            ]
          },
          "metadata": {},
          "execution_count": 25
        }
      ],
      "source": [
        "# Imported OneHotEncoder to perfrom the encoding\n",
        "from sklearn.preprocessing import OneHotEncoder\n",
        "# Creating a object of the encoder function\n",
        "encoder = OneHotEncoder(sparse=False, handle_unknown='ignore')\n",
        "# Fit the encoder object to the dataset which i want to convert into numerical form.\n",
        "encoder.fit(df[cat_cols])"
      ]
    },
    {
      "cell_type": "code",
      "execution_count": 26,
      "metadata": {
        "id": "vv6dMsDNGZFT",
        "colab": {
          "base_uri": "https://localhost:8080/"
        },
        "outputId": "56cc09a7-b8d7-4cf5-90e5-c25648fd7d98"
      },
      "outputs": [
        {
          "output_type": "stream",
          "name": "stdout",
          "text": [
            "['Store_1', 'Store_2', 'Store_3', 'Store_4', 'Store_5', 'Store_6', 'Store_7', 'Store_8', 'Store_9', 'Store_10', 'Store_11', 'Store_12', 'Store_13', 'Store_14', 'Store_15', 'Store_16', 'Store_17', 'Store_18', 'Store_19', 'Store_20', 'Store_21', 'Store_22', 'Store_23', 'Store_24', 'Store_25', 'Store_26', 'Store_27', 'Store_28', 'Store_29', 'Store_30', 'Store_31', 'Store_32', 'Store_33', 'Store_34', 'Store_35', 'Store_36', 'Store_37', 'Store_38', 'Store_39', 'Store_40', 'Store_41', 'Store_42', 'Store_43', 'Store_44', 'Store_45', 'Holiday_Flag_0', 'Holiday_Flag_1', 'weekday_0', 'weekday_1', 'weekday_2', 'weekday_3', 'weekday_4', 'weekday_5', 'weekday_6', 'month_1', 'month_2', 'month_3', 'month_4', 'month_5', 'month_6', 'month_7', 'month_8', 'month_9', 'month_10', 'month_11', 'month_12', 'year_2010', 'year_2011', 'year_2012']\n"
          ]
        }
      ],
      "source": [
        "# Creating a list of the encoded columns\n",
        "encoded_cols = list(encoder.get_feature_names_out(cat_cols))\n",
        "print(encoded_cols)"
      ]
    },
    {
      "cell_type": "code",
      "execution_count": 27,
      "metadata": {
        "id": "ldtCeFZRGm7A"
      },
      "outputs": [],
      "source": [
        "# Now i added those encoded columns into the original dataset by transforming it into a categorical form.\n",
        "df[encoded_cols] = encoder.transform(df[cat_cols])"
      ]
    },
    {
      "cell_type": "code",
      "execution_count": 28,
      "metadata": {
        "colab": {
          "base_uri": "https://localhost:8080/"
        },
        "id": "YIJJkqjtD-j3",
        "outputId": "5181cf99-27f6-42da-92ec-79106bbe48e4"
      },
      "outputs": [
        {
          "output_type": "execute_result",
          "data": {
            "text/plain": [
              "(5951, 79)"
            ]
          },
          "metadata": {},
          "execution_count": 28
        }
      ],
      "source": [
        "df.shape"
      ]
    },
    {
      "cell_type": "markdown",
      "metadata": {
        "id": "QIAMnLaPA_LV"
      },
      "source": [
        "## Train-Test-Split"
      ]
    },
    {
      "cell_type": "markdown",
      "metadata": {
        "id": "8NQdM-2pZAAs"
      },
      "source": [
        "Split the dataset into the two part:\n",
        "1. Training dataset (used to train the model)\n",
        "2. Testing dataset (used to test the model)"
      ]
    },
    {
      "cell_type": "code",
      "execution_count": 33,
      "metadata": {
        "id": "gOh0w-0aA7vG"
      },
      "outputs": [],
      "source": [
        "# Drop the sales columns to get the input  features\n",
        "scaled_df = df\n",
        "X = scaled_df.drop('Weekly_Sales', axis=1)\n",
        "# Use the sales column as a target columns\n",
        "y = scaled_df['Weekly_Sales']"
      ]
    },
    {
      "cell_type": "code",
      "execution_count": 34,
      "metadata": {
        "id": "eMBXWBsOBNzU"
      },
      "outputs": [],
      "source": [
        "# Importing train test split\n",
        "from sklearn.model_selection import train_test_split\n",
        "# dividing the dataset into the train and the test parts and each part has input feature and target features\n",
        "X_train, X_test, y_train, y_test = train_test_split(X, y, test_size=0.2, random_state = 42)"
      ]
    },
    {
      "cell_type": "code",
      "execution_count": 35,
      "metadata": {
        "colab": {
          "base_uri": "https://localhost:8080/"
        },
        "id": "oX6elOYdBQS_",
        "outputId": "bf22099a-0cf3-4c13-cf5e-a06c14e2798f"
      },
      "outputs": [
        {
          "output_type": "execute_result",
          "data": {
            "text/plain": [
              "((4760, 78), (1191, 78), (4760,), (1191,))"
            ]
          },
          "metadata": {},
          "execution_count": 35
        }
      ],
      "source": [
        "# Printin the shape of all the dataset\n",
        "X_train.shape, X_test.shape, y_train.shape, y_test.shape"
      ]
    },
    {
      "cell_type": "markdown",
      "metadata": {
        "id": "2JEIeQ5jHKpw"
      },
      "source": [
        "## Feature Selection"
      ]
    },
    {
      "cell_type": "markdown",
      "metadata": {
        "id": "xdzuhZ7bZAAt"
      },
      "source": [
        "Out of all the 78 features all are not important and we have to choose the important feature out of all the features"
      ]
    },
    {
      "cell_type": "code",
      "execution_count": 36,
      "metadata": {
        "id": "kGByOHPPFS2F"
      },
      "outputs": [],
      "source": [
        "# import a linear regerssion model\n",
        "from sklearn.linear_model import LinearRegression\n",
        "# import a Random Forest Regressor model\n",
        "from sklearn.ensemble import RandomForestRegressor\n",
        "# import a mean squared error for model evaluation\n",
        "from sklearn.metrics import mean_squared_error\n",
        "# import a r2 score for model evaluation\n",
        "from sklearn.metrics import r2_score\n",
        "# import a RFE model for feature selection\n",
        "from sklearn.feature_selection import RFE"
      ]
    },
    {
      "cell_type": "code",
      "execution_count": 37,
      "metadata": {
        "id": "APc3ReipKEUV"
      },
      "outputs": [],
      "source": [
        "# Creatint a list to store training and test error\n",
        "Trr=[]; Tss=[]; n=3\n",
        "order=['ord-'+str(i) for i in range(2,n)]\n",
        "Trd = pd.DataFrame(np.zeros((10,n-2)), columns=order)\n",
        "Tsd = pd.DataFrame(np.zeros((10,n-2)), columns=order)\n",
        "\n",
        "m=df.shape[1]-2\n",
        "for i in range(m):\n",
        "    # creating a linear regression model object\n",
        "    lm = LinearRegression()\n",
        "    # creating a rfe model object with linear regression model and with a parameter of the number of features\n",
        "    rfe = RFE(lm, n_features_to_select=X_train.shape[1]-i)\n",
        "    # fitting the rfe model to the trainig dataset\n",
        "    rfe = rfe.fit(X_train, y_train)\n",
        "    # creating a linear regression model object for prediction\n",
        "    LR = LinearRegression()\n",
        "    # fitted the lr model using the selected features\n",
        "    LR.fit(X_train.loc[:,rfe.support_], y_train)\n",
        "    # Made the prediction using the linear regression model\n",
        "    pred1 = LR.predict(X_train.loc[:,rfe.support_]) # make the prediction on the trainig dataset\n",
        "    pred2 = LR.predict(X_test.loc[:,rfe.support_]) # make the prediction on the test dataset\n",
        "    # Insert the mse into the Trr and Tss for train and test respectively\n",
        "    Trr.append(np.sqrt(mean_squared_error(y_train, pred1)))\n",
        "    Tss.append(np.sqrt(mean_squared_error(y_test, pred2)))"
      ]
    },
    {
      "cell_type": "code",
      "execution_count": 38,
      "metadata": {
        "colab": {
          "base_uri": "https://localhost:8080/",
          "height": 527
        },
        "id": "NjmxXDHsqtjJ",
        "outputId": "6976126e-9c53-445f-dddf-e34ee1917775"
      },
      "outputs": [
        {
          "output_type": "display_data",
          "data": {
            "text/plain": [
              "<Figure size 1000x600 with 1 Axes>"
            ],
            "image/png": "[encoded data removed]"
          },
          "metadata": {
            "needs_background": "light"
          }
        }
      ],
      "source": [
        "plt.plot(Trr, label= 'Train RMSE')\n",
        "plt.plot(Tss, label= 'Test RMSE')\n",
        "plt.legend()\n",
        "plt.show()"
      ]
    },
    {
      "cell_type": "markdown",
      "metadata": {
        "id": "RSaCDr3kr1uk"
      },
      "source": [
        "If we Recursively Eleminate at most **Ten** features then the score is maximum."
      ]
    },
    {
      "cell_type": "code",
      "execution_count": 39,
      "metadata": {
        "colab": {
          "base_uri": "https://localhost:8080/"
        },
        "id": "Y-JxFYhZq5iy",
        "outputId": "2fcfad91-1e5d-439f-fe59-20f5eb1389b0"
      },
      "outputs": [
        {
          "output_type": "stream",
          "name": "stdout",
          "text": [
            "MSE train 148719.01325609005\n",
            "MSE test 166527.48688591953\n",
            "r2_score train - 0.9312722139351031\n",
            "r2_score test - 0.9207696788287851\n"
          ]
        }
      ],
      "source": [
        "# Eleminating 10 features and using Linear Regresion model the error printed as follows which is the best possible score.\n",
        "\n",
        "# creating a linear regression model object\n",
        "lm = LinearRegression()\n",
        "# creating a rfe model object with linear regression model and with number of features equal to 10.\n",
        "rfe = RFE(lm,n_features_to_select=X_train.shape[1]-9)\n",
        "# fitting the rfe model to the trainig dataset\n",
        "rfe = rfe.fit(X_train, y_train)\n",
        "# creating a linear regression model object for prediction\n",
        "LR = LinearRegression()\n",
        "# fitted the lr model using the selected features\n",
        "LR.fit(X_train.loc[:,rfe.support_], y_train)\n",
        "# Made the prediction using the linear regression model\n",
        "pred1 = LR.predict(X_train.loc[:,rfe.support_])\n",
        "pred2 = LR.predict(X_test.loc[:,rfe.support_])\n",
        "# Printing the results as a MSE and r2_score.\n",
        "print(\"MSE train\",np.sqrt(mean_squared_error(y_train, pred1)))\n",
        "print(\"MSE test\",np.sqrt(mean_squared_error(y_test, pred2)))\n",
        "print(\"r2_score train - {}\".format(r2_score(y_train, pred1)))\n",
        "print(\"r2_score test - {}\".format(r2_score(y_test, pred2)))"
      ]
    },
    {
      "cell_type": "markdown",
      "metadata": {
        "id": "JJxwPp3IZAAu"
      },
      "source": [
        "Now Removing the 10 features and create the New training and test dataset"
      ]
    },
    {
      "cell_type": "code",
      "execution_count": 40,
      "metadata": {
        "id": "0uSp1k6cv3V9"
      },
      "outputs": [],
      "source": [
        "X_train = X_train.loc[:,rfe.support_]\n",
        "X_test = X_test.loc[:,rfe.support_]"
      ]
    },
    {
      "cell_type": "markdown",
      "metadata": {
        "id": "HV95maEYZAAv"
      },
      "source": [
        "Now onwards I am going to use various models to predict the output using the Newly created training and test dataset."
      ]
    },
    {
      "cell_type": "markdown",
      "metadata": {
        "id": "AkQofSuyBdSD"
      },
      "source": [
        "## Models"
      ]
    },
    {
      "cell_type": "markdown",
      "metadata": {
        "id": "sAqVYIq7ZAAv"
      },
      "source": [
        "### Linear Regression"
      ]
    },
    {
      "cell_type": "code",
      "execution_count": 41,
      "metadata": {
        "colab": {
          "base_uri": "https://localhost:8080/"
        },
        "id": "sD6R7U2yv2jB",
        "outputId": "6baa42f9-d399-48c7-ab97-2a9039bfc6ef"
      },
      "outputs": [
        {
          "output_type": "stream",
          "name": "stdout",
          "text": [
            "Root Mean Squared Error train 22117344903.865086\n",
            "Root Mean Squared Error test 166527.48688591953\n",
            "r2_score train 0.9312722139351031\n",
            "r2_score test 0.9207696788287851\n"
          ]
        }
      ],
      "source": [
        "# Creating an object for linear regression model\n",
        "lr =LinearRegression()\n",
        "# fit the model into traning dataset\n",
        "lr.fit(X_train, y_train)\n",
        "#predict the training and test output\n",
        "pred1 = lr.predict(X_train)\n",
        "pred2 = lr.predict(X_test)\n",
        "# calculating and printing the training and test scores\n",
        "print(\"Root Mean Squared Error train {}\".format(np.mean(mean_squared_error(y_train, pred1))))\n",
        "print(\"Root Mean Squared Error test {}\".format(np.sqrt(mean_squared_error(y_test, pred2))))\n",
        "print(\"r2_score train {}\".format(r2_score(y_train, pred1)))\n",
        "print(\"r2_score test {}\".format(r2_score(y_test, pred2)))"
      ]
    },
    {
      "cell_type": "markdown",
      "metadata": {
        "id": "x6zJIryQclSZ"
      },
      "source": [
        "### Ridge Regression"
      ]
    },
    {
      "cell_type": "code",
      "execution_count": 42,
      "metadata": {
        "colab": {
          "base_uri": "https://localhost:8080/"
        },
        "id": "r1DrhBkty16r",
        "outputId": "f7526a36-9e23-4746-b843-a40f93ecbf0e"
      },
      "outputs": [
        {
          "output_type": "stream",
          "name": "stdout",
          "text": [
            "Root Mean Squared Error train 22554465364.487648\n",
            "Root Mean Squared Error test 168143.34531448942\n",
            "r2_score train 0.9299138989279068\n",
            "r2_score test 0.9192246352554937\n"
          ]
        }
      ],
      "source": [
        "# import ridge regression mode\n",
        "from sklearn.linear_model import Ridge\n",
        "# Create an object of the model\n",
        "rr = Ridge()\n",
        "# fit the model into traning dataset\n",
        "rr.fit(X_train, y_train)\n",
        "#predict the training and test output\n",
        "predrr1 = rr.predict(X_train)\n",
        "predrr2 = rr.predict(X_test)\n",
        "# calculating and printing the training and test scores\n",
        "print(\"Root Mean Squared Error train {}\".format(np.mean(mean_squared_error(y_train, predrr1))))\n",
        "print(\"Root Mean Squared Error test {}\".format(np.sqrt(mean_squared_error(y_test, predrr2))))\n",
        "print(\"r2_score train {}\".format(r2_score(y_train, predrr1)))\n",
        "print(\"r2_score test {}\".format(r2_score(y_test, predrr2)))"
      ]
    },
    {
      "cell_type": "markdown",
      "metadata": {
        "id": "2Y0ahAqDu3XD"
      },
      "source": [
        "### Lasso Regression"
      ]
    },
    {
      "cell_type": "code",
      "execution_count": 43,
      "metadata": {
        "colab": {
          "base_uri": "https://localhost:8080/"
        },
        "id": "uUlDM-7ruZDH",
        "outputId": "2d1a7e88-8eb9-4425-940a-b529d75f8c54"
      },
      "outputs": [
        {
          "output_type": "stream",
          "name": "stdout",
          "text": [
            "Root Mean Squared Error train 21741633453.982773\n",
            "Root Mean Squared Error test 165013.77961263063\n",
            "r2_score train 0.9324397056146821\n",
            "r2_score test 0.9222035134089887\n"
          ]
        },
        {
          "output_type": "stream",
          "name": "stderr",
          "text": [
            "/usr/local/lib/python3.10/dist-packages/sklearn/linear_model/_coordinate_descent.py:631: ConvergenceWarning: Objective did not converge. You might want to increase the number of iterations, check the scale of the features or consider increasing regularisation. Duality gap: 3.384e+13, tolerance: 1.532e+11\n",
            "  model = cd_fast.enet_coordinate_descent(\n"
          ]
        }
      ],
      "source": [
        "from sklearn.linear_model import Lasso\n",
        "# Create an object of the model\n",
        "lr = Lasso()\n",
        "# fit the model into traning dataset\n",
        "lr.fit(X_train, y_train)\n",
        "#predict the training and test output\n",
        "predlr1 = lr.predict(X_train)\n",
        "predlr2 = lr.predict(X_test)\n",
        "# calculating and printing the training and test scores\n",
        "print(\"Root Mean Squared Error train {}\".format(np.mean(mean_squared_error(y_train, predlr1))))\n",
        "print(\"Root Mean Squared Error test {}\".format(np.sqrt(mean_squared_error(y_test, predlr2))))\n",
        "print(\"r2_score train {}\".format(r2_score(y_train, predlr1)))\n",
        "print(\"r2_score test {}\".format(r2_score(y_test, predlr2)))"
      ]
    },
    {
      "cell_type": "markdown",
      "metadata": {
        "id": "tLMigwXou6xO"
      },
      "source": [
        "### ElasticNet Regression"
      ]
    },
    {
      "cell_type": "code",
      "execution_count": 44,
      "metadata": {
        "colab": {
          "base_uri": "https://localhost:8080/"
        },
        "id": "NOSOCAYQu_Nr",
        "outputId": "c55e671d-fc4f-4f2f-ef1c-04bebb6da0fa"
      },
      "outputs": [
        {
          "output_type": "stream",
          "name": "stdout",
          "text": [
            "Root Mean Squared Error train 296094303655.7491\n",
            "Root Mean Squared Error test 568458.948521217\n",
            "r2_score train 0.07991189516013131\n",
            "r2_score test 0.0767532762988985\n"
          ]
        }
      ],
      "source": [
        "from sklearn.linear_model import ElasticNet\n",
        "# Create an object of the model\n",
        "en = ElasticNet()\n",
        "# fit the model into traning dataset\n",
        "en.fit(X_train, y_train)\n",
        "#predict the training and test output\n",
        "predlr1 = en.predict(X_train)\n",
        "predlr2 = en.predict(X_test)\n",
        "# calculating and printing the training and test scores\n",
        "print(\"Root Mean Squared Error train {}\".format(np.mean(mean_squared_error(y_train, predlr1))))\n",
        "print(\"Root Mean Squared Error test {}\".format(np.sqrt(mean_squared_error(y_test, predlr2))))\n",
        "print(\"r2_score train {}\".format(r2_score(y_train, predlr1)))\n",
        "print(\"r2_score test {}\".format(r2_score(y_test, predlr2)))"
      ]
    },
    {
      "cell_type": "markdown",
      "metadata": {
        "id": "CETh_HMie4MC"
      },
      "source": [
        "### Polynomial Regression"
      ]
    },
    {
      "cell_type": "code",
      "execution_count": 45,
      "metadata": {
        "id": "zB8BwPRDfjH6"
      },
      "outputs": [],
      "source": [
        "# Import the polynomial regression model\n",
        "from sklearn.preprocessing import PolynomialFeatures"
      ]
    },
    {
      "cell_type": "markdown",
      "metadata": {
        "id": "6POSWsSCZAAx"
      },
      "source": [
        "To check which degree of freedom is best for the polynomial model, I explore degrees of 2 and 3."
      ]
    },
    {
      "cell_type": "code",
      "execution_count": 46,
      "metadata": {
        "id": "mQCHSdJ2hXwM"
      },
      "outputs": [],
      "source": [
        "# Creating a list to store the training and test error\n",
        "Trr = []\n",
        "Tss = []\n",
        "# initialize the for loop from 2 to 3\n",
        "for i in range(2,4):\n",
        "      # creating an model object with i degree\n",
        "      poly_reg = PolynomialFeatures(degree = i)\n",
        "      # fit and transform the features in the training dataset into a polynomial combination of features\n",
        "      pl_X_train = poly_reg.fit_transform(X_train)\n",
        "      # fit and transform the features in the testing dataset into a polynomial combination of features\n",
        "      pl_X_test = poly_reg.fit_transform(X_test)\n",
        "      # Create a linear regression object\n",
        "      lr = LinearRegression()\n",
        "      # fit the model to the polynomial combination of train features\n",
        "      lr.fit(pl_X_train, y_train)\n",
        "      # Predict the training output\n",
        "      pred_poly_train = lr.predict(pl_X_train)\n",
        "      # insert the error into the training dataset\n",
        "      Trr.append(np.sqrt(mean_squared_error(y_train, pred_poly_train)))\n",
        "      # Predict the testing output\n",
        "      pred_poly_test = lr.predict(pl_X_test)\n",
        "      # insert the error into the testing dataset\n",
        "      Tss.append(np.sqrt(mean_squared_error(y_test, pred_poly_test)))"
      ]
    },
    {
      "cell_type": "code",
      "execution_count": 47,
      "metadata": {
        "colab": {
          "base_uri": "https://localhost:8080/",
          "height": 595
        },
        "id": "imp9hsFDlGZ8",
        "outputId": "289a82a7-e9ea-42d5-c27e-cecc3432801a"
      },
      "outputs": [
        {
          "output_type": "execute_result",
          "data": {
            "text/plain": [
              "<matplotlib.legend.Legend at 0x7c7769cc7100>"
            ]
          },
          "metadata": {},
          "execution_count": 47
        },
        {
          "output_type": "display_data",
          "data": {
            "text/plain": [
              "<Figure size 1500x600 with 1 Axes>"
            ],
            "image/png": "[encoded data removed]"
          },
          "metadata": {
            "needs_background": "light"
          }
        }
      ],
      "source": [
        "# plot the trainig and test error vs the degree of polynomial\n",
        "plt.figure(figsize=[15,6])\n",
        "plt.subplot(1,2,1)\n",
        "plt.plot(range(2,4), Trr, label= 'Training')\n",
        "plt.plot(range(2,4), Tss, label= 'Testing')\n",
        "plt.title('Polynomial Feature on training data')\n",
        "plt.xlabel('Degree')\n",
        "plt.ylabel('RMSE')\n",
        "plt.legend()"
      ]
    },
    {
      "cell_type": "markdown",
      "metadata": {
        "id": "gRYxfuQqpcvD"
      },
      "source": [
        "It is clear that in between 2-4 degree polynomial regression 2 has Bais-variance tradeoff"
      ]
    },
    {
      "cell_type": "code",
      "execution_count": 70,
      "metadata": {
        "colab": {
          "base_uri": "https://localhost:8080/"
        },
        "id": "mHBnSFZzlTai",
        "outputId": "d26d2a0a-ee12-4273-ff08-818e8cbe527c"
      },
      "outputs": [
        {
          "output_type": "stream",
          "name": "stdout",
          "text": [
            "r2_score train 0.9863254430488209\n",
            "r2_score test 0.8291695579933587\n",
            "Root Mean Squared Error train 4341376950.396851\n",
            "Root Mean Squared Error test 257963.349362203\n"
          ]
        }
      ],
      "source": [
        "#  Now Creating a model with the polynomial of degree 3\n",
        "\n",
        "# Creating and polynomial object\n",
        "poly_reg = PolynomialFeatures(degree = 3)\n",
        "# transform the training features into a polynomial combination of train features\n",
        "pl_X_train = poly_reg.fit_transform(X_train)\n",
        "# transform the training features into a polynomial combination of train features\n",
        "pl_X_test = poly_reg.fit_transform(X_test)\n",
        "# Create an object of the model\n",
        "lr = LinearRegression()\n",
        "# fit the model into traning dataset\n",
        "lr.fit(pl_X_train, y_train)\n",
        "#predict the training and test output\n",
        "pred_poly_train = lr.predict(pl_X_train)\n",
        "pred_poly_test = lr.predict(pl_X_test)\n",
        "# calculating and printing the training and test scores\n",
        "print(\"r2_score train {}\".format(r2_score(pred_poly_train, y_train)))\n",
        "print(\"r2_score test {}\".format(r2_score(pred_poly_test, y_test)))\n",
        "print(\"Root Mean Squared Error train {}\".format(np.mean(mean_squared_error(y_train, pred_poly_train))))\n",
        "print(\"Root Mean Squared Error test {}\".format(np.sqrt(mean_squared_error(y_test, pred_poly_test))))"
      ]
    },
    {
      "cell_type": "markdown",
      "metadata": {
        "id": "U1dNQB1KvuP-"
      },
      "source": [
        "It is clear that Linear Regression is the Best Model in the dataset, with test accuracy of 92%(approx).\n",
        "\n",
        "To improve the accuracy further we can apply other regressor i.e. Random Forest, G"
      ]
    },
    {
      "cell_type": "markdown",
      "metadata": {
        "id": "hC-CZ3klm8A9"
      },
      "source": [
        "Now I am going to imporve the accuracy till 98% - 99%. For this I have to use Decision Tree or Random Forest etc."
      ]
    },
    {
      "cell_type": "markdown",
      "metadata": {
        "id": "a_LqH0uUt-7V"
      },
      "source": [
        "### Decision Tree Regressor"
      ]
    },
    {
      "cell_type": "code",
      "execution_count": 53,
      "metadata": {
        "colab": {
          "base_uri": "https://localhost:8080/",
          "height": 75
        },
        "id": "4zzf04E_ndeG",
        "outputId": "5d27e7b9-f622-48ea-8931-bc80416aff8d"
      },
      "outputs": [
        {
          "output_type": "execute_result",
          "data": {
            "text/plain": [
              "DecisionTreeRegressor()"
            ],
            "text/html": [
              "<style>#sk-container-id-2 {color: black;background-color: white;}#sk-container-id-2 pre{padding: 0;}#sk-container-id-2 div.sk-toggleable {background-color: white;}#sk-container-id-2 label.sk-toggleable__label {cursor: pointer;display: block;width: 100%;margin-bottom: 0;padding: 0.3em;box-sizing: border-box;text-align: center;}#sk-container-id-2 label.sk-toggleable__label-arrow:before {content: \"▸\";float: left;margin-right: 0.25em;color: #696969;}#sk-container-id-2 label.sk-toggleable__label-arrow:hover:before {color: black;}#sk-container-id-2 div.sk-estimator:hover label.sk-toggleable__label-arrow:before {color: black;}#sk-container-id-2 div.sk-toggleable__content {max-height: 0;max-width: 0;overflow: hidden;text-align: left;background-color: #f0f8ff;}#sk-container-id-2 div.sk-toggleable__content pre {margin: 0.2em;color: black;border-radius: 0.25em;background-color: #f0f8ff;}#sk-container-id-2 input.sk-toggleable__control:checked~div.sk-toggleable__content {max-height: 200px;max-width: 100%;overflow: auto;}#sk-container-id-2 input.sk-toggleable__control:checked~label.sk-toggleable__label-arrow:before {content: \"▾\";}#sk-container-id-2 div.sk-estimator input.sk-toggleable__control:checked~label.sk-toggleable__label {background-color: #d4ebff;}#sk-container-id-2 div.sk-label input.sk-toggleable__control:checked~label.sk-toggleable__label {background-color: #d4ebff;}#sk-container-id-2 input.sk-hidden--visually {border: 0;clip: rect(1px 1px 1px 1px);clip: rect(1px, 1px, 1px, 1px);height: 1px;margin: -1px;overflow: hidden;padding: 0;position: absolute;width: 1px;}#sk-container-id-2 div.sk-estimator {font-family: monospace;background-color: #f0f8ff;border: 1px dotted black;border-radius: 0.25em;box-sizing: border-box;margin-bottom: 0.5em;}#sk-container-id-2 div.sk-estimator:hover {background-color: #d4ebff;}#sk-container-id-2 div.sk-parallel-item::after {content: \"\";width: 100%;border-bottom: 1px solid gray;flex-grow: 1;}#sk-container-id-2 div.sk-label:hover label.sk-toggleable__label {background-color: #d4ebff;}#sk-container-id-2 div.sk-serial::before {content: \"\";position: absolute;border-left: 1px solid gray;box-sizing: border-box;top: 0;bottom: 0;left: 50%;z-index: 0;}#sk-container-id-2 div.sk-serial {display: flex;flex-direction: column;align-items: center;background-color: white;padding-right: 0.2em;padding-left: 0.2em;position: relative;}#sk-container-id-2 div.sk-item {position: relative;z-index: 1;}#sk-container-id-2 div.sk-parallel {display: flex;align-items: stretch;justify-content: center;background-color: white;position: relative;}#sk-container-id-2 div.sk-item::before, #sk-container-id-2 div.sk-parallel-item::before {content: \"\";position: absolute;border-left: 1px solid gray;box-sizing: border-box;top: 0;bottom: 0;left: 50%;z-index: -1;}#sk-container-id-2 div.sk-parallel-item {display: flex;flex-direction: column;z-index: 1;position: relative;background-color: white;}#sk-container-id-2 div.sk-parallel-item:first-child::after {align-self: flex-end;width: 50%;}#sk-container-id-2 div.sk-parallel-item:last-child::after {align-self: flex-start;width: 50%;}#sk-container-id-2 div.sk-parallel-item:only-child::after {width: 0;}#sk-container-id-2 div.sk-dashed-wrapped {border: 1px dashed gray;margin: 0 0.4em 0.5em 0.4em;box-sizing: border-box;padding-bottom: 0.4em;background-color: white;}#sk-container-id-2 div.sk-label label {font-family: monospace;font-weight: bold;display: inline-block;line-height: 1.2em;}#sk-container-id-2 div.sk-label-container {text-align: center;}#sk-container-id-2 div.sk-container {/* jupyter's `normalize.less` sets `[hidden] { display: none; }` but bootstrap.min.css set `[hidden] { display: none !important; }` so we also need the `!important` here to be able to override the default hidden behavior on the sphinx rendered scikit-learn.org. See: https://github.com/scikit-learn/scikit-learn/issues/21755 */display: inline-block !important;position: relative;}#sk-container-id-2 div.sk-text-repr-fallback {display: none;}</style><div id=\"sk-container-id-2\" class=\"sk-top-container\"><div class=\"sk-text-repr-fallback\"><pre>DecisionTreeRegressor()</pre><b>In a Jupyter environment, please rerun this cell to show the HTML representation or trust the notebook. <br />On GitHub, the HTML representation is unable to render, please try loading this page with nbviewer.org.</b></div><div class=\"sk-container\" hidden><div class=\"sk-item\"><div class=\"sk-estimator sk-toggleable\"><input class=\"sk-toggleable__control sk-hidden--visually\" id=\"sk-estimator-id-2\" type=\"checkbox\" checked><label for=\"sk-estimator-id-2\" class=\"sk-toggleable__label sk-toggleable__label-arrow\">DecisionTreeRegressor</label><div class=\"sk-toggleable__content\"><pre>DecisionTreeRegressor()</pre></div></div></div></div></div>"
            ]
          },
          "metadata": {},
          "execution_count": 53
        }
      ],
      "source": [
        "# Importing a Decision Tree Regressor\n",
        "from sklearn.tree import DecisionTreeRegressor\n",
        "# Create an object of the model\n",
        "dt = DecisionTreeRegressor()\n",
        "# fit the model into traning dataset\n",
        "dt.fit(X_train, y_train)"
      ]
    },
    {
      "cell_type": "code",
      "execution_count": 54,
      "metadata": {
        "colab": {
          "base_uri": "https://localhost:8080/"
        },
        "id": "TLXmPbdkqyA2",
        "outputId": "46332a7d-51cc-4fd9-bc5b-51a495fe2193"
      },
      "outputs": [
        {
          "output_type": "stream",
          "name": "stdout",
          "text": [
            "RMSE for train 65278.08065420526\n",
            "RMSE for test 200933.6235533765\n",
            "Accuracy Score train:  0.9867585935454614\n",
            "Accuracy Score test:  0.8846480892693763\n"
          ]
        }
      ],
      "source": [
        "#predict the training and test output\n",
        "pred_dt1 = dt.predict(X_train)\n",
        "pred_dt2 = dt.predict(X_test)\n",
        "# calculating and printing the training and test scores\n",
        "print(\"RMSE for train {}\".format(np.sqrt(mean_squared_error(y_train, pred_dt1))))\n",
        "print(\"RMSE for test {}\".format(np.sqrt(mean_squared_error(y_test, pred_dt2))))\n",
        "print('Accuracy Score train: ', dt.score(X_train, y_train))\n",
        "print('Accuracy Score test: ', dt.score(X_test, y_test))"
      ]
    },
    {
      "cell_type": "markdown",
      "metadata": {
        "id": "yhG77BTXZAAz"
      },
      "source": [
        "Now iterate over the depth of 1 to 40 and check at which depth, the accuracy will be maximum."
      ]
    },
    {
      "cell_type": "code",
      "execution_count": 55,
      "metadata": {
        "id": "xPOkbi7Z6FkT",
        "colab": {
          "base_uri": "https://localhost:8080/"
        },
        "outputId": "c98435c6-7d35-4910-e663-977e6daf2f33"
      },
      "outputs": [
        {
          "output_type": "stream",
          "name": "stdout",
          "text": [
            "for max_depth:  1\n",
            "RMSE for train 545014.3239274116\n",
            "RMSE for test 558419.0260905873\n",
            "Accuracy Score train:  0.07697131770359622\n",
            "Accuracy Score test:  0.10907740358184459\n",
            "\n",
            "for max_depth:  2\n",
            "RMSE for train 522499.6244356323\n",
            "RMSE for test 534165.2146014472\n",
            "Accuracy Score train:  0.15165729644717907\n",
            "Accuracy Score test:  0.18478762042625152\n",
            "\n",
            "for max_depth:  3\n",
            "RMSE for train 497350.2355445843\n",
            "RMSE for test 507496.1323561573\n",
            "Accuracy Score train:  0.23135816253777286\n",
            "Accuracy Score test:  0.26415721832287775\n",
            "\n",
            "for max_depth:  4\n",
            "RMSE for train 470553.43378906447\n",
            "RMSE for test 475829.85282848193\n",
            "Accuracy Score train:  0.3119543434912492\n",
            "Accuracy Score test:  0.3531211806084815\n",
            "\n",
            "for max_depth:  5\n",
            "RMSE for train 445033.3715870494\n",
            "RMSE for test 448281.1327366809\n",
            "Accuracy Score train:  0.3845616987292646\n",
            "Accuracy Score test:  0.4258564614064363\n",
            "\n",
            "for max_depth:  6\n",
            "RMSE for train 417001.54229204264\n",
            "RMSE for test 417272.3310640809\n",
            "Accuracy Score train:  0.4596505843831783\n",
            "Accuracy Score test:  0.5025393461643402\n",
            "\n",
            "for max_depth:  7\n",
            "RMSE for train 390861.8950323349\n",
            "RMSE for test 396042.1214963081\n",
            "Accuracy Score train:  0.5252707072839098\n",
            "Accuracy Score test:  0.5518717560548778\n",
            "\n",
            "for max_depth:  8\n",
            "RMSE for train 373869.3479263996\n",
            "RMSE for test 380074.4951038567\n",
            "Accuracy Score train:  0.5656507412357348\n",
            "Accuracy Score test:  0.5872785745439053\n",
            "\n",
            "for max_depth:  9\n",
            "RMSE for train 355476.8012645833\n",
            "RMSE for test 364809.1120043676\n",
            "Accuracy Score train:  0.6073352727109544\n",
            "Accuracy Score test:  0.6197660290884972\n",
            "\n",
            "for max_depth:  10\n",
            "RMSE for train 339668.31892363046\n",
            "RMSE for test 356769.80312769156\n",
            "Accuracy Score train:  0.641483252879014\n",
            "Accuracy Score test:  0.6363398296945849\n",
            "\n",
            "for max_depth:  11\n",
            "RMSE for train 322538.3083807466\n",
            "RMSE for test 338813.7080334673\n",
            "Accuracy Score train:  0.6767325544848891\n",
            "Accuracy Score test:  0.6720244216884559\n",
            "\n",
            "for max_depth:  12\n",
            "RMSE for train 305887.80231393996\n",
            "RMSE for test 324206.1781907913\n",
            "Accuracy Score train:  0.7092473496809808\n",
            "Accuracy Score test:  0.6996952969842924\n",
            "\n",
            "for max_depth:  13\n",
            "RMSE for train 290004.8533432932\n",
            "RMSE for test 314000.7278210331\n",
            "Accuracy Score train:  0.7386575875479727\n",
            "Accuracy Score test:  0.7183038770208945\n",
            "\n",
            "for max_depth:  14\n",
            "RMSE for train 272688.9014712204\n",
            "RMSE for test 298179.31686276227\n",
            "Accuracy Score train:  0.76893493528688\n",
            "Accuracy Score test:  0.7459760931158519\n",
            "\n",
            "for max_depth:  15\n",
            "RMSE for train 254282.8199293165\n",
            "RMSE for test 293406.0836575085\n",
            "Accuracy Score train:  0.7990752661806751\n",
            "Accuracy Score test:  0.7540437916429569\n",
            "\n",
            "for max_depth:  16\n",
            "RMSE for train 236156.66241230344\n",
            "RMSE for test 283058.3911076631\n",
            "Accuracy Score train:  0.8266995189159532\n",
            "Accuracy Score test:  0.7710863827922111\n",
            "\n",
            "for max_depth:  17\n",
            "RMSE for train 221174.9292630842\n",
            "RMSE for test 270593.7840239932\n",
            "Accuracy Score train:  0.8479903504545899\n",
            "Accuracy Score test:  0.7908031252545381\n",
            "\n",
            "for max_depth:  18\n",
            "RMSE for train 209582.6124755028\n",
            "RMSE for test 264592.68953981646\n",
            "Accuracy Score train:  0.8635071623105403\n",
            "Accuracy Score test:  0.799979162196369\n",
            "\n",
            "for max_depth:  19\n",
            "RMSE for train 199499.01442070844\n",
            "RMSE for test 256262.9605767429\n",
            "Accuracy Score train:  0.8763252979799685\n",
            "Accuracy Score test:  0.8123747695314875\n",
            "\n",
            "for max_depth:  20\n",
            "RMSE for train 188508.6868061046\n",
            "RMSE for test 252895.80173808493\n",
            "Accuracy Score train:  0.8895763496652526\n",
            "Accuracy Score test:  0.81727296809092\n",
            "\n",
            "for max_depth:  21\n",
            "RMSE for train 178199.03118741402\n",
            "RMSE for test 245440.62106842594\n",
            "Accuracy Score train:  0.9013243397862678\n",
            "Accuracy Score test:  0.8278874881811051\n",
            "\n",
            "for max_depth:  22\n",
            "RMSE for train 169419.85965733838\n",
            "RMSE for test 241027.85165253966\n",
            "Accuracy Score train:  0.9108075694345057\n",
            "Accuracy Score test:  0.834020665124757\n",
            "\n",
            "for max_depth:  23\n",
            "RMSE for train 159510.76501366784\n",
            "RMSE for test 234398.56300829607\n",
            "Accuracy Score train:  0.9209358949310893\n",
            "Accuracy Score test:  0.8430253764918662\n",
            "\n",
            "for max_depth:  24\n",
            "RMSE for train 149312.5525049273\n",
            "RMSE for test 230622.87735276204\n",
            "Accuracy Score train:  0.930722532498156\n",
            "Accuracy Score test:  0.8480417326933896\n",
            "\n",
            "for max_depth:  25\n",
            "RMSE for train 137445.6364188141\n",
            "RMSE for test 219740.8478627999\n",
            "Accuracy Score train:  0.94129686747247\n",
            "Accuracy Score test:  0.8620438225900582\n",
            "\n",
            "for max_depth:  26\n",
            "RMSE for train 129490.19077439667\n",
            "RMSE for test 217711.8311639989\n",
            "Accuracy Score train:  0.947895755264024\n",
            "Accuracy Score test:  0.864579746755292\n",
            "\n",
            "for max_depth:  27\n",
            "RMSE for train 121555.18637613147\n",
            "RMSE for test 218475.92785040787\n",
            "Accuracy Score train:  0.9540858709278\n",
            "Accuracy Score test:  0.8636275178726158\n",
            "\n",
            "for max_depth:  28\n",
            "RMSE for train 113539.15349282548\n",
            "RMSE for test 210372.70056267316\n",
            "Accuracy Score train:  0.9599418703733035\n",
            "Accuracy Score test:  0.8735559713779322\n",
            "\n",
            "for max_depth:  29\n",
            "RMSE for train 106624.4387824296\n",
            "RMSE for test 208922.81348785345\n",
            "Accuracy Score train:  0.9646725020217889\n",
            "Accuracy Score test:  0.875292867936398\n",
            "\n",
            "for max_depth:  30\n",
            "RMSE for train 102507.34754807747\n",
            "RMSE for test 208679.0982944732\n",
            "Accuracy Score train:  0.9673480324948712\n",
            "Accuracy Score test:  0.8755836480104311\n",
            "\n",
            "for max_depth:  31\n",
            "RMSE for train 98251.82453012283\n",
            "RMSE for test 212802.5084763738\n",
            "Accuracy Score train:  0.9700028073993\n",
            "Accuracy Score test:  0.8706182424491025\n",
            "\n",
            "for max_depth:  32\n",
            "RMSE for train 93563.55095111487\n",
            "RMSE for test 207461.52682641556\n",
            "Accuracy Score train:  0.9727972534299328\n",
            "Accuracy Score test:  0.8770312665553672\n",
            "\n",
            "for max_depth:  33\n",
            "RMSE for train 90178.4597320439\n",
            "RMSE for test 206245.03476843348\n",
            "Accuracy Score train:  0.9747300146559038\n",
            "Accuracy Score test:  0.878469141934585\n",
            "\n",
            "for max_depth:  34\n",
            "RMSE for train 87112.81265885457\n",
            "RMSE for test 210311.56438723058\n",
            "Accuracy Score train:  0.9764189338704496\n",
            "Accuracy Score test:  0.8736294522150301\n",
            "\n",
            "for max_depth:  35\n",
            "RMSE for train 83837.3989093227\n",
            "RMSE for test 205976.3245459816\n",
            "Accuracy Score train:  0.9781588774829982\n",
            "Accuracy Score test:  0.8787856131681341\n",
            "\n",
            "for max_depth:  36\n",
            "RMSE for train 80805.21806227817\n",
            "RMSE for test 201440.54489747077\n",
            "Accuracy Score train:  0.9797101808116264\n",
            "Accuracy Score test:  0.8840653286043523\n",
            "\n",
            "for max_depth:  37\n",
            "RMSE for train 77440.6219671711\n",
            "RMSE for test 204397.08361071465\n",
            "Accuracy Score train:  0.9813646725478773\n",
            "Accuracy Score test:  0.8806372131343544\n",
            "\n",
            "for max_depth:  38\n",
            "RMSE for train 72984.10715972375\n",
            "RMSE for test 198071.42596706416\n",
            "Accuracy Score train:  0.9834477909509282\n",
            "Accuracy Score test:  0.8879109426839138\n",
            "\n",
            "for max_depth:  39\n",
            "RMSE for train 70615.97985172195\n",
            "RMSE for test 197621.36159080995\n",
            "Accuracy Score train:  0.984504508968948\n",
            "Accuracy Score test:  0.8884197488120701\n",
            "\n"
          ]
        }
      ],
      "source": [
        "# Create a list of range from 1 to 39\n",
        "max_depth_range = np.arange(1,40,1)\n",
        "for x in max_depth_range:\n",
        "  # Create a decision tree object with x depth\n",
        "  dt = DecisionTreeRegressor(max_depth= x)\n",
        "  # fit the object to the training dataset\n",
        "  dt.fit(X_train, y_train)\n",
        "  # Predict the training and test output\n",
        "  pred_dt1 = dt.predict(X_train)\n",
        "  pred_dt2 = dt.predict(X_test)\n",
        "  # Printing the rmse and accuracy for training and testing dataset, crossponding to a sepcific depth\n",
        "  print('for max_depth: ', x)\n",
        "  print(\"RMSE for train {}\".format(np.sqrt(mean_squared_error(y_train, pred_dt1))))\n",
        "  print(\"RMSE for test {}\".format(np.sqrt(mean_squared_error(y_test, pred_dt2))))\n",
        "  print('Accuracy Score train: ', dt.score(X_train, y_train))\n",
        "  print('Accuracy Score test: ', dt.score(X_test, y_test))\n",
        "  print()"
      ]
    },
    {
      "cell_type": "markdown",
      "metadata": {
        "id": "vPCmEkY3_aUL"
      },
      "source": [
        "Decision Tree has maximum accuracy at **maximum depth 28** , as training accuracy increases faster than test accuracy."
      ]
    },
    {
      "cell_type": "markdown",
      "metadata": {
        "id": "ynbvHfSzuDKV"
      },
      "source": [
        "### Random Forest Regressor"
      ]
    },
    {
      "cell_type": "code",
      "execution_count": 56,
      "metadata": {
        "colab": {
          "base_uri": "https://localhost:8080/",
          "height": 75
        },
        "id": "WyP5xkl_rkH5",
        "outputId": "28c66670-f7fc-4435-811c-d81a305c0ba4"
      },
      "outputs": [
        {
          "output_type": "execute_result",
          "data": {
            "text/plain": [
              "RandomForestRegressor()"
            ],
            "text/html": [
              "<style>#sk-container-id-3 {color: black;background-color: white;}#sk-container-id-3 pre{padding: 0;}#sk-container-id-3 div.sk-toggleable {background-color: white;}#sk-container-id-3 label.sk-toggleable__label {cursor: pointer;display: block;width: 100%;margin-bottom: 0;padding: 0.3em;box-sizing: border-box;text-align: center;}#sk-container-id-3 label.sk-toggleable__label-arrow:before {content: \"▸\";float: left;margin-right: 0.25em;color: #696969;}#sk-container-id-3 label.sk-toggleable__label-arrow:hover:before {color: black;}#sk-container-id-3 div.sk-estimator:hover label.sk-toggleable__label-arrow:before {color: black;}#sk-container-id-3 div.sk-toggleable__content {max-height: 0;max-width: 0;overflow: hidden;text-align: left;background-color: #f0f8ff;}#sk-container-id-3 div.sk-toggleable__content pre {margin: 0.2em;color: black;border-radius: 0.25em;background-color: #f0f8ff;}#sk-container-id-3 input.sk-toggleable__control:checked~div.sk-toggleable__content {max-height: 200px;max-width: 100%;overflow: auto;}#sk-container-id-3 input.sk-toggleable__control:checked~label.sk-toggleable__label-arrow:before {content: \"▾\";}#sk-container-id-3 div.sk-estimator input.sk-toggleable__control:checked~label.sk-toggleable__label {background-color: #d4ebff;}#sk-container-id-3 div.sk-label input.sk-toggleable__control:checked~label.sk-toggleable__label {background-color: #d4ebff;}#sk-container-id-3 input.sk-hidden--visually {border: 0;clip: rect(1px 1px 1px 1px);clip: rect(1px, 1px, 1px, 1px);height: 1px;margin: -1px;overflow: hidden;padding: 0;position: absolute;width: 1px;}#sk-container-id-3 div.sk-estimator {font-family: monospace;background-color: #f0f8ff;border: 1px dotted black;border-radius: 0.25em;box-sizing: border-box;margin-bottom: 0.5em;}#sk-container-id-3 div.sk-estimator:hover {background-color: #d4ebff;}#sk-container-id-3 div.sk-parallel-item::after {content: \"\";width: 100%;border-bottom: 1px solid gray;flex-grow: 1;}#sk-container-id-3 div.sk-label:hover label.sk-toggleable__label {background-color: #d4ebff;}#sk-container-id-3 div.sk-serial::before {content: \"\";position: absolute;border-left: 1px solid gray;box-sizing: border-box;top: 0;bottom: 0;left: 50%;z-index: 0;}#sk-container-id-3 div.sk-serial {display: flex;flex-direction: column;align-items: center;background-color: white;padding-right: 0.2em;padding-left: 0.2em;position: relative;}#sk-container-id-3 div.sk-item {position: relative;z-index: 1;}#sk-container-id-3 div.sk-parallel {display: flex;align-items: stretch;justify-content: center;background-color: white;position: relative;}#sk-container-id-3 div.sk-item::before, #sk-container-id-3 div.sk-parallel-item::before {content: \"\";position: absolute;border-left: 1px solid gray;box-sizing: border-box;top: 0;bottom: 0;left: 50%;z-index: -1;}#sk-container-id-3 div.sk-parallel-item {display: flex;flex-direction: column;z-index: 1;position: relative;background-color: white;}#sk-container-id-3 div.sk-parallel-item:first-child::after {align-self: flex-end;width: 50%;}#sk-container-id-3 div.sk-parallel-item:last-child::after {align-self: flex-start;width: 50%;}#sk-container-id-3 div.sk-parallel-item:only-child::after {width: 0;}#sk-container-id-3 div.sk-dashed-wrapped {border: 1px dashed gray;margin: 0 0.4em 0.5em 0.4em;box-sizing: border-box;padding-bottom: 0.4em;background-color: white;}#sk-container-id-3 div.sk-label label {font-family: monospace;font-weight: bold;display: inline-block;line-height: 1.2em;}#sk-container-id-3 div.sk-label-container {text-align: center;}#sk-container-id-3 div.sk-container {/* jupyter's `normalize.less` sets `[hidden] { display: none; }` but bootstrap.min.css set `[hidden] { display: none !important; }` so we also need the `!important` here to be able to override the default hidden behavior on the sphinx rendered scikit-learn.org. See: https://github.com/scikit-learn/scikit-learn/issues/21755 */display: inline-block !important;position: relative;}#sk-container-id-3 div.sk-text-repr-fallback {display: none;}</style><div id=\"sk-container-id-3\" class=\"sk-top-container\"><div class=\"sk-text-repr-fallback\"><pre>RandomForestRegressor()</pre><b>In a Jupyter environment, please rerun this cell to show the HTML representation or trust the notebook. <br />On GitHub, the HTML representation is unable to render, please try loading this page with nbviewer.org.</b></div><div class=\"sk-container\" hidden><div class=\"sk-item\"><div class=\"sk-estimator sk-toggleable\"><input class=\"sk-toggleable__control sk-hidden--visually\" id=\"sk-estimator-id-3\" type=\"checkbox\" checked><label for=\"sk-estimator-id-3\" class=\"sk-toggleable__label sk-toggleable__label-arrow\">RandomForestRegressor</label><div class=\"sk-toggleable__content\"><pre>RandomForestRegressor()</pre></div></div></div></div></div>"
            ]
          },
          "metadata": {},
          "execution_count": 56
        }
      ],
      "source": [
        "# Import a Random forest regressor\n",
        "from sklearn.ensemble import RandomForestRegressor\n",
        "# Create an object of the model\n",
        "rfc = RandomForestRegressor()\n",
        "# fit the model into traning dataset\n",
        "rfc.fit(X_train, y_train)"
      ]
    },
    {
      "cell_type": "code",
      "execution_count": 57,
      "metadata": {
        "colab": {
          "base_uri": "https://localhost:8080/"
        },
        "id": "7-Wey9Dduy9x",
        "outputId": "d7fc54eb-f55d-48fd-bffd-143db3b24d80"
      },
      "outputs": [
        {
          "output_type": "stream",
          "name": "stdout",
          "text": [
            "RMSE for train 79878.42988501117\n",
            "RMSE for test 168551.0976349762\n",
            "Accuracy Score train:  0.984504508968948\n",
            "Accuracy Score test:  0.8884197488120701\n"
          ]
        }
      ],
      "source": [
        "#predict the training and test output\n",
        "pred_rfc1 = rfc.predict(X_train)\n",
        "pred_rfc2 = rfc.predict(X_test)\n",
        "# calculating and printing the training and test scores\n",
        "print(\"RMSE for train {}\".format(np.sqrt(mean_squared_error(y_train, pred_rfc1))))\n",
        "print(\"RMSE for test {}\".format(np.sqrt(mean_squared_error(y_test, pred_rfc2))))\n",
        "print('Accuracy Score train: ', dt.score(X_train, y_train))\n",
        "print('Accuracy Score test: ', dt.score(X_test, y_test))"
      ]
    },
    {
      "cell_type": "code",
      "execution_count": 58,
      "metadata": {
        "id": "HGSiy0Bb2wc4",
        "colab": {
          "base_uri": "https://localhost:8080/"
        },
        "outputId": "e5a0587b-24b5-496b-9dfc-3c5139b5a856"
      },
      "outputs": [
        {
          "output_type": "stream",
          "name": "stdout",
          "text": [
            "for max_depth:  1\n",
            "RMSE for train 532225.7881046467\n",
            "RMSE for test 548523.0160893749\n",
            "Accuracy Score train:  0.11978008324128742\n",
            "Accuracy Score test:  0.14037453750916995\n",
            "\n",
            "for max_depth:  2\n",
            "RMSE for train 501651.69678267854\n",
            "RMSE for test 514506.6820400758\n",
            "Accuracy Score train:  0.21800507470702835\n",
            "Accuracy Score test:  0.2436869411294389\n",
            "\n",
            "for max_depth:  3\n",
            "RMSE for train 475475.54358142975\n",
            "RMSE for test 484900.8406240146\n",
            "Accuracy Score train:  0.2974847909955092\n",
            "Accuracy Score test:  0.32822253012924885\n",
            "\n",
            "for max_depth:  4\n",
            "RMSE for train 453049.9946174275\n",
            "RMSE for test 458225.80004193255\n",
            "Accuracy Score train:  0.36218956130404223\n",
            "Accuracy Score test:  0.40010031122659306\n",
            "\n",
            "for max_depth:  5\n",
            "RMSE for train 429098.6272099289\n",
            "RMSE for test 430727.11339037993\n",
            "Accuracy Score train:  0.4278451101854136\n",
            "Accuracy Score test:  0.46994128245980427\n",
            "\n",
            "for max_depth:  6\n",
            "RMSE for train 410458.7398194613\n",
            "RMSE for test 410509.00203025725\n",
            "Accuracy Score train:  0.47647385107720375\n",
            "Accuracy Score test:  0.5185347682672744\n",
            "\n",
            "for max_depth:  7\n",
            "RMSE for train 389788.03294169594\n",
            "RMSE for test 394371.2071252906\n",
            "Accuracy Score train:  0.5278756861176518\n",
            "Accuracy Score test:  0.5556451140421044\n",
            "\n",
            "for max_depth:  8\n",
            "RMSE for train 365262.8280282418\n",
            "RMSE for test 367550.5907078855\n",
            "Accuracy Score train:  0.5854181184237193\n",
            "Accuracy Score test:  0.6140297684445126\n",
            "\n",
            "for max_depth:  9\n",
            "RMSE for train 352026.095655082\n",
            "RMSE for test 354358.2440320694\n",
            "Accuracy Score train:  0.6149216684908101\n",
            "Accuracy Score test:  0.6412394821652962\n",
            "\n",
            "for max_depth:  10\n",
            "RMSE for train 332550.7365587063\n",
            "RMSE for test 338193.22711896314\n",
            "Accuracy Score train:  0.6563509150559317\n",
            "Accuracy Score test:  0.6732245870972725\n",
            "\n",
            "for max_depth:  11\n",
            "RMSE for train 316419.5405214401\n",
            "RMSE for test 324327.6331548317\n",
            "Accuracy Score train:  0.6888814151103706\n",
            "Accuracy Score test:  0.6994702529767549\n",
            "\n",
            "for max_depth:  12\n",
            "RMSE for train 298640.1642533828\n",
            "RMSE for test 310210.7496628529\n",
            "Accuracy Score train:  0.722862180766873\n",
            "Accuracy Score test:  0.7250629637215463\n",
            "\n",
            "for max_depth:  13\n",
            "RMSE for train 279670.4622504316\n",
            "RMSE for test 294907.350509931\n",
            "Accuracy Score train:  0.7569517132195289\n",
            "Accuracy Score test:  0.7515203909292261\n",
            "\n",
            "for max_depth:  14\n",
            "RMSE for train 262321.7058349197\n",
            "RMSE for test 282670.1438487466\n",
            "Accuracy Score train:  0.7861704020908795\n",
            "Accuracy Score test:  0.7717139150327721\n",
            "\n",
            "for max_depth:  15\n",
            "RMSE for train 249113.5202804011\n",
            "RMSE for test 275671.2783812533\n",
            "Accuracy Score train:  0.8071614037394284\n",
            "Accuracy Score test:  0.782878614942244\n",
            "\n",
            "for max_depth:  16\n",
            "RMSE for train 237243.06838993967\n",
            "RMSE for test 266161.6136529711\n",
            "Accuracy Score train:  0.8251013616382824\n",
            "Accuracy Score test:  0.7976000494590169\n",
            "\n",
            "for max_depth:  17\n",
            "RMSE for train 223158.08214407956\n",
            "RMSE for test 258018.01295312078\n",
            "Accuracy Score train:  0.8452521569311201\n",
            "Accuracy Score test:  0.8097960144343241\n",
            "\n",
            "for max_depth:  18\n",
            "RMSE for train 210362.98680004833\n",
            "RMSE for test 246895.68194346625\n",
            "Accuracy Score train:  0.8624888162908971\n",
            "Accuracy Score test:  0.8258407486217318\n",
            "\n",
            "for max_depth:  19\n",
            "RMSE for train 198622.84569525393\n",
            "RMSE for test 237589.4392470422\n",
            "Accuracy Score train:  0.8774092327192395\n",
            "Accuracy Score test:  0.8387224841569256\n",
            "\n",
            "for max_depth:  20\n",
            "RMSE for train 189475.24025530415\n",
            "RMSE for test 233778.84178034865\n",
            "Accuracy Score train:  0.8884410812079175\n",
            "Accuracy Score test:  0.843854322764316\n",
            "\n",
            "for max_depth:  21\n",
            "RMSE for train 180173.8232181421\n",
            "RMSE for test 226586.80125341113\n",
            "Accuracy Score train:  0.899125184810448\n",
            "Accuracy Score test:  0.8533139623756429\n",
            "\n",
            "for max_depth:  22\n",
            "RMSE for train 168694.02193435765\n",
            "RMSE for test 216560.62409503313\n",
            "Accuracy Score train:  0.9115701783893609\n",
            "Accuracy Score test:  0.8660080989029936\n",
            "\n",
            "for max_depth:  23\n",
            "RMSE for train 157194.1151380955\n",
            "RMSE for test 208440.25897384525\n",
            "Accuracy Score train:  0.9232157882258504\n",
            "Accuracy Score test:  0.8758682813262595\n",
            "\n",
            "for max_depth:  24\n",
            "RMSE for train 147409.3848815412\n",
            "RMSE for test 202637.08223543872\n",
            "Accuracy Score train:  0.9324773261738207\n",
            "Accuracy Score test:  0.882683956693039\n",
            "\n",
            "for max_depth:  25\n",
            "RMSE for train 142412.2002726082\n",
            "RMSE for test 200881.27335029983\n",
            "Accuracy Score train:  0.9369777714460684\n",
            "Accuracy Score test:  0.8847081878153539\n",
            "\n",
            "for max_depth:  26\n",
            "RMSE for train 132284.55995318206\n",
            "RMSE for test 194389.40067740995\n",
            "Accuracy Score train:  0.9456226952572421\n",
            "Accuracy Score test:  0.8920395411007371\n",
            "\n",
            "for max_depth:  27\n",
            "RMSE for train 125348.22438248167\n",
            "RMSE for test 191848.74818452782\n",
            "Accuracy Score train:  0.9511757325022658\n",
            "Accuracy Score test:  0.8948431665540992\n",
            "\n",
            "for max_depth:  28\n",
            "RMSE for train 119093.14640428832\n",
            "RMSE for test 187067.94629285953\n",
            "Accuracy Score train:  0.9559269706836648\n",
            "Accuracy Score test:  0.9000188064032696\n",
            "\n",
            "for max_depth:  29\n",
            "RMSE for train 114633.76979354731\n",
            "RMSE for test 188458.6681187818\n",
            "Accuracy Score train:  0.9591657566166326\n",
            "Accuracy Score test:  0.8985266973937949\n",
            "\n",
            "for max_depth:  30\n",
            "RMSE for train 108328.37955974972\n",
            "RMSE for test 183838.81869881705\n",
            "Accuracy Score train:  0.9635343585711833\n",
            "Accuracy Score test:  0.9034407237921029\n",
            "\n",
            "for max_depth:  31\n",
            "RMSE for train 104490.54697353448\n",
            "RMSE for test 180628.67995105096\n",
            "Accuracy Score train:  0.9660723820652085\n",
            "Accuracy Score test:  0.9067834604982176\n",
            "\n",
            "for max_depth:  32\n",
            "RMSE for train 101893.66155774162\n",
            "RMSE for test 182285.2318002852\n",
            "Accuracy Score train:  0.9677378206235718\n",
            "Accuracy Score test:  0.905065836060342\n",
            "\n",
            "for max_depth:  33\n",
            "RMSE for train 98938.87891757624\n",
            "RMSE for test 179817.11034883934\n",
            "Accuracy Score train:  0.9695818124193192\n",
            "Accuracy Score test:  0.9076192276344447\n",
            "\n",
            "for max_depth:  34\n",
            "RMSE for train 96509.22636068128\n",
            "RMSE for test 180850.68156211413\n",
            "Accuracy Score train:  0.9710574340124033\n",
            "Accuracy Score test:  0.9065541841832316\n",
            "\n",
            "for max_depth:  35\n",
            "RMSE for train 93653.75574158152\n",
            "RMSE for test 177138.8736145846\n",
            "Accuracy Score train:  0.9727447757098218\n",
            "Accuracy Score test:  0.9103506143296535\n",
            "\n",
            "for max_depth:  36\n",
            "RMSE for train 90978.13262101774\n",
            "RMSE for test 176801.9434529821\n",
            "Accuracy Score train:  0.9742798557164377\n",
            "Accuracy Score test:  0.9106913284242174\n",
            "\n",
            "for max_depth:  37\n",
            "RMSE for train 88108.66221757948\n",
            "RMSE for test 173262.35321280386\n",
            "Accuracy Score train:  0.9758767077554455\n",
            "Accuracy Score test:  0.9142314678623974\n",
            "\n",
            "for max_depth:  38\n",
            "RMSE for train 85639.2918668793\n",
            "RMSE for test 172643.99601635124\n",
            "Accuracy Score train:  0.9772099384152102\n",
            "Accuracy Score test:  0.9148425752213434\n",
            "\n",
            "for max_depth:  39\n",
            "RMSE for train 83557.67524616029\n",
            "RMSE for test 173151.36793412667\n",
            "Accuracy Score train:  0.9783043802474628\n",
            "Accuracy Score test:  0.9143413127940346\n",
            "\n"
          ]
        }
      ],
      "source": [
        "# Create a list of range from 1 to 39\n",
        "max_depth_range = np.arange(1,40,1)\n",
        "for x in max_depth_range:\n",
        "  # Create a decision tree object with x depth\n",
        "  dt = RandomForestRegressor(max_depth= x)\n",
        "  # fit the object to the training dataset\n",
        "  dt.fit(X_train, y_train)\n",
        "  # Predict the training and test output\n",
        "  pred_xg1 = dt.predict(X_train)\n",
        "  pred_xg2 = dt.predict(X_test)\n",
        "  # Printing the rmse and accuracy for training and testing dataset, crossponding to a sepcific depth\n",
        "  print('for max_depth: ', x)\n",
        "  print(\"RMSE for train {}\".format(np.sqrt(mean_squared_error(y_train, pred_xg1))))\n",
        "  print(\"RMSE for test {}\".format(np.sqrt(mean_squared_error(y_test, pred_xg2))))\n",
        "  print('Accuracy Score train: ', dt.score(X_train, y_train))\n",
        "  print('Accuracy Score test: ', dt.score(X_test, y_test))\n",
        "  print()"
      ]
    },
    {
      "cell_type": "markdown",
      "metadata": {
        "id": "AMjPAWZ-4aEY"
      },
      "source": [
        "In the depth of **31** the **Random Forest Regressor** has its maximum value of accuracy. After that it model seems to be overfitted."
      ]
    },
    {
      "cell_type": "code",
      "execution_count": 68,
      "metadata": {
        "colab": {
          "base_uri": "https://localhost:8080/"
        },
        "id": "D6Yv0koP5OFD",
        "outputId": "6cbfd960-7cf6-4a07-fd5f-c992d303f96a"
      },
      "outputs": [
        {
          "output_type": "stream",
          "name": "stdout",
          "text": [
            "RMSE for train 84708.443928076\n",
            "RMSE for test 172214.6590509041\n",
            "Accuracy Score train:  0.9777026746159331\n",
            "Accuracy Score test:  0.9152655933433324\n"
          ]
        }
      ],
      "source": [
        "# Now create a random forest model at the depth of 36 and make prediction\n",
        "\n",
        "# Creating an Random Forest Object\n",
        "rfc = RandomForestRegressor(max_depth = 31)\n",
        "# Fit the model to the trainig dataset\n",
        "rfc.fit(X_train, y_train)\n",
        "#predict the training and test output\n",
        "pred_rfc1 = rfc.predict(X_train)\n",
        "pred_rfc2 = rfc.predict(X_test)\n",
        "# calculating and printing the training and test scores\n",
        "print(\"RMSE for train {}\".format(np.sqrt(mean_squared_error(y_train, pred_rfc1))))\n",
        "print(\"RMSE for test {}\".format(np.sqrt(mean_squared_error(y_test, pred_rfc2))))\n",
        "print('Accuracy Score train: ', rfc.score(X_train, y_train))\n",
        "print('Accuracy Score test: ', rfc.score(X_test, y_test))"
      ]
    },
    {
      "cell_type": "markdown",
      "metadata": {
        "id": "eT3uhPIBvPpy"
      },
      "source": [
        "### XG Boost Regressor"
      ]
    },
    {
      "cell_type": "code",
      "execution_count": 60,
      "metadata": {
        "id": "1NHxJAtlvMK9",
        "colab": {
          "base_uri": "https://localhost:8080/",
          "height": 248
        },
        "outputId": "90948247-4434-4418-e215-eb4aafb6dd81"
      },
      "outputs": [
        {
          "output_type": "execute_result",
          "data": {
            "text/plain": [
              "XGBRegressor(base_score=None, booster=None, callbacks=None,\n",
              "             colsample_bylevel=None, colsample_bynode=None,\n",
              "             colsample_bytree=None, early_stopping_rounds=None,\n",
              "             enable_categorical=False, eval_metric=None, feature_types=None,\n",
              "             gamma=None, gpu_id=None, grow_policy=None, importance_type=None,\n",
              "             interaction_constraints=None, learning_rate=None, max_bin=None,\n",
              "             max_cat_threshold=None, max_cat_to_onehot=None,\n",
              "             max_delta_step=None, max_depth=None, max_leaves=None,\n",
              "             min_child_weight=None, missing=nan, monotone_constraints=None,\n",
              "             n_estimators=100, n_jobs=None, num_parallel_tree=None,\n",
              "             predictor=None, random_state=None, ...)"
            ],
            "text/html": [
              "<style>#sk-container-id-4 {color: black;background-color: white;}#sk-container-id-4 pre{padding: 0;}#sk-container-id-4 div.sk-toggleable {background-color: white;}#sk-container-id-4 label.sk-toggleable__label {cursor: pointer;display: block;width: 100%;margin-bottom: 0;padding: 0.3em;box-sizing: border-box;text-align: center;}#sk-container-id-4 label.sk-toggleable__label-arrow:before {content: \"▸\";float: left;margin-right: 0.25em;color: #696969;}#sk-container-id-4 label.sk-toggleable__label-arrow:hover:before {color: black;}#sk-container-id-4 div.sk-estimator:hover label.sk-toggleable__label-arrow:before {color: black;}#sk-container-id-4 div.sk-toggleable__content {max-height: 0;max-width: 0;overflow: hidden;text-align: left;background-color: #f0f8ff;}#sk-container-id-4 div.sk-toggleable__content pre {margin: 0.2em;color: black;border-radius: 0.25em;background-color: #f0f8ff;}#sk-container-id-4 input.sk-toggleable__control:checked~div.sk-toggleable__content {max-height: 200px;max-width: 100%;overflow: auto;}#sk-container-id-4 input.sk-toggleable__control:checked~label.sk-toggleable__label-arrow:before {content: \"▾\";}#sk-container-id-4 div.sk-estimator input.sk-toggleable__control:checked~label.sk-toggleable__label {background-color: #d4ebff;}#sk-container-id-4 div.sk-label input.sk-toggleable__control:checked~label.sk-toggleable__label {background-color: #d4ebff;}#sk-container-id-4 input.sk-hidden--visually {border: 0;clip: rect(1px 1px 1px 1px);clip: rect(1px, 1px, 1px, 1px);height: 1px;margin: -1px;overflow: hidden;padding: 0;position: absolute;width: 1px;}#sk-container-id-4 div.sk-estimator {font-family: monospace;background-color: #f0f8ff;border: 1px dotted black;border-radius: 0.25em;box-sizing: border-box;margin-bottom: 0.5em;}#sk-container-id-4 div.sk-estimator:hover {background-color: #d4ebff;}#sk-container-id-4 div.sk-parallel-item::after {content: \"\";width: 100%;border-bottom: 1px solid gray;flex-grow: 1;}#sk-container-id-4 div.sk-label:hover label.sk-toggleable__label {background-color: #d4ebff;}#sk-container-id-4 div.sk-serial::before {content: \"\";position: absolute;border-left: 1px solid gray;box-sizing: border-box;top: 0;bottom: 0;left: 50%;z-index: 0;}#sk-container-id-4 div.sk-serial {display: flex;flex-direction: column;align-items: center;background-color: white;padding-right: 0.2em;padding-left: 0.2em;position: relative;}#sk-container-id-4 div.sk-item {position: relative;z-index: 1;}#sk-container-id-4 div.sk-parallel {display: flex;align-items: stretch;justify-content: center;background-color: white;position: relative;}#sk-container-id-4 div.sk-item::before, #sk-container-id-4 div.sk-parallel-item::before {content: \"\";position: absolute;border-left: 1px solid gray;box-sizing: border-box;top: 0;bottom: 0;left: 50%;z-index: -1;}#sk-container-id-4 div.sk-parallel-item {display: flex;flex-direction: column;z-index: 1;position: relative;background-color: white;}#sk-container-id-4 div.sk-parallel-item:first-child::after {align-self: flex-end;width: 50%;}#sk-container-id-4 div.sk-parallel-item:last-child::after {align-self: flex-start;width: 50%;}#sk-container-id-4 div.sk-parallel-item:only-child::after {width: 0;}#sk-container-id-4 div.sk-dashed-wrapped {border: 1px dashed gray;margin: 0 0.4em 0.5em 0.4em;box-sizing: border-box;padding-bottom: 0.4em;background-color: white;}#sk-container-id-4 div.sk-label label {font-family: monospace;font-weight: bold;display: inline-block;line-height: 1.2em;}#sk-container-id-4 div.sk-label-container {text-align: center;}#sk-container-id-4 div.sk-container {/* jupyter's `normalize.less` sets `[hidden] { display: none; }` but bootstrap.min.css set `[hidden] { display: none !important; }` so we also need the `!important` here to be able to override the default hidden behavior on the sphinx rendered scikit-learn.org. See: https://github.com/scikit-learn/scikit-learn/issues/21755 */display: inline-block !important;position: relative;}#sk-container-id-4 div.sk-text-repr-fallback {display: none;}</style><div id=\"sk-container-id-4\" class=\"sk-top-container\"><div class=\"sk-text-repr-fallback\"><pre>XGBRegressor(base_score=None, booster=None, callbacks=None,\n",
              "             colsample_bylevel=None, colsample_bynode=None,\n",
              "             colsample_bytree=None, early_stopping_rounds=None,\n",
              "             enable_categorical=False, eval_metric=None, feature_types=None,\n",
              "             gamma=None, gpu_id=None, grow_policy=None, importance_type=None,\n",
              "             interaction_constraints=None, learning_rate=None, max_bin=None,\n",
              "             max_cat_threshold=None, max_cat_to_onehot=None,\n",
              "             max_delta_step=None, max_depth=None, max_leaves=None,\n",
              "             min_child_weight=None, missing=nan, monotone_constraints=None,\n",
              "             n_estimators=100, n_jobs=None, num_parallel_tree=None,\n",
              "             predictor=None, random_state=None, ...)</pre><b>In a Jupyter environment, please rerun this cell to show the HTML representation or trust the notebook. <br />On GitHub, the HTML representation is unable to render, please try loading this page with nbviewer.org.</b></div><div class=\"sk-container\" hidden><div class=\"sk-item\"><div class=\"sk-estimator sk-toggleable\"><input class=\"sk-toggleable__control sk-hidden--visually\" id=\"sk-estimator-id-4\" type=\"checkbox\" checked><label for=\"sk-estimator-id-4\" class=\"sk-toggleable__label sk-toggleable__label-arrow\">XGBRegressor</label><div class=\"sk-toggleable__content\"><pre>XGBRegressor(base_score=None, booster=None, callbacks=None,\n",
              "             colsample_bylevel=None, colsample_bynode=None,\n",
              "             colsample_bytree=None, early_stopping_rounds=None,\n",
              "             enable_categorical=False, eval_metric=None, feature_types=None,\n",
              "             gamma=None, gpu_id=None, grow_policy=None, importance_type=None,\n",
              "             interaction_constraints=None, learning_rate=None, max_bin=None,\n",
              "             max_cat_threshold=None, max_cat_to_onehot=None,\n",
              "             max_delta_step=None, max_depth=None, max_leaves=None,\n",
              "             min_child_weight=None, missing=nan, monotone_constraints=None,\n",
              "             n_estimators=100, n_jobs=None, num_parallel_tree=None,\n",
              "             predictor=None, random_state=None, ...)</pre></div></div></div></div></div>"
            ]
          },
          "metadata": {},
          "execution_count": 60
        }
      ],
      "source": [
        "# Import the XGB Regressor\n",
        "from xgboost import XGBRegressor\n",
        "# Create an object of the model\n",
        "xg = XGBRegressor()\n",
        "# fit the model into traning dataset\n",
        "xg.fit(X_train, y_train)"
      ]
    },
    {
      "cell_type": "code",
      "execution_count": 61,
      "metadata": {
        "colab": {
          "base_uri": "https://localhost:8080/"
        },
        "id": "6vNkacpIwbn_",
        "outputId": "0e798277-0a9d-49da-b20f-cd8c44ba007e"
      },
      "outputs": [
        {
          "output_type": "stream",
          "name": "stdout",
          "text": [
            "RMSE for train 125950.57105649177\n",
            "RMSE for test 181124.36302942754\n"
          ]
        }
      ],
      "source": [
        "#predict the training and test output\n",
        "pred_xg1 = xg.predict(X_train)\n",
        "pred_xg2 = xg.predict(X_test)\n",
        "# calculating and printing the training and test scores\n",
        "print(\"RMSE for train {}\".format(np.sqrt(mean_squared_error(y_train, pred_xg1))))\n",
        "print(\"RMSE for test {}\".format(np.sqrt(mean_squared_error(y_test, pred_xg2))))"
      ]
    },
    {
      "cell_type": "code",
      "execution_count": 62,
      "metadata": {
        "id": "hTsFSkZPw-0I",
        "scrolled": true,
        "colab": {
          "base_uri": "https://localhost:8080/"
        },
        "outputId": "f30a12f4-aeca-4893-caf1-6dc10c08431f"
      },
      "outputs": [
        {
          "output_type": "stream",
          "name": "stdout",
          "text": [
            "for max_depth:  1\n",
            "RMSE for train 255185.17361079602\n",
            "RMSE for test 266867.4225805501\n",
            "Accuracy Score train:  0.7976467240156814\n",
            "Accuracy Score test:  0.7965251754165059\n",
            "\n",
            "for max_depth:  2\n",
            "RMSE for train 194116.22612836442\n",
            "RMSE for test 214167.38718582146\n",
            "Accuracy Score train:  0.882909127373765\n",
            "Accuracy Score test:  0.8689532553416115\n",
            "\n",
            "for max_depth:  3\n",
            "RMSE for train 161900.37318417116\n",
            "RMSE for test 190031.25444462924\n",
            "Accuracy Score train:  0.9185492545692889\n",
            "Accuracy Score test:  0.8968261514254144\n",
            "\n",
            "for max_depth:  4\n",
            "RMSE for train 148031.41347008938\n",
            "RMSE for test 186351.9242907797\n",
            "Accuracy Score train:  0.931906268229969\n",
            "Accuracy Score test:  0.9007827184380748\n",
            "\n",
            "for max_depth:  5\n",
            "RMSE for train 136057.75181278677\n",
            "RMSE for test 183055.0945897216\n",
            "Accuracy Score train:  0.9424764149691621\n",
            "Accuracy Score test:  0.9042622535023248\n",
            "\n",
            "for max_depth:  6\n",
            "RMSE for train 125950.57105649177\n",
            "RMSE for test 181124.36302942754\n",
            "Accuracy Score train:  0.9507053661063319\n",
            "Accuracy Score test:  0.9062711469434945\n",
            "\n",
            "for max_depth:  7\n",
            "RMSE for train 118781.93141237691\n",
            "RMSE for test 185637.17249328826\n",
            "Accuracy Score train:  0.9561570135746326\n",
            "Accuracy Score test:  0.9015423535441563\n",
            "\n",
            "for max_depth:  8\n",
            "RMSE for train 113137.18189186505\n",
            "RMSE for test 186151.51788713512\n",
            "Accuracy Score train:  0.9602250101714451\n",
            "Accuracy Score test:  0.9009960039939501\n",
            "\n",
            "for max_depth:  9\n",
            "RMSE for train 107224.11570409777\n",
            "RMSE for test 182910.1590268316\n",
            "Accuracy Score train:  0.9642740068918905\n",
            "Accuracy Score test:  0.904413795977135\n",
            "\n",
            "for max_depth:  10\n",
            "RMSE for train 102795.5135646632\n",
            "RMSE for test 182301.64629057984\n",
            "Accuracy Score train:  0.9671641937151596\n",
            "Accuracy Score test:  0.9050487379547166\n",
            "\n",
            "for max_depth:  11\n",
            "RMSE for train 100104.79522747686\n",
            "RMSE for test 181626.4732582502\n",
            "Accuracy Score train:  0.968860679832559\n",
            "Accuracy Score test:  0.9057507592093441\n",
            "\n",
            "for max_depth:  12\n",
            "RMSE for train 95561.24669304659\n",
            "RMSE for test 183278.0605408051\n",
            "Accuracy Score train:  0.9716232288653116\n",
            "Accuracy Score test:  0.9040288892476582\n",
            "\n",
            "for max_depth:  13\n",
            "RMSE for train 93199.63198009461\n",
            "RMSE for test 176225.27621927747\n",
            "Accuracy Score train:  0.9730084541168367\n",
            "Accuracy Score test:  0.911272966766677\n",
            "\n",
            "for max_depth:  14\n",
            "RMSE for train 88807.4529428452\n",
            "RMSE for test 174012.44415661754\n",
            "Accuracy Score train:  0.975492546209773\n",
            "Accuracy Score test:  0.9134872385881848\n",
            "\n"
          ]
        }
      ],
      "source": [
        "# Create a list of range from 1 to 14\n",
        "\n",
        "max_depth_range = np.arange(1,15,1)\n",
        "\n",
        "\n",
        "for x in max_depth_range:\n",
        "  # Create a decision tree object with x depth\n",
        "  dt = XGBRegressor(max_depth= x)\n",
        "  # Fit the model to the trainig dataset\n",
        "  dt.fit(X_train, y_train)\n",
        "  # Predict the training and test output\n",
        "  pred_xg1 = dt.predict(X_train)\n",
        "  pred_xg2 = dt.predict(X_test)\n",
        "  # Printing the rmse and accuracy for training and testing dataset, crossponding to a sepcific depth\n",
        "  print('for max_depth: ', x)\n",
        "  print(\"RMSE for train {}\".format(np.sqrt(mean_squared_error(y_train, pred_xg1))))\n",
        "  print(\"RMSE for test {}\".format(np.sqrt(mean_squared_error(y_test, pred_xg2))))\n",
        "  print('Accuracy Score train: ', dt.score(X_train, y_train))\n",
        "  print('Accuracy Score test: ', dt.score(X_test, y_test))\n",
        "  print()"
      ]
    },
    {
      "cell_type": "markdown",
      "metadata": {
        "id": "vl_Nj4Z3ysbg"
      },
      "source": [
        "It means **maximun depth 4** has best value of Accuracy. After that models test accuracy remain constant and only train accuracy increases."
      ]
    },
    {
      "cell_type": "code",
      "execution_count": 69,
      "metadata": {
        "colab": {
          "base_uri": "https://localhost:8080/"
        },
        "id": "Lxz4Cgl9x380",
        "outputId": "4f88eeac-11f4-421c-ee49-1a23c8bb63a4"
      },
      "outputs": [
        {
          "output_type": "stream",
          "name": "stdout",
          "text": [
            "RMSE for train 148031.41347008938\n",
            "RMSE for test 186351.9242907797\n",
            "Accuracy Score train:  0.931906268229969\n",
            "Accuracy Score test:  0.9007827184380748\n"
          ]
        }
      ],
      "source": [
        "# Create an object of the model\n",
        "xg = XGBRegressor(max_depth = 4)\n",
        "xg.fit(X_train, y_train)\n",
        "#predict the training and test output\n",
        "pred_xg1 = xg.predict(X_train)\n",
        "pred_xg2 = xg.predict(X_test)\n",
        "# calculating and printing the training and test scores\n",
        "print(\"RMSE for train {}\".format(np.sqrt(mean_squared_error(y_train, pred_xg1))))\n",
        "print(\"RMSE for test {}\".format(np.sqrt(mean_squared_error(y_test, pred_xg2))))\n",
        "print('Accuracy Score train: ', xg.score(X_train, y_train))\n",
        "print('Accuracy Score test: ', xg.score(X_test, y_test))"
      ]
    },
    {
      "cell_type": "markdown",
      "metadata": {
        "id": "xKGedPiHEM-_"
      },
      "source": [
        "Among the method XGBoost is the best method for the data set"
      ]
    },
    {
      "cell_type": "markdown",
      "metadata": {
        "id": "xXCWIMqCEhbu"
      },
      "source": [
        "By Comparising the Linear and XGBoost we can conclude that linear Regression the best suited for the above data set"
      ]
    },
    {
      "cell_type": "code",
      "execution_count": 67,
      "metadata": {
        "id": "bagD1h3yH3p2"
      },
      "outputs": [],
      "source": []
    }
  ],
  "metadata": {
    "colab": {
      "provenance": []
    },
    "kernelspec": {
      "display_name": "Python 3",
      "name": "python3"
    },
    "language_info": {
      "codemirror_mode": {
        "name": "ipython",
        "version": 3
      },
      "file_extension": ".py",
      "mimetype": "text/x-python",
      "name": "python",
      "nbconvert_exporter": "python",
      "pygments_lexer": "ipython3",
      "version": "3.10.8"
    },
    "accelerator": "TPU"
  },
  "nbformat": 4,
  "nbformat_minor": 0
}